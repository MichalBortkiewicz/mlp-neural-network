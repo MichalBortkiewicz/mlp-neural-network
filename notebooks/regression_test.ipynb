{
 "cells": [
  {
   "cell_type": "code",
   "execution_count": 1,
   "metadata": {},
   "outputs": [],
   "source": [
    "import sys\n",
    "sys.path.append(\"../\")"
   ]
  },
  {
   "cell_type": "code",
   "execution_count": 2,
   "metadata": {},
   "outputs": [],
   "source": [
    "from src.nnsrc.dense import NeuralNetwork"
   ]
  },
  {
   "cell_type": "code",
   "execution_count": 3,
   "metadata": {},
   "outputs": [],
   "source": [
    "import pandas as pd\n",
    "import numpy as np\n",
    "from sklearn.preprocessing import MinMaxScaler"
   ]
  },
  {
   "cell_type": "code",
   "execution_count": 4,
   "metadata": {},
   "outputs": [],
   "source": [
    "from matplotlib.pyplot import plot, legend, show, errorbar"
   ]
  },
  {
   "cell_type": "code",
   "execution_count": 5,
   "metadata": {},
   "outputs": [],
   "source": [
    "data = pd.read_csv('../src/data/regression/data.cube.train.100.csv')\n",
    "X = data[[\"x\"]].values\n",
    "Y = data[\"y\"].values.reshape(-1,1)"
   ]
  },
  {
   "cell_type": "code",
   "execution_count": 6,
   "metadata": {},
   "outputs": [],
   "source": [
    "test_data = pd.read_csv('../src/data/regression/data.cube.test.100.csv')\n",
    "test_X = test_data[[\"x\"]].values\n",
    "test_Y = test_data['y'].values.reshape(-1,1)"
   ]
  },
  {
   "cell_type": "code",
   "execution_count": 7,
   "metadata": {},
   "outputs": [],
   "source": [
    "def train(data, X, Y, test_data, test_X, test_Y, scale_x=False, scale_y=False, alpha=0.7, epochs=15000, batch_size=32, beta=0.9,\n",
    "                    n_neurons_per_layer=[1, 50, 50, 50, 1], act_funcs=['relu','relu', 'relu', 'relu', 'linear'],\n",
    "                    use_bias=True, problem='regression', seed=1, verbose=True, error_function=None):\n",
    "    X = X.copy()\n",
    "    Y = Y.copy()\n",
    "    test_X = test_X.copy()\n",
    "    test_Y = test_Y.copy()\n",
    "    X_train_scaler = MinMaxScaler((0,1))\n",
    "    Y_train_scaler = MinMaxScaler((0,1))\n",
    "    if scale_x:\n",
    "        X = X_train_scaler.fit_transform(X)\n",
    "        test_X = X_train_scaler.transform(test_X)\n",
    "    if scale_y:\n",
    "        Y = Y_train_scaler.fit_transform(Y)\n",
    "        test_Y = Y_train_scaler.transform(test_Y)\n",
    "    n_layers = len(n_neurons_per_layer)\n",
    "    nn2 = NeuralNetwork(seed=seed, n_layers=n_layers,\n",
    "                    n_neurons_per_layer=n_neurons_per_layer, act_funcs=act_funcs, error_function=error_function,\n",
    "                    bias=use_bias, problem=problem)\n",
    "\n",
    "    if verbose:\n",
    "        for layer in nn2.layers:\n",
    "            print(layer.name, layer.input_dim, layer.output_dim)\n",
    "        \n",
    "    training_history= nn2.train(X.T, Y, alpha=alpha, epochs=epochs, batch_size=batch_size, beta=beta, full_history=False)\n",
    "    #return history, grads_values\n",
    "    #return history\n",
    "    if verbose:\n",
    "        plot(training_history['metrics'])\n",
    "        show()\n",
    "    \n",
    "    y_hat = nn2.predict(X.T).reshape(-1,1)\n",
    "    train_score = 1 - np.linalg.norm(y_hat - Y)/(np.linalg.norm(Y.mean()-Y))\n",
    "\n",
    "    if verbose:\n",
    "        print('train l2 norm:', np.linalg.norm(y_hat - Y))\n",
    "        print('train r2 score:', train_score)\n",
    "    \n",
    "    if scale_y:\n",
    "        y_hat = Y_train_scaler.inverse_transform(y_hat)\n",
    "        #y_hat = MinMaxScaler().fit_transform(y_hat.reshape(-1,1))\n",
    "        \n",
    "    data['y_predicted'] = y_hat\n",
    "    if verbose:\n",
    "        plot(*zip(*sorted(zip(data.x, data.y))), label='train data')\n",
    "        plot(*zip(*sorted(zip(data.x, data.y_predicted))), label='train pred')\n",
    "        legend()\n",
    "        show()\n",
    "    \n",
    "    test_y_hat = nn2.predict(test_X.T).reshape(-1,1)\n",
    "    test_score = 1 - np.linalg.norm(test_y_hat - test_Y)/(np.linalg.norm(test_Y.mean()-test_Y))\n",
    "    \n",
    "    if verbose:\n",
    "        print('test l2 norm:', np.linalg.norm(test_y_hat - test_Y))\n",
    "        print('test r2 score:', test_score)\n",
    "    \n",
    "    if scale_y:\n",
    "        test_y_hat = Y_train_scaler.inverse_transform(test_y_hat)\n",
    "        #y_hat = MinMaxScaler().fit_transform(y_hat.reshape(-1,1))\n",
    "        \n",
    "    test_data['y_predicted'] = test_y_hat\n",
    "    if verbose:\n",
    "        plot(*zip(*sorted(zip(test_data.x, test_data.y))), label='test data')\n",
    "        plot(*zip(*sorted(zip(test_data.x, test_data.y_predicted))), label='test pred')\n",
    "        legend()\n",
    "        show()\n",
    "    return training_history, train_score, test_score"
   ]
  },
  {
   "cell_type": "code",
   "execution_count": 8,
   "metadata": {},
   "outputs": [],
   "source": [
    "# EXPERIMENT 2"
   ]
  },
  {
   "cell_type": "code",
   "execution_count": 9,
   "metadata": {},
   "outputs": [
    {
     "name": "stdout",
     "output_type": "stream",
     "text": [
      "Dense_0 1 1\n",
      "Dense_1 1 32\n",
      "Dense_2 32 32\n",
      "Dense_3 32 1\n"
     ]
    },
    {
     "data": {
      "image/png": "[encoded data removed]",
      "text/plain": [
       "<Figure size 432x288 with 1 Axes>"
      ]
     },
     "metadata": {
      "needs_background": "light"
     },
     "output_type": "display_data"
    },
    {
     "name": "stdout",
     "output_type": "stream",
     "text": [
      "train l2 norm: 2.090955571814816\n",
      "train r2 score: -0.06514231115883495\n"
     ]
    },
    {
     "data": {
      "image/png": "[encoded data removed]",
      "text/plain": [
       "<Figure size 432x288 with 1 Axes>"
      ]
     },
     "metadata": {
      "needs_background": "light"
     },
     "output_type": "display_data"
    },
    {
     "name": "stdout",
     "output_type": "stream",
     "text": [
      "test l2 norm: 47.80021970920608\n",
      "test r2 score: -0.06471885773836239\n"
     ]
    },
    {
     "data": {
      "image/png": "[encoded data removed]",
      "text/plain": [
       "<Figure size 432x288 with 1 Axes>"
      ]
     },
     "metadata": {
      "needs_background": "light"
     },
     "output_type": "display_data"
    }
   ],
   "source": [
    "config = {'scale_x': True,\n",
    " 'scale_y': True,\n",
    " 'alpha': 1.0,\n",
    " 'epochs': 5000,\n",
    " 'batch_size': 50,\n",
    " 'beta': 0.9,\n",
    " 'n_neurons_per_layer': [1, 32, 32, 1],\n",
    " 'act_funcs': ['relu', 'relu', 'relu', 'linear'],\n",
    " 'use_bias': True,\n",
    " 'error_function': 'l1'}\n",
    "training_history, train_score, test_score = train(data, X, Y, test_data, test_X, test_Y, **config, problem='regression')"
   ]
  },
  {
   "cell_type": "code",
   "execution_count": 10,
   "metadata": {},
   "outputs": [
    {
     "ename": "NameError",
     "evalue": "name 'stoph' is not defined",
     "output_type": "error",
     "traceback": [
      "\u001b[0;31m---------------------------------------------------------------------------\u001b[0m",
      "\u001b[0;31mNameError\u001b[0m                                 Traceback (most recent call last)",
      "\u001b[0;32m<ipython-input-10-056dc8c3d78a>\u001b[0m in \u001b[0;36m<module>\u001b[0;34m\u001b[0m\n\u001b[0;32m----> 1\u001b[0;31m \u001b[0mstoph\u001b[0m\u001b[0;34m\u001b[0m\u001b[0;34m\u001b[0m\u001b[0m\n\u001b[0m",
      "\u001b[0;31mNameError\u001b[0m: name 'stoph' is not defined"
     ]
    }
   ],
   "source": [
    "stoph"
   ]
  },
  {
   "cell_type": "code",
   "execution_count": null,
   "metadata": {},
   "outputs": [],
   "source": [
    "# EXPERIMENT 1"
   ]
  },
  {
   "cell_type": "code",
   "execution_count": null,
   "metadata": {},
   "outputs": [],
   "source": [
    "scale_x = True\n",
    "scale_y = True\n",
    "#alpha=0.7\n",
    "#epochs=1000\n",
    "batch_size=50\n",
    "beta=0.9\n",
    "#activation_function = 'relu'\n",
    "use_bias=True\n",
    "\n",
    "outs = []\n",
    "\n",
    "import statistics\n",
    "for alpha in [0.7, 0.3, 1.]:\n",
    "    #neurons_in_hidden_layer in [16, 32, 64]\n",
    "    for activation_function in ['relu', 'sigmoid', 'linear']:\n",
    "        for nr_of_hidden_layers in [0, 1, 2, 3, 4]:\n",
    "            for neurons_in_hidden_layer in [16, 32, 64]:\n",
    "                n_neurons_per_layer=[1] + [neurons_in_hidden_layer]*nr_of_hidden_layers + [1]\n",
    "                act_funcs=[activation_function]*(nr_of_hidden_layers+1)+['linear']\n",
    "                \n",
    "                for epochs in [100, 500, 1000, 2000, 5000]:\n",
    "                    print('got epoch')\n",
    "                    train_scores = []\n",
    "                    test_scores = []\n",
    "                    config = {'scale_x': scale_x,\n",
    "                                 'scale_y': scale_y,\n",
    "                                 'alpha': alpha,\n",
    "                                 'epochs': epochs,\n",
    "                                 'batch_size': batch_size,\n",
    "                                 'beta': beta,\n",
    "                                 'n_neurons_per_layer': n_neurons_per_layer,\n",
    "                                 'act_funcs': act_funcs,\n",
    "                                 'use_bias': use_bias}\n",
    "                    print('running config:', config)\n",
    "                    \n",
    "                    for seed in range(10):\n",
    "                        training_history, train_score, test_score = train(data, X, Y, test_data, test_X, test_Y, \n",
    "                                                                          **config,\n",
    "                                                                          problem='regression', seed=seed, verbose=False)\n",
    "                        train_scores.append(train_score)\n",
    "                        test_scores.append(test_score)\n",
    "                        print('got seed',seed)\n",
    "\n",
    "                    train_values = statistics.mean(train_scores), statistics.stdev(train_scores)\n",
    "                    test_values = statistics.mean(test_scores), statistics.stdev(test_scores)\n",
    "                    outs.append((config, train_values, test_values))\n",
    "                    print(train_values, test_values)\n",
    "                    if nr_of_hidden_layers == 0:\n",
    "                        break\n",
    "import pickle\n",
    "with open('exp_1.pickle', 'wb') as handle:\n",
    "    pickle.dump(outs, handle)\n"
   ]
  },
  {
   "cell_type": "code",
   "execution_count": null,
   "metadata": {},
   "outputs": [],
   "source": [
    "# OR"
   ]
  },
  {
   "cell_type": "code",
   "execution_count": null,
   "metadata": {},
   "outputs": [],
   "source": [
    "import pickle\n",
    "\n",
    "file = open('exp_1.pickle', 'rb')\n",
    "outs = pickle.load(file)\n",
    "file.close()"
   ]
  },
  {
   "cell_type": "code",
   "execution_count": null,
   "metadata": {},
   "outputs": [],
   "source": [
    "# best architecture\n",
    "\n",
    "config = outs[404][0]"
   ]
  },
  {
   "cell_type": "code",
   "execution_count": null,
   "metadata": {},
   "outputs": [],
   "source": [
    "config"
   ]
  },
  {
   "cell_type": "code",
   "execution_count": null,
   "metadata": {},
   "outputs": [],
   "source": [
    "training_history, train_score, test_score = train(data, X, Y, test_data, test_X, test_Y, **config, problem='regression')"
   ]
  },
  {
   "cell_type": "code",
   "execution_count": null,
   "metadata": {},
   "outputs": [],
   "source": [
    "# best SIGMOID architecture\n",
    "\n",
    "config = outs[448][0]\n",
    "config"
   ]
  },
  {
   "cell_type": "code",
   "execution_count": null,
   "metadata": {},
   "outputs": [],
   "source": [
    "training_history, train_score, test_score = train(data, X, Y, test_data, test_X, test_Y, **config, problem='regression')"
   ]
  },
  {
   "cell_type": "code",
   "execution_count": null,
   "metadata": {},
   "outputs": [],
   "source": [
    "# best LINEAR architecture\n",
    "\n",
    "config = outs[322][0]\n",
    "config"
   ]
  },
  {
   "cell_type": "code",
   "execution_count": null,
   "metadata": {},
   "outputs": [],
   "source": [
    "training_history, train_score, test_score = train(data, X, Y, test_data, test_X, test_Y, **config, problem='regression')"
   ]
  },
  {
   "cell_type": "code",
   "execution_count": null,
   "metadata": {},
   "outputs": [],
   "source": [
    "df = pd.DataFrame([{**conf, 'train_mean': train_mean, 'train_std': train_std, 'test_mean': test_mean,'test_std':test_std, 'nn_p_layer': conf['n_neurons_per_layer'][1] if len(conf['n_neurons_per_layer'])>2 else 0, 'act_func': conf['act_funcs'][0], 'n_hidden_layers': len(conf['n_neurons_per_layer'])-2} for conf,(train_mean, train_std),(test_mean, test_std) in outs])"
   ]
  },
  {
   "cell_type": "code",
   "execution_count": null,
   "metadata": {},
   "outputs": [],
   "source": [
    "df[df.test_mean.isna()]"
   ]
  },
  {
   "cell_type": "code",
   "execution_count": null,
   "metadata": {},
   "outputs": [],
   "source": [
    "df.sort_values(by='test_mean', ascending=False).dropna().head(15)"
   ]
  },
  {
   "cell_type": "code",
   "execution_count": null,
   "metadata": {},
   "outputs": [],
   "source": [
    "df[df.act_func=='sigmoid'].sort_values(by='test_mean', ascending=False).dropna().head(15)"
   ]
  },
  {
   "cell_type": "code",
   "execution_count": null,
   "metadata": {},
   "outputs": [],
   "source": [
    "df[df.act_func=='linear'].sort_values(by='test_mean', ascending=False).dropna()"
   ]
  },
  {
   "cell_type": "code",
   "execution_count": null,
   "metadata": {},
   "outputs": [],
   "source": [
    "best_learning = df[(df.act_func=='relu') & (df.alpha==1) & (df.nn_p_layer==32) & (df.n_hidden_layers==2)]"
   ]
  },
  {
   "cell_type": "code",
   "execution_count": null,
   "metadata": {},
   "outputs": [],
   "source": [
    "errorbar(best_learning.epochs, best_learning.train_mean, yerr=best_learning.train_std)\n",
    "errorbar(best_learning.epochs, best_learning.test_mean, yerr=best_learning.test_std)"
   ]
  }
 ],
 "metadata": {
  "kernelspec": {
   "display_name": "Python 3",
   "language": "python",
   "name": "python3"
  },
  "language_info": {
   "codemirror_mode": {
    "name": "ipython",
    "version": 3
   },
   "file_extension": ".py",
   "mimetype": "text/x-python",
   "name": "python",
   "nbconvert_exporter": "python",
   "pygments_lexer": "ipython3",
   "version": "3.8.0"
  }
 },
 "nbformat": 4,
 "nbformat_minor": 4
}
