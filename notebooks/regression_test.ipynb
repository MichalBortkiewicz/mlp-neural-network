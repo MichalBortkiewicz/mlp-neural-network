{
 "cells": [
  {
   "cell_type": "code",
   "execution_count": 1,
   "metadata": {},
   "outputs": [],
   "source": [
    "import sys\n",
    "sys.path.append(\"../\")"
   ]
  },
  {
   "cell_type": "code",
   "execution_count": 2,
   "metadata": {},
   "outputs": [],
   "source": [
    "from src.nnsrc.dense import NeuralNetwork"
   ]
  },
  {
   "cell_type": "code",
   "execution_count": 3,
   "metadata": {},
   "outputs": [],
   "source": [
    "import pandas as pd\n",
    "import numpy as np\n",
    "from sklearn.preprocessing import MinMaxScaler"
   ]
  },
  {
   "cell_type": "code",
   "execution_count": 4,
   "metadata": {},
   "outputs": [],
   "source": [
    "from matplotlib.pyplot import plot, legend, show"
   ]
  },
  {
   "cell_type": "code",
   "execution_count": 5,
   "metadata": {},
   "outputs": [],
   "source": [
    "data = pd.read_csv('../src/data/regression/data.cube.train.100.csv')\n",
    "X = data[[\"x\"]].values\n",
    "Y = data[\"y\"].values.reshape(-1,1)"
   ]
  },
  {
   "cell_type": "code",
   "execution_count": 6,
   "metadata": {},
   "outputs": [],
   "source": [
    "test_data = pd.read_csv('../src/data/regression/data.cube.test.100.csv')\n",
    "test_X = test_data[[\"x\"]].values\n",
    "test_Y = test_data['y'].values.reshape(-1,1)"
   ]
  },
  {
   "cell_type": "code",
   "execution_count": 26,
   "metadata": {},
   "outputs": [],
   "source": [
    "def train(data, X, Y, test_data, test_X, test_Y, scale_x=False, scale_y=False, alpha=0.7, epochs=15000, batch_size=32, beta=0.9,\n",
    "                    n_neurons_per_layer=[1, 50, 50, 50, 1], act_funcs=['relu','relu', 'relu', 'relu', 'linear'],\n",
    "                    use_bias=True, problem='regression', seed=1, verbose=True):\n",
    "    X = X.copy()\n",
    "    Y = Y.copy()\n",
    "    test_X = test_X.copy()\n",
    "    test_Y = test_Y.copy()\n",
    "    X_train_scaler = MinMaxScaler((0,1))\n",
    "    Y_train_scaler = MinMaxScaler((0,1))\n",
    "    if scale_x:\n",
    "        X = X_train_scaler.fit_transform(X)\n",
    "        test_X = X_train_scaler.transform(test_X)\n",
    "    if scale_y:\n",
    "        Y = Y_train_scaler.fit_transform(Y)\n",
    "        test_Y = Y_train_scaler.transform(test_Y)\n",
    "    n_layers = len(n_neurons_per_layer)\n",
    "    nn2 = NeuralNetwork(seed=seed, n_layers=n_layers,\n",
    "                    n_neurons_per_layer=n_neurons_per_layer, act_funcs=act_funcs,\n",
    "                    bias=use_bias, problem=problem)\n",
    "\n",
    "    if verbose:\n",
    "        for layer in nn2.layers:\n",
    "            print(layer.name, layer.input_dim, layer.output_dim)\n",
    "        \n",
    "    training_history= nn2.train(X.T, Y, alpha=alpha, epochs=epochs, batch_size=batch_size, beta=beta)\n",
    "    #return history, grads_values\n",
    "    #return history\n",
    "    if verbose:\n",
    "        plot(history['metrics'])\n",
    "        show()\n",
    "    \n",
    "    y_hat = nn2.predict(X.T).reshape(-1,1)\n",
    "    train_score = 1 - np.linalg.norm(y_hat - Y)/(np.linalg.norm(Y.mean()-Y))\n",
    "\n",
    "    if verbose:\n",
    "        print('train l2 norm:', np.linalg.norm(y_hat - Y))\n",
    "        print('train r2 score:', train_score)\n",
    "    \n",
    "    if scale_y:\n",
    "        y_hat = Y_train_scaler.inverse_transform(y_hat)\n",
    "        #y_hat = MinMaxScaler().fit_transform(y_hat.reshape(-1,1))\n",
    "        \n",
    "    data['y_predicted'] = y_hat\n",
    "    if verbose:\n",
    "        plot(*zip(*sorted(zip(data.x, data.y))), label='train data')\n",
    "        plot(*zip(*sorted(zip(data.x, data.y_predicted))), label='train pred')\n",
    "        legend()\n",
    "        show()\n",
    "    \n",
    "    test_y_hat = nn2.predict(test_X.T).reshape(-1,1)\n",
    "    test_score = 1 - np.linalg.norm(test_y_hat - test_Y)/(np.linalg.norm(test_Y.mean()-test_Y))\n",
    "    \n",
    "    if verbose:\n",
    "        print('test l2 norm:', np.linalg.norm(test_y_hat - test_Y))\n",
    "        print('test r2 score:', test_score)\n",
    "    \n",
    "    if scale_y:\n",
    "        test_y_hat = Y_train_scaler.inverse_transform(test_y_hat)\n",
    "        #y_hat = MinMaxScaler().fit_transform(y_hat.reshape(-1,1))\n",
    "        \n",
    "    test_data['y_predicted'] = test_y_hat\n",
    "    if verbose:\n",
    "        plot(*zip(*sorted(zip(test_data.x, test_data.y))), label='test data')\n",
    "        plot(*zip(*sorted(zip(test_data.x, test_data.y_predicted))), label='test pred')\n",
    "        legend()\n",
    "        show()\n",
    "    return training_history, train_score, test_score"
   ]
  },
  {
   "cell_type": "code",
   "execution_count": null,
   "metadata": {},
   "outputs": [],
   "source": []
  },
  {
   "cell_type": "code",
   "execution_count": 27,
   "metadata": {},
   "outputs": [
    {
     "name": "stdout",
     "output_type": "stream",
     "text": [
      "Dense_0 1 1\n",
      "Dense_1 1 50\n",
      "Dense_2 50 50\n",
      "Dense_3 50 50\n",
      "Dense_4 50 1\n"
     ]
    },
    {
     "data": {
      "image/png": "[encoded data removed]",
      "text/plain": [
       "<Figure size 432x288 with 1 Axes>"
      ]
     },
     "metadata": {
      "needs_background": "light"
     },
     "output_type": "display_data"
    },
    {
     "name": "stdout",
     "output_type": "stream",
     "text": [
      "train l2 norm: 0.034212296103574284\n",
      "train r2 score: 0.9825721002239263\n"
     ]
    },
    {
     "data": {
      "image/png": "[encoded data removed]",
      "text/plain": [
       "<Figure size 432x288 with 1 Axes>"
      ]
     },
     "metadata": {
      "needs_background": "light"
     },
     "output_type": "display_data"
    },
    {
     "name": "stdout",
     "output_type": "stream",
     "text": [
      "test l2 norm: 35.38160336497394\n",
      "test r2 score: 0.21189775802533561\n"
     ]
    },
    {
     "data": {
      "image/png": "[encoded data removed]",
      "text/plain": [
       "<Figure size 432x288 with 1 Axes>"
      ]
     },
     "metadata": {
      "needs_background": "light"
     },
     "output_type": "display_data"
    }
   ],
   "source": [
    "training_history, train_score, test_score = train(data, X, Y, test_data, test_X, test_Y, scale_x=True, scale_y=True, alpha=0.7, epochs=15000, batch_size=50, beta=0.9,\n",
    "                    n_neurons_per_layer=[1, 50, 50, 50, 1], act_funcs=['relu','relu', 'relu', 'relu', 'linear'],\n",
    "                    use_bias=True, problem='regression')"
   ]
  },
  {
   "cell_type": "code",
   "execution_count": 38,
   "metadata": {},
   "outputs": [],
   "source": [
    "from tqdm import tqdm"
   ]
  },
  {
   "cell_type": "code",
   "execution_count": 50,
   "metadata": {},
   "outputs": [
    {
     "name": "stderr",
     "output_type": "stream",
     "text": [
      "\n",
      "\n",
      "\n",
      "\n",
      "\n",
      "  0%|          | 0/30 [00:00<?, ?it/s]\u001b[A\u001b[A\u001b[A\u001b[A\u001b[A\n",
      "\n",
      "\n",
      "\n",
      "\n",
      "  3%|▎         | 1/30 [00:02<01:05,  2.27s/it]\u001b[A\u001b[A\u001b[A\u001b[A\u001b[A\n",
      "\n",
      "\n",
      "\n",
      "\n",
      "  7%|▋         | 2/30 [00:04<01:03,  2.28s/it]\u001b[A\u001b[A\u001b[A\u001b[A\u001b[A\n",
      "\n",
      "\n",
      "\n",
      "\n",
      " 10%|█         | 3/30 [00:06<01:01,  2.28s/it]\u001b[A\u001b[A\u001b[A\u001b[A\u001b[A\n",
      "\n",
      "\n",
      "\n",
      "\n",
      " 13%|█▎        | 4/30 [00:09<00:58,  2.26s/it]\u001b[A\u001b[A\u001b[A\u001b[A\u001b[A\n",
      "\n",
      "\n",
      "\n",
      "\n",
      " 17%|█▋        | 5/30 [00:11<00:56,  2.26s/it]\u001b[A\u001b[A\u001b[A\u001b[A\u001b[A\n",
      "\n",
      "\n",
      "\n",
      "\n",
      " 20%|██        | 6/30 [00:13<00:54,  2.27s/it]\u001b[A\u001b[A\u001b[A\u001b[A\u001b[A\n",
      "\n",
      "\n",
      "\n",
      "\n",
      " 23%|██▎       | 7/30 [00:16<00:53,  2.31s/it]\u001b[A\u001b[A\u001b[A\u001b[A\u001b[A\n",
      "\n",
      "\n",
      "\n",
      "\n",
      " 27%|██▋       | 8/30 [00:18<00:50,  2.31s/it]\u001b[A\u001b[A\u001b[A\u001b[A\u001b[A\n",
      "\n",
      "\n",
      "\n",
      "\n",
      " 30%|███       | 9/30 [00:20<00:49,  2.34s/it]\u001b[A\u001b[A\u001b[A\u001b[A\u001b[A\n",
      "\n",
      "\n",
      "\n",
      "\n",
      " 33%|███▎      | 10/30 [00:23<00:47,  2.40s/it]\u001b[A\u001b[A\u001b[A\u001b[A\u001b[A\n",
      "\n",
      "\n",
      "\n",
      "\n",
      " 37%|███▋      | 11/30 [00:25<00:45,  2.37s/it]\u001b[A\u001b[A\u001b[A\u001b[A\u001b[A\n",
      "\n",
      "\n",
      "\n",
      "\n",
      " 40%|████      | 12/30 [00:28<00:45,  2.54s/it]\u001b[A\u001b[A\u001b[A\u001b[A\u001b[A\n",
      "\n",
      "\n",
      "\n",
      "\n",
      " 43%|████▎     | 13/30 [00:30<00:42,  2.49s/it]\u001b[A\u001b[A\u001b[A\u001b[A\u001b[A\n",
      "\n",
      "\n",
      "\n",
      "\n",
      " 47%|████▋     | 14/30 [00:33<00:39,  2.46s/it]\u001b[A\u001b[A\u001b[A\u001b[A\u001b[A\n",
      "\n",
      "\n",
      "\n",
      "\n",
      " 50%|█████     | 15/30 [00:35<00:36,  2.43s/it]\u001b[A\u001b[A\u001b[A\u001b[A\u001b[A\n",
      "\n",
      "\n",
      "\n",
      "\n",
      " 53%|█████▎    | 16/30 [00:38<00:34,  2.44s/it]\u001b[A\u001b[A\u001b[A\u001b[A\u001b[A\n",
      "\n",
      "\n",
      "\n",
      "\n",
      " 57%|█████▋    | 17/30 [00:40<00:31,  2.39s/it]\u001b[A\u001b[A\u001b[A\u001b[A\u001b[A\n",
      "\n",
      "\n",
      "\n",
      "\n",
      " 60%|██████    | 18/30 [00:42<00:28,  2.38s/it]\u001b[A\u001b[A\u001b[A\u001b[A\u001b[A\n",
      "\n",
      "\n",
      "\n",
      "\n",
      " 63%|██████▎   | 19/30 [00:45<00:26,  2.37s/it]\u001b[A\u001b[A\u001b[A\u001b[A\u001b[A\n",
      "\n",
      "\n",
      "\n",
      "\n",
      " 67%|██████▋   | 20/30 [00:47<00:23,  2.39s/it]\u001b[A\u001b[A\u001b[A\u001b[A\u001b[A\n",
      "\n",
      "\n",
      "\n",
      "\n",
      " 70%|███████   | 21/30 [00:49<00:21,  2.40s/it]\u001b[A\u001b[A\u001b[A\u001b[A\u001b[A\n",
      "\n",
      "\n",
      "\n",
      "\n",
      " 73%|███████▎  | 22/30 [00:52<00:19,  2.43s/it]\u001b[A\u001b[A\u001b[A\u001b[A\u001b[A\n",
      "\n",
      "\n",
      "\n",
      "\n",
      " 77%|███████▋  | 23/30 [00:54<00:16,  2.40s/it]\u001b[A\u001b[A\u001b[A\u001b[A\u001b[A\n",
      "\n",
      "\n",
      "\n",
      "\n",
      " 80%|████████  | 24/30 [00:57<00:14,  2.37s/it]\u001b[A\u001b[A\u001b[A\u001b[A\u001b[A\n",
      "\n",
      "\n",
      "\n",
      "\n",
      " 83%|████████▎ | 25/30 [00:59<00:11,  2.34s/it]\u001b[A\u001b[A\u001b[A\u001b[A\u001b[A\n",
      "\n",
      "\n",
      "\n",
      "\n",
      " 87%|████████▋ | 26/30 [01:01<00:09,  2.31s/it]\u001b[A\u001b[A\u001b[A\u001b[A\u001b[A\n",
      "\n",
      "\n",
      "\n",
      "\n",
      " 90%|█████████ | 27/30 [01:03<00:06,  2.29s/it]\u001b[A\u001b[A\u001b[A\u001b[A\u001b[A\n",
      "\n",
      "\n",
      "\n",
      "\n",
      " 93%|█████████▎| 28/30 [01:06<00:04,  2.31s/it]\u001b[A\u001b[A\u001b[A\u001b[A\u001b[A\n",
      "\n",
      "\n",
      "\n",
      "\n",
      " 97%|█████████▋| 29/30 [01:08<00:02,  2.33s/it]\u001b[A\u001b[A\u001b[A\u001b[A\u001b[A\n",
      "\n",
      "\n",
      "\n",
      "\n",
      "100%|██████████| 30/30 [01:10<00:00,  2.36s/it]\u001b[A\u001b[A\u001b[A\u001b[A\u001b[A\n"
     ]
    }
   ],
   "source": [
    "scale_x = True\n",
    "scale_y = True\n",
    "alpha=0.7\n",
    "epochs=2000\n",
    "batch_size=50\n",
    "beta=0.9\n",
    "n_neurons_per_layer=[1, 50, 50, 50, 1]\n",
    "act_funcs=['relu','relu', 'relu', 'relu', 'linear']\n",
    "use_bias=True\n",
    "\n",
    "\n",
    "train_scores = []\n",
    "test_scores = []\n",
    "for epochs in [100, 200, 500, 1000, 2000, 5000, 10000]:\n",
    "    for seed in tqdm(range(30)):\n",
    "        config = {'scale_x': scale_x,\n",
    "                 'scale_y': scale_y,\n",
    "                 'alpha': alpha,\n",
    "                 'epochs': epochs,\n",
    "                 'batch_size': batch_size,\n",
    "                 'beta': beta,\n",
    "                 'n_neurons_per_layer': n_neurons_per_layer,\n",
    "                 'act_funcs': act_funcs,\n",
    "                 'use_bias': use_bias}\n",
    "        training_history, train_score, test_score = train(data, X, Y, test_data, test_X, test_Y, \n",
    "                                                          **config,\n",
    "                                                          problem='regression', seed=seed, verbose=False)\n",
    "        train_scores.append(train_score)\n",
    "        test_scores.append(test_score)\n",
    "        "
   ]
  },
  {
   "cell_type": "code",
   "execution_count": 51,
   "metadata": {},
   "outputs": [
    {
     "data": {
      "text/plain": [
       "[0.19302547931665104,\n",
       " 0.19460970621365292,\n",
       " 0.0806751858066308,\n",
       " 0.077656960817584,\n",
       " 0.19329984903609387,\n",
       " 0.19305380344550938,\n",
       " 0.19318118533126283,\n",
       " 0.1927821384952334,\n",
       " 0.193841249117086,\n",
       " 0.0806337688464217,\n",
       " 0.079832510110186,\n",
       " 0.19208700995400674,\n",
       " 0.19155790144944396,\n",
       " 0.19237092445817427,\n",
       " 0.08375311925414697,\n",
       " 0.07739046423815987,\n",
       " 0.07785506808177323,\n",
       " 0.19305034641543584,\n",
       " 0.19442831919209003,\n",
       " 0.0787930355300791,\n",
       " 0.07664343378471983,\n",
       " 0.1951099685395622,\n",
       " 0.19447830111984965,\n",
       " 0.19501660685579736,\n",
       " 0.07717210527535745,\n",
       " 0.08117750598020301,\n",
       " 0.07943486500777486,\n",
       " 0.19237858546082887,\n",
       " 0.19408482629993884,\n",
       " 0.19253825000768787]"
      ]
     },
     "execution_count": 51,
     "metadata": {},
     "output_type": "execute_result"
    }
   ],
   "source": [
    "test_scores"
   ]
  },
  {
   "cell_type": "code",
   "execution_count": 57,
   "metadata": {},
   "outputs": [
    {
     "data": {
      "text/plain": [
       "0.7138216717924026"
      ]
     },
     "execution_count": 57,
     "metadata": {},
     "output_type": "execute_result"
    }
   ],
   "source": [
    "np.array(train_scores).mean()"
   ]
  },
  {
   "cell_type": "code",
   "execution_count": 58,
   "metadata": {},
   "outputs": [
    {
     "data": {
      "text/plain": [
       "0.24234138024717894"
      ]
     },
     "execution_count": 58,
     "metadata": {},
     "output_type": "execute_result"
    }
   ],
   "source": [
    "np.array(train_scores).std()"
   ]
  },
  {
   "cell_type": "code",
   "execution_count": 59,
   "metadata": {},
   "outputs": [
    {
     "data": {
      "text/plain": [
       "0.14773041578137805"
      ]
     },
     "execution_count": 59,
     "metadata": {},
     "output_type": "execute_result"
    }
   ],
   "source": [
    "np.array(test_scores).mean()"
   ]
  },
  {
   "cell_type": "code",
   "execution_count": 60,
   "metadata": {},
   "outputs": [
    {
     "data": {
      "text/plain": [
       "0.05593254018727267"
      ]
     },
     "execution_count": 60,
     "metadata": {},
     "output_type": "execute_result"
    }
   ],
   "source": [
    "np.array(test_scores).std()"
   ]
  },
  {
   "cell_type": "code",
   "execution_count": null,
   "metadata": {},
   "outputs": [],
   "source": [
    "#train_score, test_score, config"
   ]
  }
 ],
 "metadata": {
  "kernelspec": {
   "display_name": "Python 3",
   "language": "python",
   "name": "python3"
  },
  "language_info": {
   "codemirror_mode": {
    "name": "ipython",
    "version": 3
   },
   "file_extension": ".py",
   "mimetype": "text/x-python",
   "name": "python",
   "nbconvert_exporter": "python",
   "pygments_lexer": "ipython3",
   "version": "3.8.0"
  }
 },
 "nbformat": 4,
 "nbformat_minor": 4
}
