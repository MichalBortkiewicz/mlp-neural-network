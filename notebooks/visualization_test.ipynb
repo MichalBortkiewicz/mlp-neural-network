{
 "cells": [
  {
   "cell_type": "code",
   "execution_count": 1,
   "metadata": {
    "Collapsed": "false"
   },
   "outputs": [],
   "source": [
    "import sys\n",
    "sys.path.append(\"../\")"
   ]
  },
  {
   "cell_type": "code",
   "execution_count": 2,
   "metadata": {
    "Collapsed": "false"
   },
   "outputs": [],
   "source": [
    "from src.nnsrc.dense import NeuralNetwork"
   ]
  },
  {
   "cell_type": "code",
   "execution_count": 3,
   "metadata": {
    "Collapsed": "false"
   },
   "outputs": [],
   "source": [
    "import pandas as pd\n",
    "import numpy as np\n",
    "from sklearn.preprocessing import MinMaxScaler"
   ]
  },
  {
   "cell_type": "code",
   "execution_count": 4,
   "metadata": {
    "Collapsed": "false"
   },
   "outputs": [],
   "source": [
    "from matplotlib.pyplot import plot, legend"
   ]
  },
  {
   "cell_type": "code",
   "execution_count": 5,
   "metadata": {
    "Collapsed": "false"
   },
   "outputs": [],
   "source": [
    "data = pd.read_csv('../src/data/regression/data.cube.train.100.csv')\n",
    "X = data[[\"x\"]].values\n",
    "Y = data[\"y\"].values.reshape(-1,1)"
   ]
  },
  {
   "cell_type": "code",
   "execution_count": 6,
   "metadata": {
    "Collapsed": "false",
    "scrolled": true
   },
   "outputs": [
    {
     "data": {
      "text/plain": [
       "[<matplotlib.lines.Line2D at 0x7efe730f6580>]"
      ]
     },
     "execution_count": 6,
     "metadata": {},
     "output_type": "execute_result"
    },
    {
     "data": {
      "image/png": "[encoded data removed]",
      "text/plain": [
       "<Figure size 432x288 with 1 Axes>"
      ]
     },
     "metadata": {
      "needs_background": "light"
     },
     "output_type": "display_data"
    }
   ],
   "source": [
    "plot(*zip(*sorted(zip(data.x, data.y))))"
   ]
  },
  {
   "cell_type": "code",
   "execution_count": 7,
   "metadata": {
    "Collapsed": "false"
   },
   "outputs": [],
   "source": [
    "X_train_scaler = MinMaxScaler((0,1))\n",
    "Y_train_scaler = MinMaxScaler((0,1))\n",
    "X_normed = X_train_scaler.fit_transform(X)\n",
    "y_normed = Y_train_scaler.fit_transform(Y)"
   ]
  },
  {
   "cell_type": "code",
   "execution_count": 8,
   "metadata": {
    "Collapsed": "false"
   },
   "outputs": [
    {
     "data": {
      "text/plain": [
       "[<matplotlib.lines.Line2D at 0x7efe72a34d30>]"
      ]
     },
     "execution_count": 8,
     "metadata": {},
     "output_type": "execute_result"
    },
    {
     "data": {
      "image/png": "[encoded data removed]",
      "text/plain": [
       "<Figure size 432x288 with 1 Axes>"
      ]
     },
     "metadata": {
      "needs_background": "light"
     },
     "output_type": "display_data"
    }
   ],
   "source": [
    "plot(*zip(*sorted(zip(X_normed, y_normed))))"
   ]
  },
  {
   "cell_type": "code",
   "execution_count": 9,
   "metadata": {
    "Collapsed": "false"
   },
   "outputs": [],
   "source": [
    "#X_normed = X\n",
    "#y_normed = y"
   ]
  },
  {
   "cell_type": "code",
   "execution_count": 10,
   "metadata": {
    "Collapsed": "false"
   },
   "outputs": [],
   "source": [
    "copy_Y_normed = y_normed.copy()"
   ]
  },
  {
   "cell_type": "code",
   "execution_count": 11,
   "metadata": {
    "Collapsed": "false"
   },
   "outputs": [
    {
     "name": "stdout",
     "output_type": "stream",
     "text": [
      "Dense_0 1 1\n",
      "Dense_1 1 3\n",
      "Dense_2 3 3\n",
      "Dense_3 3 3\n",
      "Dense_4 3 1\n"
     ]
    }
   ],
   "source": [
    "nn2 = NeuralNetwork(seed=1, n_layers=5,\n",
    "                    n_neurons_per_layer=[1, 3,  3, 3, 1], act_funcs=['relu', 'relu','relu', 'relu', 'linear'],\n",
    "                    bias=True, problem='regression')\n",
    "\n",
    "for layer in nn2.layers:\n",
    "    print(layer.name, layer.input_dim, layer.output_dim)\n",
    "\n",
    "history = nn2.train(X_normed.T, y_normed, 15000, 0.7, full_history=True, full_history_freq=1000)"
   ]
  },
  {
   "cell_type": "code",
   "execution_count": 12,
   "metadata": {
    "Collapsed": "false"
   },
   "outputs": [
    {
     "data": {
      "text/plain": [
       "[<matplotlib.lines.Line2D at 0x7efe7289d370>]"
      ]
     },
     "execution_count": 12,
     "metadata": {},
     "output_type": "execute_result"
    },
    {
     "data": {
      "image/png": "[encoded data removed]",
      "text/plain": [
       "<Figure size 432x288 with 1 Axes>"
      ]
     },
     "metadata": {
      "needs_background": "light"
     },
     "output_type": "display_data"
    }
   ],
   "source": [
    "plot(history['metrics'])"
   ]
  },
  {
   "cell_type": "code",
   "execution_count": 13,
   "metadata": {},
   "outputs": [],
   "source": [
    "y_hat = nn2.predict(X_normed.T).T"
   ]
  },
  {
   "cell_type": "code",
   "execution_count": 14,
   "metadata": {},
   "outputs": [
    {
     "data": {
      "text/plain": [
       "(100, 1)"
      ]
     },
     "execution_count": 14,
     "metadata": {},
     "output_type": "execute_result"
    }
   ],
   "source": [
    "y_hat.shape"
   ]
  },
  {
   "cell_type": "code",
   "execution_count": 15,
   "metadata": {},
   "outputs": [
    {
     "data": {
      "text/plain": [
       "100"
      ]
     },
     "execution_count": 15,
     "metadata": {},
     "output_type": "execute_result"
    }
   ],
   "source": [
    "len(y_hat)"
   ]
  },
  {
   "cell_type": "code",
   "execution_count": 16,
   "metadata": {
    "Collapsed": "false",
    "scrolled": true
   },
   "outputs": [
    {
     "name": "stdout",
     "output_type": "stream",
     "text": [
      "0.0\n"
     ]
    },
    {
     "data": {
      "image/png": "[encoded data removed]",
      "text/plain": [
       "<Figure size 432x288 with 1 Axes>"
      ]
     },
     "metadata": {
      "needs_background": "light"
     },
     "output_type": "display_data"
    }
   ],
   "source": [
    "#y_hat = MinMaxScaler().fit_transform(y_hat.reshape(-1,1))\n",
    "data['y_predicted'] = Y_train_scaler.inverse_transform(y_hat).reshape(-1,1)\n",
    "plot(*zip(*sorted(zip(data.x, data.y))), label='data')\n",
    "plot(*zip(*sorted(zip(data.x, data.y_predicted))), label='pred')\n",
    "legend()\n",
    "print(1 - np.linalg.norm(y_hat - y_normed)/(np.linalg.norm(y_normed.mean()-y_normed)))"
   ]
  },
  {
   "cell_type": "code",
   "execution_count": 17,
   "metadata": {
    "Collapsed": "false"
   },
   "outputs": [
    {
     "data": {
      "text/plain": [
       "[<matplotlib.lines.Line2D at 0x7efe727e7c10>]"
      ]
     },
     "execution_count": 17,
     "metadata": {},
     "output_type": "execute_result"
    },
    {
     "data": {
      "image/png": "[encoded data removed]",
      "text/plain": [
       "<Figure size 432x288 with 1 Axes>"
      ]
     },
     "metadata": {
      "needs_background": "light"
     },
     "output_type": "display_data"
    }
   ],
   "source": [
    "plot(y_normed)"
   ]
  },
  {
   "cell_type": "code",
   "execution_count": 18,
   "metadata": {
    "Collapsed": "false"
   },
   "outputs": [
    {
     "data": {
      "text/plain": [
       "[<matplotlib.lines.Line2D at 0x7efe727c2490>]"
      ]
     },
     "execution_count": 18,
     "metadata": {},
     "output_type": "execute_result"
    },
    {
     "data": {
      "image/png": "[encoded data removed]",
      "text/plain": [
       "<Figure size 432x288 with 1 Axes>"
      ]
     },
     "metadata": {
      "needs_background": "light"
     },
     "output_type": "display_data"
    }
   ],
   "source": [
    "plot(y_hat[0])"
   ]
  },
  {
   "cell_type": "code",
   "execution_count": 19,
   "metadata": {},
   "outputs": [],
   "source": [
    "grads, caches, weights, biases = history['grads'], history['caches'], history['weights'], history['biases']"
   ]
  },
  {
   "cell_type": "code",
   "execution_count": 20,
   "metadata": {},
   "outputs": [],
   "source": [
    "grad, cache, weight, bias = grads[0], caches[0], weights[0], biases[0]"
   ]
  },
  {
   "cell_type": "code",
   "execution_count": 21,
   "metadata": {
    "scrolled": true
   },
   "outputs": [],
   "source": [
    "import graphviz"
   ]
  },
  {
   "cell_type": "code",
   "execution_count": 22,
   "metadata": {},
   "outputs": [],
   "source": [
    "from src.visualization.visualize import ann_viz_forward_pass"
   ]
  },
  {
   "cell_type": "code",
   "execution_count": 23,
   "metadata": {},
   "outputs": [
    {
     "ename": "NameError",
     "evalue": "name 'ann_viz' is not defined",
     "output_type": "error",
     "traceback": [
      "\u001b[0;31m---------------------------------------------------------------------------\u001b[0m",
      "\u001b[0;31mNameError\u001b[0m                                 Traceback (most recent call last)",
      "\u001b[0;32m<ipython-input-23-01af03d9766c>\u001b[0m in \u001b[0;36m<module>\u001b[0;34m\u001b[0m\n\u001b[0;32m----> 1\u001b[0;31m \u001b[0mc\u001b[0m \u001b[0;34m=\u001b[0m \u001b[0mann_viz\u001b[0m\u001b[0;34m(\u001b[0m\u001b[0mnn2\u001b[0m\u001b[0;34m)\u001b[0m\u001b[0;34m\u001b[0m\u001b[0;34m\u001b[0m\u001b[0m\n\u001b[0m",
      "\u001b[0;31mNameError\u001b[0m: name 'ann_viz' is not defined"
     ]
    }
   ],
   "source": [
    "c = ann_viz(nn2)"
   ]
  },
  {
   "cell_type": "code",
   "execution_count": null,
   "metadata": {},
   "outputs": [],
   "source": [
    "from graphviz import Digraph\n",
    "\n",
    "g = Digraph('G', filename='hello.gv')\n",
    "g.graph_attr.update(splines=\"false\", nodesep='1', ranksep='2')"
   ]
  },
  {
   "cell_type": "code",
   "execution_count": null,
   "metadata": {},
   "outputs": [],
   "source": [
    "nn2.n_neurons_per_layer = [1,5, 5, 5, 1]"
   ]
  },
  {
   "cell_type": "code",
   "execution_count": null,
   "metadata": {},
   "outputs": [],
   "source": [
    "bias[1].shape"
   ]
  },
  {
   "cell_type": "code",
   "execution_count": null,
   "metadata": {},
   "outputs": [],
   "source": [
    "weight[2][0]"
   ]
  },
  {
   "cell_type": "code",
   "execution_count": null,
   "metadata": {},
   "outputs": [],
   "source": [
    "nn2.layers[0].act_func"
   ]
  },
  {
   "cell_type": "code",
   "execution_count": null,
   "metadata": {},
   "outputs": [],
   "source": [
    "cache['A3']"
   ]
  },
  {
   "cell_type": "code",
   "execution_count": null,
   "metadata": {
    "scrolled": false
   },
   "outputs": [],
   "source": [
    "caches[-1]"
   ]
  },
  {
   "cell_type": "code",
   "execution_count": null,
   "metadata": {},
   "outputs": [],
   "source": [
    "weight[0]"
   ]
  },
  {
   "cell_type": "code",
   "execution_count": null,
   "metadata": {
    "scrolled": true
   },
   "outputs": [],
   "source": [
    "weight"
   ]
  },
  {
   "cell_type": "code",
   "execution_count": null,
   "metadata": {},
   "outputs": [],
   "source": [
    "weight[1][1]"
   ]
  },
  {
   "cell_type": "code",
   "execution_count": null,
   "metadata": {},
   "outputs": [],
   "source": [
    "weight[1][1][2]"
   ]
  },
  {
   "cell_type": "code",
   "execution_count": null,
   "metadata": {},
   "outputs": [],
   "source": [
    "bias"
   ]
  },
  {
   "cell_type": "code",
   "execution_count": 24,
   "metadata": {},
   "outputs": [
    {
     "data": {
      "image/svg+xml": [
       "<?xml version=\"1.0\" encoding=\"UTF-8\" standalone=\"no\"?>\n",
       "<!DOCTYPE svg PUBLIC \"-//W3C//DTD SVG 1.1//EN\"\n",
       " \"http://www.w3.org/Graphics/SVG/1.1/DTD/svg11.dtd\">\n",
       "<!-- Generated by graphviz version 2.40.1 (20161225.0304)\n",
       " -->\n",
       "<!-- Title: ANN Pages: 1 -->\n",
       "<svg width=\"211pt\" height=\"514pt\"\n",
       " viewBox=\"0.00 0.00 211.00 513.98\" xmlns=\"http://www.w3.org/2000/svg\" xmlns:xlink=\"http://www.w3.org/1999/xlink\">\n",
       "<g id=\"graph0\" class=\"graph\" transform=\"scale(1 1) rotate(0) translate(4 509.9804)\">\n",
       "<title>ANN</title>\n",
       "<polygon fill=\"#ffffff\" stroke=\"transparent\" points=\"-4,4 -4,-509.9804 207,-509.9804 207,4 -4,4\"/>\n",
       "<g id=\"clust1\" class=\"cluster\">\n",
       "<title>cluster_1</title>\n",
       "<polygon fill=\"none\" stroke=\"#ffffff\" points=\"67,-351.7843 67,-497.9804 195,-497.9804 195,-351.7843 67,-351.7843\"/>\n",
       "<text text-anchor=\"middle\" x=\"131\" y=\"-482.7804\" font-family=\"Times,serif\" font-size=\"14.00\" fill=\"#000000\">My Neural Network</text>\n",
       "<text text-anchor=\"middle\" x=\"131\" y=\"-419.7804\" font-family=\"Times,serif\" font-size=\"14.00\" fill=\"#000000\">Input Layer</text>\n",
       "</g>\n",
       "<g id=\"clust2\" class=\"cluster\">\n",
       "<title>cluster_2</title>\n",
       "<polygon fill=\"none\" stroke=\"#ffffff\" points=\"8,-271.5882 8,-331.7843 192,-331.7843 192,-271.5882 8,-271.5882\"/>\n",
       "</g>\n",
       "<g id=\"clust3\" class=\"cluster\">\n",
       "<title>cluster_3</title>\n",
       "<polygon fill=\"none\" stroke=\"#ffffff\" points=\"8,-191.3922 8,-251.5882 192,-251.5882 192,-191.3922 8,-191.3922\"/>\n",
       "</g>\n",
       "<g id=\"clust4\" class=\"cluster\">\n",
       "<title>cluster_4</title>\n",
       "<polygon fill=\"none\" stroke=\"#ffffff\" points=\"8,-111.1961 8,-171.3922 192,-171.3922 192,-111.1961 8,-111.1961\"/>\n",
       "</g>\n",
       "<g id=\"clust5\" class=\"cluster\">\n",
       "<title>cluster_5</title>\n",
       "<polygon fill=\"none\" stroke=\"#ffffff\" points=\"56,-8 56,-91.1961 145,-91.1961 145,-8 56,-8\"/>\n",
       "<text text-anchor=\"middle\" x=\"100.5\" y=\"-15.8\" font-family=\"Times,serif\" font-size=\"14.00\" fill=\"#000000\">Output Layer</text>\n",
       "</g>\n",
       "<!-- 0,0 -->\n",
       "<g id=\"node1\" class=\"node\">\n",
       "<title>0,0</title>\n",
       "<g id=\"a_node1\"><a xlink:title=\"b: 0.0&#10;act_func: relu&#10;i: 0.39546379315102675&#10;o: 0.39546379315102675\">\n",
       "<ellipse fill=\"#2ecc71\" stroke=\"#2ecc71\" cx=\"100\" cy=\"-381.8824\" rx=\"22.1965\" ry=\"22.1965\"/>\n",
       "<text text-anchor=\"middle\" x=\"100\" y=\"-378.1824\" font-family=\"Times,serif\" font-size=\"14.00\" fill=\"#2ecc71\">0,0</text>\n",
       "</a>\n",
       "</g>\n",
       "</g>\n",
       "<!-- 1,0 -->\n",
       "<g id=\"node2\" class=\"node\">\n",
       "<title>1,0</title>\n",
       "<g id=\"a_node2\"><a xlink:title=\"b: &#45;0.06117564136500754&#10;act_func: relu&#10;i: &#45;0.061171118255096725&#10;o: 0.0\">\n",
       "<ellipse fill=\"#3498db\" stroke=\"#3498db\" cx=\"100\" cy=\"-301.6863\" rx=\"22.1965\" ry=\"22.1965\"/>\n",
       "<text text-anchor=\"middle\" x=\"100\" y=\"-297.9863\" font-family=\"Times,serif\" font-size=\"14.00\" fill=\"#3498db\">1,0</text>\n",
       "</a>\n",
       "</g>\n",
       "</g>\n",
       "<!-- 0,0&#45;&gt;1,0 -->\n",
       "<g id=\"edge1\" class=\"edge\">\n",
       "<title>0,0&#45;&gt;1,0</title>\n",
       "<g id=\"a_edge1\"><a xlink:title=\"w: 1.1437481734488664e&#45;05&#10;before: 0.39546379315102675&#10;after: 4.523109910815892e&#45;06\">\n",
       "<path fill=\"none\" stroke=\"#707070\" d=\"M100,-359.5433C100,-348.4201 100,-335.0122 100,-323.9056\"/>\n",
       "</a>\n",
       "</g>\n",
       "</g>\n",
       "<!-- 1,1 -->\n",
       "<g id=\"node3\" class=\"node\">\n",
       "<title>1,1</title>\n",
       "<g id=\"a_node3\"><a xlink:title=\"b: &#45;0.11059350760083153&#10;act_func: relu&#10;i: &#45;0.09863734900422197&#10;o: 0.0\">\n",
       "<ellipse fill=\"#3498db\" stroke=\"#3498db\" cx=\"38\" cy=\"-301.6863\" rx=\"22.1965\" ry=\"22.1965\"/>\n",
       "<text text-anchor=\"middle\" x=\"38\" y=\"-297.9863\" font-family=\"Times,serif\" font-size=\"14.00\" fill=\"#3498db\">1,1</text>\n",
       "</a>\n",
       "</g>\n",
       "</g>\n",
       "<!-- 0,0&#45;&gt;1,1 -->\n",
       "<g id=\"edge2\" class=\"edge\">\n",
       "<title>0,0&#45;&gt;1,1</title>\n",
       "<g id=\"a_edge2\"><a xlink:title=\"w: 0.030233257263183978&#10;before: 0.39546379315102675&#10;after: 0.011956158596609562\">\n",
       "<path fill=\"none\" stroke=\"#707070\" d=\"M86.2402,-364.0842C75.9657,-350.7944 61.9865,-332.7125 51.7213,-319.4346\"/>\n",
       "</a>\n",
       "</g>\n",
       "</g>\n",
       "<!-- 1,2 -->\n",
       "<g id=\"node4\" class=\"node\">\n",
       "<title>1,2</title>\n",
       "<g id=\"a_node4\"><a xlink:title=\"b: &#45;0.16545154524065694&#10;act_func: relu&#10;i: &#45;0.1596478811156776&#10;o: 0.0\">\n",
       "<ellipse fill=\"#3498db\" stroke=\"#3498db\" cx=\"162\" cy=\"-301.6863\" rx=\"22.1965\" ry=\"22.1965\"/>\n",
       "<text text-anchor=\"middle\" x=\"162\" y=\"-297.9863\" font-family=\"Times,serif\" font-size=\"14.00\" fill=\"#3498db\">1,2</text>\n",
       "</a>\n",
       "</g>\n",
       "</g>\n",
       "<!-- 0,0&#45;&gt;1,2 -->\n",
       "<g id=\"edge3\" class=\"edge\">\n",
       "<title>0,0&#45;&gt;1,2</title>\n",
       "<g id=\"a_edge3\"><a xlink:title=\"w: 0.014675589081711305&#10;before: 0.39546379315102675&#10;after: 0.005803664124979346\">\n",
       "<path fill=\"none\" stroke=\"#707070\" d=\"M113.7598,-364.0842C124.0343,-350.7944 138.0135,-332.7125 148.2787,-319.4346\"/>\n",
       "</a>\n",
       "</g>\n",
       "</g>\n",
       "<!-- 2,0 -->\n",
       "<g id=\"node5\" class=\"node\">\n",
       "<title>2,0</title>\n",
       "<g id=\"a_node5\"><a xlink:title=\"b: &#45;0.03224172040135075&#10;act_func: relu&#10;i: &#45;0.03224172040135075&#10;o: 0.0\">\n",
       "<ellipse fill=\"#3498db\" stroke=\"#3498db\" cx=\"38\" cy=\"-221.4902\" rx=\"22.1965\" ry=\"22.1965\"/>\n",
       "<text text-anchor=\"middle\" x=\"38\" y=\"-217.7902\" font-family=\"Times,serif\" font-size=\"14.00\" fill=\"#3498db\">2,0</text>\n",
       "</a>\n",
       "</g>\n",
       "</g>\n",
       "<!-- 1,0&#45;&gt;2,0 -->\n",
       "<g id=\"edge4\" class=\"edge\">\n",
       "<title>1,0&#45;&gt;2,0</title>\n",
       "<g id=\"a_edge4\"><a xlink:title=\"w: 0.0538816734003357&#10;before: 0.0&#10;after: 0.0\">\n",
       "<path fill=\"none\" stroke=\"#707070\" d=\"M86.2402,-283.8882C75.9657,-270.5983 61.9865,-252.5164 51.7213,-239.2386\"/>\n",
       "</a>\n",
       "</g>\n",
       "</g>\n",
       "<!-- 2,1 -->\n",
       "<g id=\"node6\" class=\"node\">\n",
       "<title>2,1</title>\n",
       "<g id=\"a_node6\"><a xlink:title=\"b: &#45;0.03840543546684157&#10;act_func: relu&#10;i: &#45;0.03840543546684157&#10;o: 0.0\">\n",
       "<ellipse fill=\"#3498db\" stroke=\"#3498db\" cx=\"162\" cy=\"-221.4902\" rx=\"22.1965\" ry=\"22.1965\"/>\n",
       "<text text-anchor=\"middle\" x=\"162\" y=\"-217.7902\" font-family=\"Times,serif\" font-size=\"14.00\" fill=\"#3498db\">2,1</text>\n",
       "</a>\n",
       "</g>\n",
       "</g>\n",
       "<!-- 1,0&#45;&gt;2,1 -->\n",
       "<g id=\"edge7\" class=\"edge\">\n",
       "<title>1,0&#45;&gt;2,1</title>\n",
       "<g id=\"a_edge7\"><a xlink:title=\"w: 0.020445224973151745&#10;before: 0.0&#10;after: 0.0\">\n",
       "<path fill=\"none\" stroke=\"#707070\" d=\"M113.7598,-283.8882C124.0343,-270.5983 138.0135,-252.5164 148.2787,-239.2386\"/>\n",
       "</a>\n",
       "</g>\n",
       "</g>\n",
       "<!-- 2,2 -->\n",
       "<g id=\"node7\" class=\"node\">\n",
       "<title>2,2</title>\n",
       "<g id=\"a_node7\"><a xlink:title=\"b: 0.10124211715397505&#10;act_func: relu&#10;i: 0.10124211715397505&#10;o: 0.10124211715397505\">\n",
       "<ellipse fill=\"#3498db\" stroke=\"#3498db\" cx=\"100\" cy=\"-221.4902\" rx=\"22.1965\" ry=\"22.1965\"/>\n",
       "<text text-anchor=\"middle\" x=\"100\" y=\"-217.7902\" font-family=\"Times,serif\" font-size=\"14.00\" fill=\"#3498db\">2,2</text>\n",
       "</a>\n",
       "</g>\n",
       "</g>\n",
       "<!-- 1,0&#45;&gt;2,2 -->\n",
       "<g id=\"edge10\" class=\"edge\">\n",
       "<title>1,0&#45;&gt;2,2</title>\n",
       "<g id=\"a_edge10\"><a xlink:title=\"w: 0.06704675101784023&#10;before: 0.0&#10;after: 0.0\">\n",
       "<path fill=\"none\" stroke=\"#707070\" d=\"M100,-279.3472C100,-268.2241 100,-254.8161 100,-243.7095\"/>\n",
       "</a>\n",
       "</g>\n",
       "</g>\n",
       "<!-- 1,1&#45;&gt;2,0 -->\n",
       "<g id=\"edge5\" class=\"edge\">\n",
       "<title>1,1&#45;&gt;2,0</title>\n",
       "<g id=\"a_edge5\"><a xlink:title=\"w: 0.041919451440329485&#10;before: 0.0&#10;after: 0.0\">\n",
       "<path fill=\"none\" stroke=\"#707070\" d=\"M38,-279.3472C38,-268.2241 38,-254.8161 38,-243.7095\"/>\n",
       "</a>\n",
       "</g>\n",
       "</g>\n",
       "<!-- 1,1&#45;&gt;2,1 -->\n",
       "<g id=\"edge8\" class=\"edge\">\n",
       "<title>1,1&#45;&gt;2,1</title>\n",
       "<g id=\"a_edge8\"><a xlink:title=\"w: 0.08781174363909455&#10;before: 0.0&#10;after: 0.0\">\n",
       "<path fill=\"none\" stroke=\"#707070\" d=\"M56.5641,-289.6801C79.9406,-274.5615 119.8728,-248.7357 143.309,-233.5784\"/>\n",
       "</a>\n",
       "</g>\n",
       "</g>\n",
       "<!-- 1,1&#45;&gt;2,2 -->\n",
       "<g id=\"edge11\" class=\"edge\">\n",
       "<title>1,1&#45;&gt;2,2</title>\n",
       "<g id=\"a_edge11\"><a xlink:title=\"w: 0.0417304802367127&#10;before: 0.0&#10;after: 0.0\">\n",
       "<path fill=\"none\" stroke=\"#707070\" d=\"M51.7598,-283.8882C62.0343,-270.5983 76.0135,-252.5164 86.2787,-239.2386\"/>\n",
       "</a>\n",
       "</g>\n",
       "</g>\n",
       "<!-- 1,2&#45;&gt;2,0 -->\n",
       "<g id=\"edge6\" class=\"edge\">\n",
       "<title>1,2&#45;&gt;2,0</title>\n",
       "<g id=\"a_edge6\"><a xlink:title=\"w: 0.06852195003967596&#10;before: 0.0&#10;after: 0.0\">\n",
       "<path fill=\"none\" stroke=\"#707070\" d=\"M143.4359,-289.6801C120.0594,-274.5615 80.1272,-248.7357 56.691,-233.5784\"/>\n",
       "</a>\n",
       "</g>\n",
       "</g>\n",
       "<!-- 1,2&#45;&gt;2,1 -->\n",
       "<g id=\"edge9\" class=\"edge\">\n",
       "<title>1,2&#45;&gt;2,1</title>\n",
       "<g id=\"a_edge9\"><a xlink:title=\"w: 0.0027387593197926163&#10;before: 0.0&#10;after: 0.0\">\n",
       "<path fill=\"none\" stroke=\"#707070\" d=\"M162,-279.3472C162,-268.2241 162,-254.8161 162,-243.7095\"/>\n",
       "</a>\n",
       "</g>\n",
       "</g>\n",
       "<!-- 1,2&#45;&gt;2,2 -->\n",
       "<g id=\"edge12\" class=\"edge\">\n",
       "<title>1,2&#45;&gt;2,2</title>\n",
       "<g id=\"a_edge12\"><a xlink:title=\"w: 0.05586898284457517&#10;before: 0.0&#10;after: 0.0\">\n",
       "<path fill=\"none\" stroke=\"#707070\" d=\"M148.2402,-283.8882C137.9657,-270.5983 123.9865,-252.5164 113.7213,-239.2386\"/>\n",
       "</a>\n",
       "</g>\n",
       "</g>\n",
       "<!-- 3,0 -->\n",
       "<g id=\"node8\" class=\"node\">\n",
       "<title>3,0</title>\n",
       "<g id=\"a_node8\"><a xlink:title=\"b: &#45;0.1099891267314031&#10;act_func: relu&#10;i: &#45;0.10912812113032645&#10;o: 0.0\">\n",
       "<ellipse fill=\"#3498db\" stroke=\"#3498db\" cx=\"38\" cy=\"-141.2941\" rx=\"22.1965\" ry=\"22.1965\"/>\n",
       "<text text-anchor=\"middle\" x=\"38\" y=\"-137.5941\" font-family=\"Times,serif\" font-size=\"14.00\" fill=\"#3498db\">3,0</text>\n",
       "</a>\n",
       "</g>\n",
       "</g>\n",
       "<!-- 2,0&#45;&gt;3,0 -->\n",
       "<g id=\"edge13\" class=\"edge\">\n",
       "<title>2,0&#45;&gt;3,0</title>\n",
       "<g id=\"a_edge13\"><a xlink:title=\"w: 0.08763891522960383&#10;before: 0.0&#10;after: 0.0008610056010766448\">\n",
       "<path fill=\"none\" stroke=\"#707070\" d=\"M38,-199.1511C38,-188.028 38,-174.6201 38,-163.5134\"/>\n",
       "</a>\n",
       "</g>\n",
       "</g>\n",
       "<!-- 3,1 -->\n",
       "<g id=\"node9\" class=\"node\">\n",
       "<title>3,1</title>\n",
       "<g id=\"a_node9\"><a xlink:title=\"b: 0.08359328464473206&#10;act_func: relu&#10;i: 0.09097379250034535&#10;o: 0.09097379250034535\">\n",
       "<ellipse fill=\"#3498db\" stroke=\"#3498db\" cx=\"162\" cy=\"-141.2941\" rx=\"22.1965\" ry=\"22.1965\"/>\n",
       "<text text-anchor=\"middle\" x=\"162\" y=\"-137.5941\" font-family=\"Times,serif\" font-size=\"14.00\" fill=\"#3498db\">3,1</text>\n",
       "</a>\n",
       "</g>\n",
       "</g>\n",
       "<!-- 2,0&#45;&gt;3,1 -->\n",
       "<g id=\"edge16\" class=\"edge\">\n",
       "<title>2,0&#45;&gt;3,1</title>\n",
       "<g id=\"a_edge16\"><a xlink:title=\"w: 0.0039054783232882364&#10;before: 0.0&#10;after: 0.007380507855613283\">\n",
       "<path fill=\"none\" stroke=\"#707070\" d=\"M56.5641,-209.484C79.9406,-194.3654 119.8728,-168.5396 143.309,-153.3824\"/>\n",
       "</a>\n",
       "</g>\n",
       "</g>\n",
       "<!-- 3,2 -->\n",
       "<g id=\"node10\" class=\"node\">\n",
       "<title>3,2</title>\n",
       "<g id=\"a_node10\"><a xlink:title=\"b: 0.03158464229875373&#10;act_func: relu&#10;i: 0.04112436589007458&#10;o: 0.04112436589007458\">\n",
       "<ellipse fill=\"#3498db\" stroke=\"#3498db\" cx=\"100\" cy=\"-141.2941\" rx=\"22.1965\" ry=\"22.1965\"/>\n",
       "<text text-anchor=\"middle\" x=\"100\" y=\"-137.5941\" font-family=\"Times,serif\" font-size=\"14.00\" fill=\"#3498db\">3,2</text>\n",
       "</a>\n",
       "</g>\n",
       "</g>\n",
       "<!-- 2,0&#45;&gt;3,2 -->\n",
       "<g id=\"edge19\" class=\"edge\">\n",
       "<title>2,0&#45;&gt;3,2</title>\n",
       "<g id=\"a_edge19\"><a xlink:title=\"w: 0.00983468338330501&#10;before: 0.0&#10;after: 0.009539723591320846\">\n",
       "<path fill=\"none\" stroke=\"#707070\" d=\"M51.7598,-203.6921C62.0343,-190.4022 76.0135,-172.3204 86.2787,-159.0425\"/>\n",
       "</a>\n",
       "</g>\n",
       "</g>\n",
       "<!-- 2,1&#45;&gt;3,0 -->\n",
       "<g id=\"edge14\" class=\"edge\">\n",
       "<title>2,1&#45;&gt;3,0</title>\n",
       "<g id=\"a_edge14\"><a xlink:title=\"w: 0.08946066635038474&#10;before: 0.0&#10;after: 0.0008610056010766448\">\n",
       "<path fill=\"none\" stroke=\"#707070\" d=\"M143.4359,-209.484C120.0594,-194.3654 80.1272,-168.5396 56.691,-153.3824\"/>\n",
       "</a>\n",
       "</g>\n",
       "</g>\n",
       "<!-- 2,1&#45;&gt;3,1 -->\n",
       "<g id=\"edge17\" class=\"edge\">\n",
       "<title>2,1&#45;&gt;3,1</title>\n",
       "<g id=\"a_edge17\"><a xlink:title=\"w: 0.01698304195645689&#10;before: 0.0&#10;after: 0.007380507855613283\">\n",
       "<path fill=\"none\" stroke=\"#707070\" d=\"M162,-199.1511C162,-188.028 162,-174.6201 162,-163.5134\"/>\n",
       "</a>\n",
       "</g>\n",
       "</g>\n",
       "<!-- 2,1&#45;&gt;3,2 -->\n",
       "<g id=\"edge20\" class=\"edge\">\n",
       "<title>2,1&#45;&gt;3,2</title>\n",
       "<g id=\"a_edge20\"><a xlink:title=\"w: 0.04211076250050522&#10;before: 0.0&#10;after: 0.009539723591320846\">\n",
       "<path fill=\"none\" stroke=\"#707070\" d=\"M148.2402,-203.6921C137.9657,-190.4022 123.9865,-172.3204 113.7213,-159.0425\"/>\n",
       "</a>\n",
       "</g>\n",
       "</g>\n",
       "<!-- 2,2&#45;&gt;3,0 -->\n",
       "<g id=\"edge15\" class=\"edge\">\n",
       "<title>2,2&#45;&gt;3,0</title>\n",
       "<g id=\"a_edge15\"><a xlink:title=\"w: 0.008504421136977792&#10;before: 0.10124211715397505&#10;after: 0.0008610056010766448\">\n",
       "<path fill=\"none\" stroke=\"#707070\" d=\"M86.2402,-203.6921C75.9657,-190.4022 61.9865,-172.3204 51.7213,-159.0425\"/>\n",
       "</a>\n",
       "</g>\n",
       "</g>\n",
       "<!-- 2,2&#45;&gt;3,1 -->\n",
       "<g id=\"edge18\" class=\"edge\">\n",
       "<title>2,2&#45;&gt;3,1</title>\n",
       "<g id=\"a_edge18\"><a xlink:title=\"w: 0.07289958036326484&#10;before: 0.10124211715397505&#10;after: 0.007380507855613283\">\n",
       "<path fill=\"none\" stroke=\"#707070\" d=\"M113.7598,-203.6921C124.0343,-190.4022 138.0135,-172.3204 148.2787,-159.0425\"/>\n",
       "</a>\n",
       "</g>\n",
       "</g>\n",
       "<!-- 2,2&#45;&gt;3,2 -->\n",
       "<g id=\"edge21\" class=\"edge\">\n",
       "<title>2,2&#45;&gt;3,2</title>\n",
       "<g id=\"a_edge21\"><a xlink:title=\"w: 0.0942268283150605&#10;before: 0.10124211715397505&#10;after: 0.009539723591320846\">\n",
       "<path fill=\"none\" stroke=\"#707070\" d=\"M100,-199.1511C100,-188.028 100,-174.6201 100,-163.5134\"/>\n",
       "</a>\n",
       "</g>\n",
       "</g>\n",
       "<!-- 4,0 -->\n",
       "<g id=\"node11\" class=\"node\">\n",
       "<title>4,0</title>\n",
       "<g id=\"a_node11\"><a xlink:title=\"b: 0.6149719618452013&#10;act_func: linear&#10;i: 0.6246713661708531&#10;o: 0.6246713661708531\">\n",
       "<ellipse fill=\"#e74c3c\" stroke=\"#e74c3c\" cx=\"100\" cy=\"-61.098\" rx=\"22.1965\" ry=\"22.1965\"/>\n",
       "<text text-anchor=\"middle\" x=\"100\" y=\"-57.398\" font-family=\"Times,serif\" font-size=\"14.00\" fill=\"#e74c3c\">4,0</text>\n",
       "</a>\n",
       "</g>\n",
       "</g>\n",
       "<!-- 3,0&#45;&gt;4,0 -->\n",
       "<g id=\"edge22\" class=\"edge\">\n",
       "<title>3,0&#45;&gt;4,0</title>\n",
       "<g id=\"a_edge22\"><a xlink:title=\"w: 0.0315515631006063&#10;before: 0.0&#10;after: 0.00969940432565175\">\n",
       "<path fill=\"none\" stroke=\"#707070\" d=\"M51.7598,-123.496C62.0343,-110.2061 76.0135,-92.1243 86.2787,-78.8464\"/>\n",
       "</a>\n",
       "</g>\n",
       "</g>\n",
       "<!-- 3,1&#45;&gt;4,0 -->\n",
       "<g id=\"edge23\" class=\"edge\">\n",
       "<title>3,1&#45;&gt;4,0</title>\n",
       "<g id=\"a_edge23\"><a xlink:title=\"w: 0.08771026180510448&#10;before: 0.09097379250034535&#10;after: 0.00969940432565175\">\n",
       "<path fill=\"none\" stroke=\"#707070\" d=\"M148.2402,-123.496C137.9657,-110.2061 123.9865,-92.1243 113.7213,-78.8464\"/>\n",
       "</a>\n",
       "</g>\n",
       "</g>\n",
       "<!-- 3,2&#45;&gt;4,0 -->\n",
       "<g id=\"edge24\" class=\"edge\">\n",
       "<title>3,2&#45;&gt;4,0</title>\n",
       "<g id=\"a_edge24\"><a xlink:title=\"w: 0.041826035023639914&#10;before: 0.04112436589007458&#10;after: 0.00969940432565175\">\n",
       "<path fill=\"none\" stroke=\"#707070\" d=\"M100,-118.955C100,-107.8319 100,-94.424 100,-83.3173\"/>\n",
       "</a>\n",
       "</g>\n",
       "</g>\n",
       "</g>\n",
       "</svg>\n"
      ],
      "text/plain": [
       "<graphviz.dot.Digraph at 0x7efe72836160>"
      ]
     },
     "execution_count": 24,
     "metadata": {},
     "output_type": "execute_result"
    }
   ],
   "source": [
    "ann_viz_forward_pass(nn2, caches[-1], weights[-1], biases[-1], sample_id=10, view=False)"
   ]
  },
  {
   "cell_type": "code",
   "execution_count": null,
   "metadata": {},
   "outputs": [],
   "source": [
    "grad['dA_curr4'][0][0]"
   ]
  },
  {
   "cell_type": "code",
   "execution_count": null,
   "metadata": {},
   "outputs": [],
   "source": [
    "cache['A0'][0][0]"
   ]
  },
  {
   "cell_type": "code",
   "execution_count": null,
   "metadata": {},
   "outputs": [],
   "source": []
  },
  {
   "cell_type": "code",
   "execution_count": null,
   "metadata": {},
   "outputs": [],
   "source": [
    "ann_viz(nn2, view=False)"
   ]
  },
  {
   "cell_type": "code",
   "execution_count": null,
   "metadata": {},
   "outputs": [],
   "source": []
  }
 ],
 "metadata": {
  "kernelspec": {
   "display_name": "Python 3",
   "language": "python",
   "name": "python3"
  },
  "language_info": {
   "codemirror_mode": {
    "name": "ipython",
    "version": 3
   },
   "file_extension": ".py",
   "mimetype": "text/x-python",
   "name": "python",
   "nbconvert_exporter": "python",
   "pygments_lexer": "ipython3",
   "version": "3.8.0"
  }
 },
 "nbformat": 4,
 "nbformat_minor": 4
}
