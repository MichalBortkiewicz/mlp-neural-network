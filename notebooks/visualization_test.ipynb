{
 "cells": [
  {
   "cell_type": "code",
   "execution_count": 1,
   "metadata": {
    "Collapsed": "false"
   },
   "outputs": [],
   "source": [
    "import sys\n",
    "sys.path.append(\"../\")"
   ]
  },
  {
   "cell_type": "code",
   "execution_count": 2,
   "metadata": {
    "Collapsed": "false"
   },
   "outputs": [],
   "source": [
    "from src.nnsrc.dense import NeuralNetwork"
   ]
  },
  {
   "cell_type": "code",
   "execution_count": 3,
   "metadata": {
    "Collapsed": "false"
   },
   "outputs": [],
   "source": [
    "import pandas as pd\n",
    "import numpy as np\n",
    "from sklearn.preprocessing import MinMaxScaler"
   ]
  },
  {
   "cell_type": "code",
   "execution_count": 4,
   "metadata": {
    "Collapsed": "false"
   },
   "outputs": [],
   "source": [
    "from matplotlib.pyplot import plot, legend"
   ]
  },
  {
   "cell_type": "code",
   "execution_count": 5,
   "metadata": {
    "Collapsed": "false"
   },
   "outputs": [],
   "source": [
    "data = pd.read_csv('../src/data/regression/data.cube.train.100.csv')\n",
    "X = data[[\"x\"]].values\n",
    "Y = data[\"y\"].values.reshape(-1,1)"
   ]
  },
  {
   "cell_type": "code",
   "execution_count": 6,
   "metadata": {
    "Collapsed": "false",
    "scrolled": true
   },
   "outputs": [
    {
     "data": {
      "text/plain": [
       "[<matplotlib.lines.Line2D at 0x7f5d35907520>]"
      ]
     },
     "execution_count": 6,
     "metadata": {},
     "output_type": "execute_result"
    },
    {
     "data": {
      "image/png": "[encoded data removed]",
      "text/plain": [
       "<Figure size 432x288 with 1 Axes>"
      ]
     },
     "metadata": {
      "needs_background": "light"
     },
     "output_type": "display_data"
    }
   ],
   "source": [
    "plot(*zip(*sorted(zip(data.x, data.y))))"
   ]
  },
  {
   "cell_type": "code",
   "execution_count": 7,
   "metadata": {
    "Collapsed": "false"
   },
   "outputs": [],
   "source": [
    "X_train_scaler = MinMaxScaler((0,1))\n",
    "Y_train_scaler = MinMaxScaler((0,1))\n",
    "X_normed = X_train_scaler.fit_transform(X)\n",
    "y_normed = Y_train_scaler.fit_transform(Y)"
   ]
  },
  {
   "cell_type": "code",
   "execution_count": 8,
   "metadata": {
    "Collapsed": "false"
   },
   "outputs": [
    {
     "data": {
      "text/plain": [
       "[<matplotlib.lines.Line2D at 0x7f5d35242d30>]"
      ]
     },
     "execution_count": 8,
     "metadata": {},
     "output_type": "execute_result"
    },
    {
     "data": {
      "image/png": "[encoded data removed]",
      "text/plain": [
       "<Figure size 432x288 with 1 Axes>"
      ]
     },
     "metadata": {
      "needs_background": "light"
     },
     "output_type": "display_data"
    }
   ],
   "source": [
    "plot(*zip(*sorted(zip(X_normed, y_normed))))"
   ]
  },
  {
   "cell_type": "code",
   "execution_count": 9,
   "metadata": {
    "Collapsed": "false"
   },
   "outputs": [],
   "source": [
    "#X_normed = X\n",
    "#y_normed = y"
   ]
  },
  {
   "cell_type": "code",
   "execution_count": 10,
   "metadata": {
    "Collapsed": "false"
   },
   "outputs": [],
   "source": [
    "copy_Y_normed = y_normed.copy()"
   ]
  },
  {
   "cell_type": "code",
   "execution_count": 11,
   "metadata": {
    "Collapsed": "false"
   },
   "outputs": [
    {
     "name": "stdout",
     "output_type": "stream",
     "text": [
      "Dense_0 1 1\n",
      "Dense_1 1 50\n",
      "Dense_2 50 50\n",
      "Dense_3 50 50\n",
      "Dense_4 50 1\n"
     ]
    }
   ],
   "source": [
    "nn2 = NeuralNetwork(seed=1, n_layers=5,\n",
    "                    n_neurons_per_layer=[1, 50,  50, 50, 1], act_funcs=['relu', 'relu','relu', 'relu', 'linear'],\n",
    "                    bias=True, problem='regression')\n",
    "\n",
    "for layer in nn2.layers:\n",
    "    print(layer.name, layer.input_dim, layer.output_dim)\n",
    "\n",
    "history = nn2.train(X_normed.T, y_normed, 15000, 0.7, full_history=True, full_history_freq=1000)"
   ]
  },
  {
   "cell_type": "code",
   "execution_count": 12,
   "metadata": {
    "Collapsed": "false"
   },
   "outputs": [
    {
     "data": {
      "text/plain": [
       "[<matplotlib.lines.Line2D at 0x7f5d350aa340>]"
      ]
     },
     "execution_count": 12,
     "metadata": {},
     "output_type": "execute_result"
    },
    {
     "data": {
      "image/png": "[encoded data removed]",
      "text/plain": [
       "<Figure size 432x288 with 1 Axes>"
      ]
     },
     "metadata": {
      "needs_background": "light"
     },
     "output_type": "display_data"
    }
   ],
   "source": [
    "plot(history['metrics'])"
   ]
  },
  {
   "cell_type": "code",
   "execution_count": 13,
   "metadata": {},
   "outputs": [],
   "source": [
    "y_hat = nn2.predict(X_normed.T).T"
   ]
  },
  {
   "cell_type": "code",
   "execution_count": 14,
   "metadata": {},
   "outputs": [
    {
     "data": {
      "text/plain": [
       "(100, 1)"
      ]
     },
     "execution_count": 14,
     "metadata": {},
     "output_type": "execute_result"
    }
   ],
   "source": [
    "y_hat.shape"
   ]
  },
  {
   "cell_type": "code",
   "execution_count": 15,
   "metadata": {},
   "outputs": [
    {
     "data": {
      "text/plain": [
       "100"
      ]
     },
     "execution_count": 15,
     "metadata": {},
     "output_type": "execute_result"
    }
   ],
   "source": [
    "len(y_hat)"
   ]
  },
  {
   "cell_type": "code",
   "execution_count": 16,
   "metadata": {
    "Collapsed": "false",
    "scrolled": true
   },
   "outputs": [
    {
     "name": "stdout",
     "output_type": "stream",
     "text": [
      "0.912329802372487\n"
     ]
    },
    {
     "data": {
      "image/png": "[encoded data removed]",
      "text/plain": [
       "<Figure size 432x288 with 1 Axes>"
      ]
     },
     "metadata": {
      "needs_background": "light"
     },
     "output_type": "display_data"
    }
   ],
   "source": [
    "#y_hat = MinMaxScaler().fit_transform(y_hat.reshape(-1,1))\n",
    "data['y_predicted'] = Y_train_scaler.inverse_transform(y_hat).reshape(-1,1)\n",
    "plot(*zip(*sorted(zip(data.x, data.y))), label='data')\n",
    "plot(*zip(*sorted(zip(data.x, data.y_predicted))), label='pred')\n",
    "legend()\n",
    "print(1 - np.linalg.norm(y_hat - y_normed)/(np.linalg.norm(y_normed.mean()-y_normed)))"
   ]
  },
  {
   "cell_type": "code",
   "execution_count": 17,
   "metadata": {
    "Collapsed": "false"
   },
   "outputs": [
    {
     "data": {
      "text/plain": [
       "[<matplotlib.lines.Line2D at 0x7f5d34ffb190>]"
      ]
     },
     "execution_count": 17,
     "metadata": {},
     "output_type": "execute_result"
    },
    {
     "data": {
      "image/png": "[encoded data removed]",
      "text/plain": [
       "<Figure size 432x288 with 1 Axes>"
      ]
     },
     "metadata": {
      "needs_background": "light"
     },
     "output_type": "display_data"
    }
   ],
   "source": [
    "plot(y_normed)"
   ]
  },
  {
   "cell_type": "code",
   "execution_count": 18,
   "metadata": {
    "Collapsed": "false"
   },
   "outputs": [
    {
     "data": {
      "text/plain": [
       "[<matplotlib.lines.Line2D at 0x7f5d34fc8a00>]"
      ]
     },
     "execution_count": 18,
     "metadata": {},
     "output_type": "execute_result"
    },
    {
     "data": {
      "image/png": "[encoded data removed]",
      "text/plain": [
       "<Figure size 432x288 with 1 Axes>"
      ]
     },
     "metadata": {
      "needs_background": "light"
     },
     "output_type": "display_data"
    }
   ],
   "source": [
    "plot(y_hat[0])"
   ]
  },
  {
   "cell_type": "code",
   "execution_count": 19,
   "metadata": {},
   "outputs": [],
   "source": [
    "grads, caches, weights, biases = history['grads'], history['caches'], history['weights'], history['biases']"
   ]
  },
  {
   "cell_type": "code",
   "execution_count": 20,
   "metadata": {},
   "outputs": [],
   "source": [
    "grad, cache, weight, bias = grads[0], caches[0], weights[0], biases[0]"
   ]
  },
  {
   "cell_type": "code",
   "execution_count": 21,
   "metadata": {
    "scrolled": true
   },
   "outputs": [],
   "source": [
    "import graphviz"
   ]
  },
  {
   "cell_type": "code",
   "execution_count": 22,
   "metadata": {},
   "outputs": [],
   "source": [
    "def viz_model(model):\n",
    "    pass"
   ]
  },
  {
   "cell_type": "code",
   "execution_count": 23,
   "metadata": {},
   "outputs": [],
   "source": [
    "def viz_forward_pass(model, cache, weight, bias):\n",
    "    pass\n",
    "\n",
    "def viz_backward_pass(model, grad, weight, bias):\n",
    "    pass"
   ]
  },
  {
   "cell_type": "code",
   "execution_count": 24,
   "metadata": {},
   "outputs": [],
   "source": [
    "from src.visualization.visualize import ann_viz"
   ]
  },
  {
   "cell_type": "code",
   "execution_count": 25,
   "metadata": {},
   "outputs": [],
   "source": [
    "c = ann_viz(nn2)"
   ]
  },
  {
   "cell_type": "code",
   "execution_count": 26,
   "metadata": {},
   "outputs": [],
   "source": [
    "from graphviz import Digraph\n",
    "\n",
    "g = Digraph('G', filename='hello.gv')\n",
    "g.graph_attr.update(splines=\"false\", nodesep='1', ranksep='2');"
   ]
  },
  {
   "cell_type": "code",
   "execution_count": 27,
   "metadata": {},
   "outputs": [],
   "source": [
    "nn2.n_neurons_per_layer = [1,5, 5, 5, 1]"
   ]
  },
  {
   "cell_type": "code",
   "execution_count": 28,
   "metadata": {},
   "outputs": [
    {
     "data": {
      "text/plain": [
       "(50,)"
      ]
     },
     "execution_count": 28,
     "metadata": {},
     "output_type": "execute_result"
    }
   ],
   "source": [
    "bias[1].shape"
   ]
  },
  {
   "cell_type": "code",
   "execution_count": 48,
   "metadata": {},
   "outputs": [
    {
     "data": {
      "text/plain": [
       "array([0.09325955, 0.06968182, 0.00660002, 0.07554631, 0.07538762,\n",
       "       0.09230245, 0.07115248, 0.0124271 , 0.00198801, 0.0026211 ,\n",
       "       0.00283065, 0.02462111, 0.08600279, 0.05388311, 0.0552822 ,\n",
       "       0.08420309, 0.01241733, 0.02791837, 0.05857593, 0.09695957,\n",
       "       0.05610302, 0.00186473, 0.08006327, 0.02329743, 0.08071052,\n",
       "       0.03878606, 0.08635419, 0.07471216, 0.05562402, 0.01364552,\n",
       "       0.00599177, 0.01213435, 0.00445519, 0.01074941, 0.02257093,\n",
       "       0.0712989 , 0.0559717 , 0.0012556 , 0.00719743, 0.09672763,\n",
       "       0.05681005, 0.02032932, 0.02523257, 0.07438259, 0.01954295,\n",
       "       0.05813589, 0.097002  , 0.08468288, 0.02398478, 0.04937697])"
      ]
     },
     "execution_count": 48,
     "metadata": {},
     "output_type": "execute_result"
    }
   ],
   "source": [
    "weight[2][0]"
   ]
  },
  {
   "cell_type": "code",
   "execution_count": null,
   "metadata": {},
   "outputs": [],
   "source": []
  },
  {
   "cell_type": "code",
   "execution_count": 72,
   "metadata": {},
   "outputs": [],
   "source": [
    "def ann_viz_forward_pass(model, cache, weights, biases, sample_id, view=True, filename=\"network.gv\", title=\"My Neural Network\"):\n",
    "    \"\"\"Vizualizez a Sequential model.\n",
    "\n",
    "    # Arguments\n",
    "        model: A Keras model instance.\n",
    "\n",
    "        view: whether to display the model after generation.\n",
    "\n",
    "        filename: where to save the vizualization. (a .gv file)\n",
    "\n",
    "        title: A title for the graph\n",
    "    \"\"\"\n",
    "    from graphviz import Digraph;\n",
    "    import json;\n",
    "    input_layer, hidden_layers, output_layer = model.n_neurons_per_layer[0], model.n_neurons_per_layer[1:-1], \\\n",
    "                                               model.n_neurons_per_layer[-1]\n",
    "    last_layer_nodes = input_layer;\n",
    "    nodes_up = input_layer;\n",
    "\n",
    "    g = Digraph('g', filename=filename);\n",
    "    n = 0;\n",
    "    g.graph_attr.update(splines=\"false\", nodesep='1', ranksep='2');\n",
    "    #Input Layer\n",
    "    with g.subgraph(name='cluster_input') as c:\n",
    "        the_label = title+'\\n\\n\\n\\nInput Layer';\n",
    "        #if (int(str(model.layers[0].input_shape).split(\",\")[1][1:-1]) > 10):\n",
    "        #    the_label += \" (+\"+str(int(str(model.layers[0].input_shape).split(\",\")[1][1:-1]) - 10)+\")\";\n",
    "        #    input_layer = 10;\n",
    "        c.attr(color='white')\n",
    "        for i in range(0, input_layer):\n",
    "            n += 1;\n",
    "            c.node(str(n));\n",
    "        c.attr(label=the_label)\n",
    "        c.attr(rank='same');\n",
    "        c.node_attr.update(color=\"#2ecc71\", style=\"filled\", fontcolor=\"#2ecc71\", shape=\"circle\");\n",
    "    for i in range(0, len(hidden_layers)):\n",
    "        with g.subgraph(name=\"cluster_\"+str(i+1)) as c:\n",
    "            c.attr(color='white');\n",
    "            c.attr(rank='same');\n",
    "            #If hidden_layers[i] > 10, dont include all\n",
    "            the_label = \"\";\n",
    "            #if (int(str(model.layers[i].output_shape).split(\",\")[1][1:-1]) > 10):\n",
    "            #    the_label += \" (+\"+str(int(str(model.layers[i].output_shape).split(\",\")[1][1:-1]) - 10)+\")\";\n",
    "            #    hidden_layers[i] = 10;\n",
    "            c.attr(labeljust=\"right\", labelloc=\"b\", label=the_label);\n",
    "            for j in range(0, hidden_layers[i]):\n",
    "                n += 1;\n",
    "                c.node(str(n), shape=\"circle\", style=\"filled\", color=\"#3498db\", fontcolor=\"#3498db\");\n",
    "                for h in range(nodes_up - last_layer_nodes + 1 , nodes_up + 1):\n",
    "                    print(i+1, h,n)\n",
    "                    lbl = weights[i+1][h][n][0]\n",
    "                    g.edge(str(h), str(n), label=lbl);\n",
    "            last_layer_nodes = hidden_layers[i];\n",
    "            nodes_up += hidden_layers[i];\n",
    "    with g.subgraph(name='cluster_output') as c:\n",
    "        c.attr(color='white')\n",
    "        c.attr(rank='same');\n",
    "        c.attr(labeljust=\"1\");\n",
    "        for i in range(1, output_layer+1):\n",
    "            n += 1;\n",
    "            c.node(str(n), shape=\"circle\", style=\"filled\", color=\"#e74c3c\", fontcolor=\"#e74c3c\");\n",
    "            for h in range(nodes_up - last_layer_nodes + 1 , nodes_up + 1):\n",
    "                g.edge(str(h), str(n));\n",
    "        c.attr(label='Output Layer', labelloc=\"bottom\")\n",
    "        c.node_attr.update(color=\"#2ecc71\", style=\"filled\", fontcolor=\"#2ecc71\", shape=\"circle\");\n",
    "\n",
    "    g.attr(arrowShape=\"none\");\n",
    "    g.edge_attr.update(arrowhead=\"none\", color=\"#707070\");\n",
    "    if view == True:\n",
    "        g.view();\n",
    "    return g"
   ]
  },
  {
   "cell_type": "code",
   "execution_count": 73,
   "metadata": {},
   "outputs": [
    {
     "data": {
      "text/plain": [
       "array([[1.]])"
      ]
     },
     "execution_count": 73,
     "metadata": {},
     "output_type": "execute_result"
    }
   ],
   "source": [
    "weight[0]"
   ]
  },
  {
   "cell_type": "code",
   "execution_count": 74,
   "metadata": {
    "scrolled": true
   },
   "outputs": [
    {
     "data": {
      "text/plain": [
       "[array([[1.]]),\n",
       " array([[1.14374817e-05],\n",
       "        [3.02332573e-02],\n",
       "        [1.46755891e-02],\n",
       "        [9.23385948e-03],\n",
       "        [1.86260211e-02],\n",
       "        [3.45560727e-02],\n",
       "        [3.96767474e-02],\n",
       "        [5.38816734e-02],\n",
       "        [4.19194514e-02],\n",
       "        [6.85219500e-02],\n",
       "        [2.04452250e-02],\n",
       "        [8.78117436e-02],\n",
       "        [2.73875932e-03],\n",
       "        [6.70467510e-02],\n",
       "        [4.17304802e-02],\n",
       "        [5.58689828e-02],\n",
       "        [1.40386939e-02],\n",
       "        [1.98101489e-02],\n",
       "        [8.00744569e-02],\n",
       "        [9.68261576e-02],\n",
       "        [3.13424178e-02],\n",
       "        [6.92322616e-02],\n",
       "        [8.76389152e-02],\n",
       "        [8.94606664e-02],\n",
       "        [8.50442114e-03],\n",
       "        [3.90547832e-03],\n",
       "        [1.69830420e-02],\n",
       "        [8.78142503e-02],\n",
       "        [9.83468338e-03],\n",
       "        [4.21107625e-02],\n",
       "        [9.57889530e-02],\n",
       "        [5.33165285e-02],\n",
       "        [6.91877114e-02],\n",
       "        [3.15515631e-02],\n",
       "        [6.86500928e-02],\n",
       "        [8.34625672e-02],\n",
       "        [1.82882773e-03],\n",
       "        [7.50144315e-02],\n",
       "        [9.88861089e-02],\n",
       "        [7.48165654e-02],\n",
       "        [2.80443992e-02],\n",
       "        [7.89279328e-02],\n",
       "        [1.03226007e-02],\n",
       "        [4.47893526e-02],\n",
       "        [9.08595503e-02],\n",
       "        [2.93614148e-02],\n",
       "        [2.87775339e-02],\n",
       "        [1.30028572e-02],\n",
       "        [1.93669579e-03],\n",
       "        [6.78835533e-02]]),\n",
       " array([[0.09325955, 0.06968182, 0.00660002, ..., 0.08468288, 0.02398478,\n",
       "         0.04937697],\n",
       "        [0.06199557, 0.08289809, 0.01567914, ..., 0.09187334, 0.03948756,\n",
       "         0.09632625],\n",
       "        [0.01739557, 0.01263295, 0.01350792, ..., 0.05868333, 0.07500218,\n",
       "         0.08583138],\n",
       "        ...,\n",
       "        [0.05468345, 0.03892749, 0.01014208, ..., 0.01278217, 0.03630733,\n",
       "         0.02281416],\n",
       "        [0.08475026, 0.03414741, 0.02267893, ..., 0.07899478, 0.08610114,\n",
       "         0.01295009],\n",
       "        [0.05750702, 0.02147825, 0.08682386, ..., 0.02908599, 0.01491595,\n",
       "         0.01318717]]),\n",
       " array([[0.09032727, 0.03831759, 0.09431243, ..., 0.08772998, 0.02519905,\n",
       "         0.03394874],\n",
       "        [0.04946468, 0.03150271, 0.05454391, ..., 0.04150899, 0.01378592,\n",
       "         0.09173962],\n",
       "        [0.07645309, 0.05102138, 0.0453575 , ..., 0.00097076, 0.05754518,\n",
       "         0.03077923],\n",
       "        ...,\n",
       "        [0.02546002, 0.07510088, 0.02812352, ..., 0.04605899, 0.02116357,\n",
       "         0.08369597],\n",
       "        [0.03598089, 0.00370881, 0.06889892, ..., 0.02761987, 0.00152469,\n",
       "         0.0064891 ],\n",
       "        [0.08996351, 0.06411502, 0.07302687, ..., 0.0923178 , 0.09452566,\n",
       "         0.05009063]]),\n",
       " array([[0.06107088, 0.0442048 , 0.03974915, 0.07893742, 0.04645126,\n",
       "         0.04648025, 0.09920285, 0.09622298, 0.02350809, 0.02269538,\n",
       "         0.0662738 , 0.04119464, 0.0718754 , 0.07334534, 0.07832949,\n",
       "         0.02633145, 0.09983582, 0.04937004, 0.00839265, 0.01120157,\n",
       "         0.05614997, 0.05101089, 0.09348355, 0.09008261, 0.04654036,\n",
       "         0.02064771, 0.05644176, 0.03087334, 0.06505856, 0.0515104 ,\n",
       "         0.08431801, 0.01317404, 0.02510068, 0.05975314, 0.06252148,\n",
       "         0.04125941, 0.09005922, 0.0810275 , 0.05408499, 0.04050294,\n",
       "         0.03971781, 0.01139888, 0.09372449, 0.02345355, 0.01528168,\n",
       "         0.05100158, 0.04550445, 0.0074027 , 0.05755729, 0.06985353]])]"
      ]
     },
     "execution_count": 74,
     "metadata": {},
     "output_type": "execute_result"
    }
   ],
   "source": [
    "weight"
   ]
  },
  {
   "cell_type": "code",
   "execution_count": 78,
   "metadata": {},
   "outputs": [
    {
     "data": {
      "text/plain": [
       "array([0.03023326])"
      ]
     },
     "execution_count": 78,
     "metadata": {},
     "output_type": "execute_result"
    }
   ],
   "source": [
    "weight[1][1]"
   ]
  },
  {
   "cell_type": "code",
   "execution_count": 76,
   "metadata": {},
   "outputs": [
    {
     "ename": "IndexError",
     "evalue": "index 2 is out of bounds for axis 0 with size 1",
     "output_type": "error",
     "traceback": [
      "\u001b[0;31m---------------------------------------------------------------------------\u001b[0m",
      "\u001b[0;31mIndexError\u001b[0m                                Traceback (most recent call last)",
      "\u001b[0;32m<ipython-input-76-5211556eee36>\u001b[0m in \u001b[0;36m<module>\u001b[0;34m\u001b[0m\n\u001b[0;32m----> 1\u001b[0;31m \u001b[0mweight\u001b[0m\u001b[0;34m[\u001b[0m\u001b[0;36m1\u001b[0m\u001b[0;34m]\u001b[0m\u001b[0;34m[\u001b[0m\u001b[0;36m1\u001b[0m\u001b[0;34m]\u001b[0m\u001b[0;34m[\u001b[0m\u001b[0;36m2\u001b[0m\u001b[0;34m]\u001b[0m\u001b[0;34m\u001b[0m\u001b[0;34m\u001b[0m\u001b[0m\n\u001b[0m",
      "\u001b[0;31mIndexError\u001b[0m: index 2 is out of bounds for axis 0 with size 1"
     ]
    }
   ],
   "source": [
    "weight[1][1][2]"
   ]
  },
  {
   "cell_type": "code",
   "execution_count": 75,
   "metadata": {},
   "outputs": [
    {
     "name": "stdout",
     "output_type": "stream",
     "text": [
      "1 1 2\n"
     ]
    },
    {
     "ename": "IndexError",
     "evalue": "index 2 is out of bounds for axis 0 with size 1",
     "output_type": "error",
     "traceback": [
      "\u001b[0;31m---------------------------------------------------------------------------\u001b[0m",
      "\u001b[0;31mIndexError\u001b[0m                                Traceback (most recent call last)",
      "\u001b[0;32m<ipython-input-75-0ecb2c841d28>\u001b[0m in \u001b[0;36m<module>\u001b[0;34m\u001b[0m\n\u001b[0;32m----> 1\u001b[0;31m \u001b[0mann_viz_forward_pass\u001b[0m\u001b[0;34m(\u001b[0m\u001b[0mnn2\u001b[0m\u001b[0;34m,\u001b[0m \u001b[0mcache\u001b[0m\u001b[0;34m,\u001b[0m \u001b[0mweight\u001b[0m\u001b[0;34m,\u001b[0m \u001b[0mbias\u001b[0m\u001b[0;34m,\u001b[0m \u001b[0msample_id\u001b[0m\u001b[0;34m=\u001b[0m\u001b[0;36m10\u001b[0m\u001b[0;34m)\u001b[0m\u001b[0;34m\u001b[0m\u001b[0;34m\u001b[0m\u001b[0m\n\u001b[0m",
      "\u001b[0;32m<ipython-input-72-5fe82deda285>\u001b[0m in \u001b[0;36mann_viz_forward_pass\u001b[0;34m(model, cache, weights, biases, sample_id, view, filename, title)\u001b[0m\n\u001b[1;32m     49\u001b[0m                 \u001b[0;32mfor\u001b[0m \u001b[0mh\u001b[0m \u001b[0;32min\u001b[0m \u001b[0mrange\u001b[0m\u001b[0;34m(\u001b[0m\u001b[0mnodes_up\u001b[0m \u001b[0;34m-\u001b[0m \u001b[0mlast_layer_nodes\u001b[0m \u001b[0;34m+\u001b[0m \u001b[0;36m1\u001b[0m \u001b[0;34m,\u001b[0m \u001b[0mnodes_up\u001b[0m \u001b[0;34m+\u001b[0m \u001b[0;36m1\u001b[0m\u001b[0;34m)\u001b[0m\u001b[0;34m:\u001b[0m\u001b[0;34m\u001b[0m\u001b[0;34m\u001b[0m\u001b[0m\n\u001b[1;32m     50\u001b[0m                     \u001b[0mprint\u001b[0m\u001b[0;34m(\u001b[0m\u001b[0mi\u001b[0m\u001b[0;34m+\u001b[0m\u001b[0;36m1\u001b[0m\u001b[0;34m,\u001b[0m \u001b[0mh\u001b[0m\u001b[0;34m,\u001b[0m\u001b[0mn\u001b[0m\u001b[0;34m)\u001b[0m\u001b[0;34m\u001b[0m\u001b[0;34m\u001b[0m\u001b[0m\n\u001b[0;32m---> 51\u001b[0;31m                     \u001b[0mlbl\u001b[0m \u001b[0;34m=\u001b[0m \u001b[0mweights\u001b[0m\u001b[0;34m[\u001b[0m\u001b[0mi\u001b[0m\u001b[0;34m+\u001b[0m\u001b[0;36m1\u001b[0m\u001b[0;34m]\u001b[0m\u001b[0;34m[\u001b[0m\u001b[0mh\u001b[0m\u001b[0;34m]\u001b[0m\u001b[0;34m[\u001b[0m\u001b[0mn\u001b[0m\u001b[0;34m]\u001b[0m\u001b[0;34m[\u001b[0m\u001b[0;36m0\u001b[0m\u001b[0;34m]\u001b[0m\u001b[0;34m\u001b[0m\u001b[0;34m\u001b[0m\u001b[0m\n\u001b[0m\u001b[1;32m     52\u001b[0m                     \u001b[0mg\u001b[0m\u001b[0;34m.\u001b[0m\u001b[0medge\u001b[0m\u001b[0;34m(\u001b[0m\u001b[0mstr\u001b[0m\u001b[0;34m(\u001b[0m\u001b[0mh\u001b[0m\u001b[0;34m)\u001b[0m\u001b[0;34m,\u001b[0m \u001b[0mstr\u001b[0m\u001b[0;34m(\u001b[0m\u001b[0mn\u001b[0m\u001b[0;34m)\u001b[0m\u001b[0;34m,\u001b[0m \u001b[0mlabel\u001b[0m\u001b[0;34m=\u001b[0m\u001b[0mlbl\u001b[0m\u001b[0;34m)\u001b[0m\u001b[0;34m;\u001b[0m\u001b[0;34m\u001b[0m\u001b[0;34m\u001b[0m\u001b[0m\n\u001b[1;32m     53\u001b[0m             \u001b[0mlast_layer_nodes\u001b[0m \u001b[0;34m=\u001b[0m \u001b[0mhidden_layers\u001b[0m\u001b[0;34m[\u001b[0m\u001b[0mi\u001b[0m\u001b[0;34m]\u001b[0m\u001b[0;34m;\u001b[0m\u001b[0;34m\u001b[0m\u001b[0;34m\u001b[0m\u001b[0m\n",
      "\u001b[0;31mIndexError\u001b[0m: index 2 is out of bounds for axis 0 with size 1"
     ]
    }
   ],
   "source": [
    "ann_viz_forward_pass(nn2, cache, weight, bias, sample_id=10)"
   ]
  },
  {
   "cell_type": "code",
   "execution_count": 30,
   "metadata": {},
   "outputs": [
    {
     "data": {
      "text/plain": [
       "0.3327421258445862"
      ]
     },
     "execution_count": 30,
     "metadata": {},
     "output_type": "execute_result"
    }
   ],
   "source": [
    "grad['dA_curr4'][0][0]"
   ]
  },
  {
   "cell_type": "code",
   "execution_count": 31,
   "metadata": {},
   "outputs": [
    {
     "data": {
      "text/plain": [
       "0.211536442212216"
      ]
     },
     "execution_count": 31,
     "metadata": {},
     "output_type": "execute_result"
    }
   ],
   "source": [
    "cache['A0'][0][0]"
   ]
  },
  {
   "cell_type": "code",
   "execution_count": null,
   "metadata": {},
   "outputs": [],
   "source": []
  },
  {
   "cell_type": "code",
   "execution_count": 32,
   "metadata": {},
   "outputs": [
    {
     "data": {
      "image/svg+xml": [
       "<?xml version=\"1.0\" encoding=\"UTF-8\" standalone=\"no\"?>\n",
       "<!DOCTYPE svg PUBLIC \"-//W3C//DTD SVG 1.1//EN\"\n",
       " \"http://www.w3.org/Graphics/SVG/1.1/DTD/svg11.dtd\">\n",
       "<!-- Generated by graphviz version 2.40.1 (20161225.0304)\n",
       " -->\n",
       "<!-- Title: g Pages: 1 -->\n",
       "<svg width=\"522pt\" height=\"914pt\"\n",
       " viewBox=\"0.00 0.00 522.00 913.99\" xmlns=\"http://www.w3.org/2000/svg\" xmlns:xlink=\"http://www.w3.org/1999/xlink\">\n",
       "<g id=\"graph0\" class=\"graph\" transform=\"scale(1 1) rotate(0) translate(4 909.9896)\">\n",
       "<title>g</title>\n",
       "<polygon fill=\"#ffffff\" stroke=\"transparent\" points=\"-4,4 -4,-909.9896 518,-909.9896 518,4 -4,4\"/>\n",
       "<g id=\"clust1\" class=\"cluster\">\n",
       "<title>cluster_input</title>\n",
       "<polygon fill=\"none\" stroke=\"#ffffff\" points=\"193,-759.9896 193,-897.9896 321,-897.9896 321,-759.9896 193,-759.9896\"/>\n",
       "<text text-anchor=\"middle\" x=\"257\" y=\"-882.7896\" font-family=\"Times,serif\" font-size=\"14.00\" fill=\"#000000\">My Neural Network</text>\n",
       "<text text-anchor=\"middle\" x=\"257\" y=\"-819.7896\" font-family=\"Times,serif\" font-size=\"14.00\" fill=\"#000000\">Input Layer</text>\n",
       "</g>\n",
       "<g id=\"clust2\" class=\"cluster\">\n",
       "<title>cluster_1</title>\n",
       "<polygon fill=\"none\" stroke=\"#ffffff\" points=\"15,-579.9896 15,-631.9896 499,-631.9896 499,-579.9896 15,-579.9896\"/>\n",
       "</g>\n",
       "<g id=\"clust3\" class=\"cluster\">\n",
       "<title>cluster_2</title>\n",
       "<polygon fill=\"none\" stroke=\"#ffffff\" points=\"14,-396.9931 14,-451.9896 503,-451.9896 503,-396.9931 14,-396.9931\"/>\n",
       "</g>\n",
       "<g id=\"clust4\" class=\"cluster\">\n",
       "<title>cluster_3</title>\n",
       "<polygon fill=\"none\" stroke=\"#ffffff\" points=\"8,-213.9965 8,-268.9931 506,-268.9931 506,-213.9965 8,-213.9965\"/>\n",
       "</g>\n",
       "<g id=\"clust5\" class=\"cluster\">\n",
       "<title>cluster_output</title>\n",
       "<polygon fill=\"none\" stroke=\"#ffffff\" points=\"213,-8 213,-85.9965 302,-85.9965 302,-8 213,-8\"/>\n",
       "<text text-anchor=\"middle\" x=\"257.5\" y=\"-15.8\" font-family=\"Times,serif\" font-size=\"14.00\" fill=\"#000000\">Output Layer</text>\n",
       "</g>\n",
       "<!-- 1 -->\n",
       "<g id=\"node1\" class=\"node\">\n",
       "<title>1</title>\n",
       "<ellipse fill=\"#2ecc71\" stroke=\"#2ecc71\" cx=\"257\" cy=\"-785.9896\" rx=\"18\" ry=\"18\"/>\n",
       "<text text-anchor=\"middle\" x=\"257\" y=\"-782.2896\" font-family=\"Times,serif\" font-size=\"14.00\" fill=\"#2ecc71\">1</text>\n",
       "</g>\n",
       "<!-- 2 -->\n",
       "<g id=\"node2\" class=\"node\">\n",
       "<title>2</title>\n",
       "<ellipse fill=\"#3498db\" stroke=\"#3498db\" cx=\"41\" cy=\"-605.9896\" rx=\"18\" ry=\"18\"/>\n",
       "<text text-anchor=\"middle\" x=\"41\" y=\"-602.2896\" font-family=\"Times,serif\" font-size=\"14.00\" fill=\"#3498db\">2</text>\n",
       "</g>\n",
       "<!-- 1&#45;&gt;2 -->\n",
       "<g id=\"edge1\" class=\"edge\">\n",
       "<title>1&#45;&gt;2</title>\n",
       "<path fill=\"none\" stroke=\"#707070\" d=\"M243.1596,-774.456C204.2387,-742.0219 94.1251,-650.2605 55.0046,-617.6602\"/>\n",
       "</g>\n",
       "<!-- 3 -->\n",
       "<g id=\"node3\" class=\"node\">\n",
       "<title>3</title>\n",
       "<ellipse fill=\"#3498db\" stroke=\"#3498db\" cx=\"473\" cy=\"-605.9896\" rx=\"18\" ry=\"18\"/>\n",
       "<text text-anchor=\"middle\" x=\"473\" y=\"-602.2896\" font-family=\"Times,serif\" font-size=\"14.00\" fill=\"#3498db\">3</text>\n",
       "</g>\n",
       "<!-- 1&#45;&gt;3 -->\n",
       "<g id=\"edge2\" class=\"edge\">\n",
       "<title>1&#45;&gt;3</title>\n",
       "<path fill=\"none\" stroke=\"#707070\" d=\"M270.8404,-774.456C309.7613,-742.0219 419.8749,-650.2605 458.9954,-617.6602\"/>\n",
       "</g>\n",
       "<!-- 4 -->\n",
       "<g id=\"node4\" class=\"node\">\n",
       "<title>4</title>\n",
       "<ellipse fill=\"#3498db\" stroke=\"#3498db\" cx=\"365\" cy=\"-605.9896\" rx=\"18\" ry=\"18\"/>\n",
       "<text text-anchor=\"middle\" x=\"365\" y=\"-602.2896\" font-family=\"Times,serif\" font-size=\"14.00\" fill=\"#3498db\">4</text>\n",
       "</g>\n",
       "<!-- 1&#45;&gt;4 -->\n",
       "<g id=\"edge3\" class=\"edge\">\n",
       "<title>1&#45;&gt;4</title>\n",
       "<path fill=\"none\" stroke=\"#707070\" d=\"M266.3954,-770.3307C286.872,-736.203 335.3168,-655.4616 355.7033,-621.4842\"/>\n",
       "</g>\n",
       "<!-- 5 -->\n",
       "<g id=\"node5\" class=\"node\">\n",
       "<title>5</title>\n",
       "<ellipse fill=\"#3498db\" stroke=\"#3498db\" cx=\"257\" cy=\"-605.9896\" rx=\"18\" ry=\"18\"/>\n",
       "<text text-anchor=\"middle\" x=\"257\" y=\"-602.2896\" font-family=\"Times,serif\" font-size=\"14.00\" fill=\"#3498db\">5</text>\n",
       "</g>\n",
       "<!-- 1&#45;&gt;5 -->\n",
       "<g id=\"edge4\" class=\"edge\">\n",
       "<title>1&#45;&gt;5</title>\n",
       "<path fill=\"none\" stroke=\"#707070\" d=\"M257,-767.7397C257,-733.1506 257,-658.4389 257,-624.0202\"/>\n",
       "</g>\n",
       "<!-- 6 -->\n",
       "<g id=\"node6\" class=\"node\">\n",
       "<title>6</title>\n",
       "<ellipse fill=\"#3498db\" stroke=\"#3498db\" cx=\"149\" cy=\"-605.9896\" rx=\"18\" ry=\"18\"/>\n",
       "<text text-anchor=\"middle\" x=\"149\" y=\"-602.2896\" font-family=\"Times,serif\" font-size=\"14.00\" fill=\"#3498db\">6</text>\n",
       "</g>\n",
       "<!-- 1&#45;&gt;6 -->\n",
       "<g id=\"edge5\" class=\"edge\">\n",
       "<title>1&#45;&gt;6</title>\n",
       "<path fill=\"none\" stroke=\"#707070\" d=\"M247.6046,-770.3307C227.128,-736.203 178.6832,-655.4616 158.2967,-621.4842\"/>\n",
       "</g>\n",
       "<!-- 7 -->\n",
       "<g id=\"node7\" class=\"node\">\n",
       "<title>7</title>\n",
       "<ellipse fill=\"#3498db\" stroke=\"#3498db\" cx=\"148\" cy=\"-424.4913\" rx=\"18\" ry=\"18\"/>\n",
       "<text text-anchor=\"middle\" x=\"148\" y=\"-420.7913\" font-family=\"Times,serif\" font-size=\"14.00\" fill=\"#3498db\">7</text>\n",
       "</g>\n",
       "<!-- 2&#45;&gt;7 -->\n",
       "<g id=\"edge6\" class=\"edge\">\n",
       "<title>2&#45;&gt;7</title>\n",
       "<path fill=\"none\" stroke=\"#707070\" d=\"M50.3084,-590.2003C70.5954,-555.7886 118.5917,-474.3751 138.7893,-440.1149\"/>\n",
       "</g>\n",
       "<!-- 8 -->\n",
       "<g id=\"node8\" class=\"node\">\n",
       "<title>8</title>\n",
       "<ellipse fill=\"#3498db\" stroke=\"#3498db\" cx=\"40\" cy=\"-424.4913\" rx=\"18\" ry=\"18\"/>\n",
       "<text text-anchor=\"middle\" x=\"40\" y=\"-420.7913\" font-family=\"Times,serif\" font-size=\"14.00\" fill=\"#3498db\">8</text>\n",
       "</g>\n",
       "<!-- 2&#45;&gt;8 -->\n",
       "<g id=\"edge11\" class=\"edge\">\n",
       "<title>2&#45;&gt;8</title>\n",
       "<path fill=\"none\" stroke=\"#707070\" d=\"M40.9005,-587.9233C40.7093,-553.2234 40.2927,-477.6075 40.1006,-442.7539\"/>\n",
       "</g>\n",
       "<!-- 9 -->\n",
       "<g id=\"node9\" class=\"node\">\n",
       "<title>9</title>\n",
       "<ellipse fill=\"#3498db\" stroke=\"#3498db\" cx=\"477\" cy=\"-424.4913\" rx=\"18\" ry=\"18\"/>\n",
       "<text text-anchor=\"middle\" x=\"477\" y=\"-420.7913\" font-family=\"Times,serif\" font-size=\"14.00\" fill=\"#3498db\">9</text>\n",
       "</g>\n",
       "<!-- 2&#45;&gt;9 -->\n",
       "<g id=\"edge16\" class=\"edge\">\n",
       "<title>2&#45;&gt;9</title>\n",
       "<path fill=\"none\" stroke=\"#707070\" d=\"M57.8246,-598.9859C127.153,-570.1258 390.3183,-460.5753 459.9904,-431.5721\"/>\n",
       "</g>\n",
       "<!-- 10 -->\n",
       "<g id=\"node10\" class=\"node\">\n",
       "<title>10</title>\n",
       "<ellipse fill=\"#3498db\" stroke=\"#3498db\" cx=\"368\" cy=\"-424.4913\" rx=\"19.4965\" ry=\"19.4965\"/>\n",
       "<text text-anchor=\"middle\" x=\"368\" y=\"-420.7913\" font-family=\"Times,serif\" font-size=\"14.00\" fill=\"#3498db\">10</text>\n",
       "</g>\n",
       "<!-- 2&#45;&gt;10 -->\n",
       "<g id=\"edge21\" class=\"edge\">\n",
       "<title>2&#45;&gt;10</title>\n",
       "<path fill=\"none\" stroke=\"#707070\" d=\"M56.7719,-597.2356C111.63,-566.7871 293.8645,-465.6396 350.8294,-434.0217\"/>\n",
       "</g>\n",
       "<!-- 11 -->\n",
       "<g id=\"node11\" class=\"node\">\n",
       "<title>11</title>\n",
       "<ellipse fill=\"#3498db\" stroke=\"#3498db\" cx=\"257\" cy=\"-424.4913\" rx=\"19.4965\" ry=\"19.4965\"/>\n",
       "<text text-anchor=\"middle\" x=\"257\" y=\"-420.7913\" font-family=\"Times,serif\" font-size=\"14.00\" fill=\"#3498db\">11</text>\n",
       "</g>\n",
       "<!-- 2&#45;&gt;11 -->\n",
       "<g id=\"edge26\" class=\"edge\">\n",
       "<title>2&#45;&gt;11</title>\n",
       "<path fill=\"none\" stroke=\"#707070\" d=\"M54.8404,-594.36C93.3888,-561.9689 201.774,-470.8961 241.8529,-437.219\"/>\n",
       "</g>\n",
       "<!-- 3&#45;&gt;7 -->\n",
       "<g id=\"edge7\" class=\"edge\">\n",
       "<title>3&#45;&gt;7</title>\n",
       "<path fill=\"none\" stroke=\"#707070\" d=\"M456.8832,-596.9891C401.4234,-566.0172 218.8511,-464.0586 163.8308,-433.3322\"/>\n",
       "</g>\n",
       "<!-- 3&#45;&gt;8 -->\n",
       "<g id=\"edge12\" class=\"edge\">\n",
       "<title>3&#45;&gt;8</title>\n",
       "<path fill=\"none\" stroke=\"#707070\" d=\"M456.2912,-598.9859C387.4398,-570.1258 126.0853,-460.5753 56.8926,-431.5721\"/>\n",
       "</g>\n",
       "<!-- 3&#45;&gt;9 -->\n",
       "<g id=\"edge17\" class=\"edge\">\n",
       "<title>3&#45;&gt;9</title>\n",
       "<path fill=\"none\" stroke=\"#707070\" d=\"M473.3982,-587.9233C474.1629,-553.2234 475.8294,-477.6075 476.5975,-442.7539\"/>\n",
       "</g>\n",
       "<!-- 3&#45;&gt;10 -->\n",
       "<g id=\"edge22\" class=\"edge\">\n",
       "<title>3&#45;&gt;10</title>\n",
       "<path fill=\"none\" stroke=\"#707070\" d=\"M463.8656,-590.2003C444.2073,-556.2198 398.0348,-476.4082 377.7964,-441.4249\"/>\n",
       "</g>\n",
       "<!-- 3&#45;&gt;11 -->\n",
       "<g id=\"edge27\" class=\"edge\">\n",
       "<title>3&#45;&gt;11</title>\n",
       "<path fill=\"none\" stroke=\"#707070\" d=\"M459.1596,-594.36C420.6112,-561.9689 312.226,-470.8961 272.1471,-437.219\"/>\n",
       "</g>\n",
       "<!-- 4&#45;&gt;7 -->\n",
       "<g id=\"edge8\" class=\"edge\">\n",
       "<title>4&#45;&gt;7</title>\n",
       "<path fill=\"none\" stroke=\"#707070\" d=\"M351.0956,-594.36C311.9945,-561.6559 201.371,-469.1308 162.0695,-436.259\"/>\n",
       "</g>\n",
       "<!-- 4&#45;&gt;8 -->\n",
       "<g id=\"edge13\" class=\"edge\">\n",
       "<title>4&#45;&gt;8</title>\n",
       "<path fill=\"none\" stroke=\"#707070\" d=\"M348.8832,-596.9891C293.4234,-566.0172 110.8511,-464.0586 55.8308,-433.3322\"/>\n",
       "</g>\n",
       "<!-- 4&#45;&gt;9 -->\n",
       "<g id=\"edge18\" class=\"edge\">\n",
       "<title>4&#45;&gt;9</title>\n",
       "<path fill=\"none\" stroke=\"#707070\" d=\"M374.5491,-590.5152C395.709,-556.2251 446.3376,-474.1803 467.4751,-439.9266\"/>\n",
       "</g>\n",
       "<!-- 4&#45;&gt;10 -->\n",
       "<g id=\"edge23\" class=\"edge\">\n",
       "<title>4&#45;&gt;10</title>\n",
       "<path fill=\"none\" stroke=\"#707070\" d=\"M365.2986,-587.9233C365.8648,-553.6718 367.0899,-479.5546 367.6755,-444.1251\"/>\n",
       "</g>\n",
       "<!-- 4&#45;&gt;11 -->\n",
       "<g id=\"edge28\" class=\"edge\">\n",
       "<title>4&#45;&gt;11</title>\n",
       "<path fill=\"none\" stroke=\"#707070\" d=\"M355.792,-590.5152C335.6938,-556.7394 288.0255,-476.6309 267.1209,-441.5\"/>\n",
       "</g>\n",
       "<!-- 5&#45;&gt;7 -->\n",
       "<g id=\"edge9\" class=\"edge\">\n",
       "<title>5&#45;&gt;7</title>\n",
       "<path fill=\"none\" stroke=\"#707070\" d=\"M247.7067,-590.5152C227.1136,-556.2251 177.8411,-474.1803 157.2698,-439.9266\"/>\n",
       "</g>\n",
       "<!-- 5&#45;&gt;8 -->\n",
       "<g id=\"edge14\" class=\"edge\">\n",
       "<title>5&#45;&gt;8</title>\n",
       "<path fill=\"none\" stroke=\"#707070\" d=\"M243.0956,-594.36C203.9945,-561.6559 93.371,-469.1308 54.0695,-436.259\"/>\n",
       "</g>\n",
       "<!-- 5&#45;&gt;9 -->\n",
       "<g id=\"edge19\" class=\"edge\">\n",
       "<title>5&#45;&gt;9</title>\n",
       "<path fill=\"none\" stroke=\"#707070\" d=\"M271.0967,-594.36C310.8332,-561.5777 423.4281,-468.6877 463.0207,-436.0241\"/>\n",
       "</g>\n",
       "<!-- 5&#45;&gt;10 -->\n",
       "<g id=\"edge24\" class=\"edge\">\n",
       "<title>5&#45;&gt;10</title>\n",
       "<path fill=\"none\" stroke=\"#707070\" d=\"M266.4638,-590.5152C287.1727,-556.6537 336.3615,-476.224 357.761,-441.2334\"/>\n",
       "</g>\n",
       "<!-- 5&#45;&gt;11 -->\n",
       "<g id=\"edge29\" class=\"edge\">\n",
       "<title>5&#45;&gt;11</title>\n",
       "<path fill=\"none\" stroke=\"#707070\" d=\"M257,-587.9233C257,-553.6718 257,-479.5546 257,-444.1251\"/>\n",
       "</g>\n",
       "<!-- 6&#45;&gt;7 -->\n",
       "<g id=\"edge10\" class=\"edge\">\n",
       "<title>6&#45;&gt;7</title>\n",
       "<path fill=\"none\" stroke=\"#707070\" d=\"M148.9005,-587.9233C148.7093,-553.2234 148.2927,-477.6075 148.1006,-442.7539\"/>\n",
       "</g>\n",
       "<!-- 6&#45;&gt;8 -->\n",
       "<g id=\"edge15\" class=\"edge\">\n",
       "<title>6&#45;&gt;8</title>\n",
       "<path fill=\"none\" stroke=\"#707070\" d=\"M139.7067,-590.5152C119.1136,-556.2251 69.8411,-474.1803 49.2698,-439.9266\"/>\n",
       "</g>\n",
       "<!-- 6&#45;&gt;9 -->\n",
       "<g id=\"edge20\" class=\"edge\">\n",
       "<title>6&#45;&gt;9</title>\n",
       "<path fill=\"none\" stroke=\"#707070\" d=\"M164.8201,-597.2356C220.2299,-566.5746 405.1946,-464.2248 460.9544,-433.3702\"/>\n",
       "</g>\n",
       "<!-- 6&#45;&gt;10 -->\n",
       "<g id=\"edge25\" class=\"edge\">\n",
       "<title>6&#45;&gt;10</title>\n",
       "<path fill=\"none\" stroke=\"#707070\" d=\"M163.0326,-594.36C202.2109,-561.8906 312.5382,-470.4558 352.9358,-436.976\"/>\n",
       "</g>\n",
       "<!-- 6&#45;&gt;11 -->\n",
       "<g id=\"edge30\" class=\"edge\">\n",
       "<title>6&#45;&gt;11</title>\n",
       "<path fill=\"none\" stroke=\"#707070\" d=\"M158.208,-590.5152C178.3062,-556.7394 225.9745,-476.6309 246.8791,-441.5\"/>\n",
       "</g>\n",
       "<!-- 12 -->\n",
       "<g id=\"node12\" class=\"node\">\n",
       "<title>12</title>\n",
       "<ellipse fill=\"#3498db\" stroke=\"#3498db\" cx=\"146\" cy=\"-241.4948\" rx=\"19.4965\" ry=\"19.4965\"/>\n",
       "<text text-anchor=\"middle\" x=\"146\" y=\"-237.7948\" font-family=\"Times,serif\" font-size=\"14.00\" fill=\"#3498db\">12</text>\n",
       "</g>\n",
       "<!-- 7&#45;&gt;12 -->\n",
       "<g id=\"edge31\" class=\"edge\">\n",
       "<title>7&#45;&gt;12</title>\n",
       "<path fill=\"none\" stroke=\"#707070\" d=\"M147.8009,-406.2759C147.4225,-371.6512 146.6025,-296.6211 146.2133,-261.0109\"/>\n",
       "</g>\n",
       "<!-- 13 -->\n",
       "<g id=\"node13\" class=\"node\">\n",
       "<title>13</title>\n",
       "<ellipse fill=\"#3498db\" stroke=\"#3498db\" cx=\"35\" cy=\"-241.4948\" rx=\"19.4965\" ry=\"19.4965\"/>\n",
       "<text text-anchor=\"middle\" x=\"35\" y=\"-237.7948\" font-family=\"Times,serif\" font-size=\"14.00\" fill=\"#3498db\">13</text>\n",
       "</g>\n",
       "<!-- 7&#45;&gt;13 -->\n",
       "<g id=\"edge36\" class=\"edge\">\n",
       "<title>7&#45;&gt;13</title>\n",
       "<path fill=\"none\" stroke=\"#707070\" d=\"M138.3657,-408.8892C117.2303,-374.6617 66.9548,-293.2436 45.2586,-258.108\"/>\n",
       "</g>\n",
       "<!-- 14 -->\n",
       "<g id=\"node14\" class=\"node\">\n",
       "<title>14</title>\n",
       "<ellipse fill=\"#3498db\" stroke=\"#3498db\" cx=\"479\" cy=\"-241.4948\" rx=\"19.4965\" ry=\"19.4965\"/>\n",
       "<text text-anchor=\"middle\" x=\"479\" y=\"-237.7948\" font-family=\"Times,serif\" font-size=\"14.00\" fill=\"#3498db\">14</text>\n",
       "</g>\n",
       "<!-- 7&#45;&gt;14 -->\n",
       "<g id=\"edge41\" class=\"edge\">\n",
       "<title>7&#45;&gt;14</title>\n",
       "<path fill=\"none\" stroke=\"#707070\" d=\"M163.9648,-415.665C219.494,-384.9652 403.9577,-282.9827 461.6193,-251.1039\"/>\n",
       "</g>\n",
       "<!-- 15 -->\n",
       "<g id=\"node15\" class=\"node\">\n",
       "<title>15</title>\n",
       "<ellipse fill=\"#3498db\" stroke=\"#3498db\" cx=\"368\" cy=\"-241.4948\" rx=\"19.4965\" ry=\"19.4965\"/>\n",
       "<text text-anchor=\"middle\" x=\"368\" y=\"-237.7948\" font-family=\"Times,serif\" font-size=\"14.00\" fill=\"#3498db\">15</text>\n",
       "</g>\n",
       "<!-- 7&#45;&gt;15 -->\n",
       "<g id=\"edge46\" class=\"edge\">\n",
       "<title>7&#45;&gt;15</title>\n",
       "<path fill=\"none\" stroke=\"#707070\" d=\"M162.0967,-412.7657C201.4538,-380.0283 312.285,-287.8387 352.867,-254.0825\"/>\n",
       "</g>\n",
       "<!-- 16 -->\n",
       "<g id=\"node16\" class=\"node\">\n",
       "<title>16</title>\n",
       "<ellipse fill=\"#3498db\" stroke=\"#3498db\" cx=\"257\" cy=\"-241.4948\" rx=\"19.4965\" ry=\"19.4965\"/>\n",
       "<text text-anchor=\"middle\" x=\"257\" y=\"-237.7948\" font-family=\"Times,serif\" font-size=\"14.00\" fill=\"#3498db\">16</text>\n",
       "</g>\n",
       "<!-- 7&#45;&gt;16 -->\n",
       "<g id=\"edge51\" class=\"edge\">\n",
       "<title>7&#45;&gt;16</title>\n",
       "<path fill=\"none\" stroke=\"#707070\" d=\"M157.2933,-408.8892C177.629,-374.7481 225.9316,-293.6545 246.9455,-258.375\"/>\n",
       "</g>\n",
       "<!-- 8&#45;&gt;12 -->\n",
       "<g id=\"edge32\" class=\"edge\">\n",
       "<title>8&#45;&gt;12</title>\n",
       "<path fill=\"none\" stroke=\"#707070\" d=\"M49.0375,-408.8892C68.8135,-374.7481 115.7867,-293.6545 136.2222,-258.375\"/>\n",
       "</g>\n",
       "<!-- 8&#45;&gt;13 -->\n",
       "<g id=\"edge37\" class=\"edge\">\n",
       "<title>8&#45;&gt;13</title>\n",
       "<path fill=\"none\" stroke=\"#707070\" d=\"M39.5023,-406.2759C38.5563,-371.6512 36.5062,-296.6211 35.5332,-261.0109\"/>\n",
       "</g>\n",
       "<!-- 8&#45;&gt;14 -->\n",
       "<g id=\"edge42\" class=\"edge\">\n",
       "<title>8&#45;&gt;14</title>\n",
       "<path fill=\"none\" stroke=\"#707070\" d=\"M56.6733,-417.5411C125.742,-388.7499 389.1474,-278.9497 460.8731,-249.051\"/>\n",
       "</g>\n",
       "<!-- 8&#45;&gt;15 -->\n",
       "<g id=\"edge47\" class=\"edge\">\n",
       "<title>8&#45;&gt;15</title>\n",
       "<path fill=\"none\" stroke=\"#707070\" d=\"M55.8201,-415.665C110.846,-384.9652 293.6378,-282.9827 350.7769,-251.1039\"/>\n",
       "</g>\n",
       "<!-- 8&#45;&gt;16 -->\n",
       "<g id=\"edge52\" class=\"edge\">\n",
       "<title>8&#45;&gt;16</title>\n",
       "<path fill=\"none\" stroke=\"#707070\" d=\"M53.9044,-412.7657C92.7249,-380.0283 202.0447,-287.8387 242.0734,-254.0825\"/>\n",
       "</g>\n",
       "<!-- 9&#45;&gt;12 -->\n",
       "<g id=\"edge33\" class=\"edge\">\n",
       "<title>9&#45;&gt;12</title>\n",
       "<path fill=\"none\" stroke=\"#707070\" d=\"M461.0352,-415.665C405.506,-384.9652 221.0423,-282.9827 163.3807,-251.1039\"/>\n",
       "</g>\n",
       "<!-- 9&#45;&gt;13 -->\n",
       "<g id=\"edge38\" class=\"edge\">\n",
       "<title>9&#45;&gt;13</title>\n",
       "<path fill=\"none\" stroke=\"#707070\" d=\"M460.2128,-417.5411C390.6721,-388.7499 125.4666,-278.9497 53.2508,-249.051\"/>\n",
       "</g>\n",
       "<!-- 9&#45;&gt;14 -->\n",
       "<g id=\"edge43\" class=\"edge\">\n",
       "<title>9&#45;&gt;14</title>\n",
       "<path fill=\"none\" stroke=\"#707070\" d=\"M477.1991,-406.2759C477.5775,-371.6512 478.3975,-296.6211 478.7867,-261.0109\"/>\n",
       "</g>\n",
       "<!-- 9&#45;&gt;15 -->\n",
       "<g id=\"edge48\" class=\"edge\">\n",
       "<title>9&#45;&gt;15</title>\n",
       "<path fill=\"none\" stroke=\"#707070\" d=\"M467.7067,-408.8892C447.371,-374.7481 399.0684,-293.6545 378.0545,-258.375\"/>\n",
       "</g>\n",
       "<!-- 9&#45;&gt;16 -->\n",
       "<g id=\"edge53\" class=\"edge\">\n",
       "<title>9&#45;&gt;16</title>\n",
       "<path fill=\"none\" stroke=\"#707070\" d=\"M462.9033,-412.7657C423.5462,-380.0283 312.715,-287.8387 272.133,-254.0825\"/>\n",
       "</g>\n",
       "<!-- 10&#45;&gt;12 -->\n",
       "<g id=\"edge34\" class=\"edge\">\n",
       "<title>10&#45;&gt;12</title>\n",
       "<path fill=\"none\" stroke=\"#707070\" d=\"M352.741,-411.9133C312.0872,-378.4019 201.511,-287.253 161.0722,-253.9189\"/>\n",
       "</g>\n",
       "<!-- 10&#45;&gt;13 -->\n",
       "<g id=\"edge39\" class=\"edge\">\n",
       "<title>10&#45;&gt;13</title>\n",
       "<path fill=\"none\" stroke=\"#707070\" d=\"M350.5653,-414.9103C293.0215,-383.2878 109.5533,-282.4648 52.2621,-250.981\"/>\n",
       "</g>\n",
       "<!-- 10&#45;&gt;14 -->\n",
       "<g id=\"edge44\" class=\"edge\">\n",
       "<title>10&#45;&gt;14</title>\n",
       "<path fill=\"none\" stroke=\"#707070\" d=\"M378.2437,-407.6035C399.3896,-372.7419 447.6563,-293.1685 468.7811,-258.3419\"/>\n",
       "</g>\n",
       "<!-- 10&#45;&gt;15 -->\n",
       "<g id=\"edge49\" class=\"edge\">\n",
       "<title>10&#45;&gt;15</title>\n",
       "<path fill=\"none\" stroke=\"#707070\" d=\"M368,-404.9075C368,-369.778 368,-296.4421 368,-261.2144\"/>\n",
       "</g>\n",
       "<!-- 10&#45;&gt;16 -->\n",
       "<g id=\"edge54\" class=\"edge\">\n",
       "<title>10&#45;&gt;16</title>\n",
       "<path fill=\"none\" stroke=\"#707070\" d=\"M357.7563,-407.6035C336.6104,-372.7419 288.3437,-293.1685 267.2189,-258.3419\"/>\n",
       "</g>\n",
       "<!-- 11&#45;&gt;12 -->\n",
       "<g id=\"edge35\" class=\"edge\">\n",
       "<title>11&#45;&gt;12</title>\n",
       "<path fill=\"none\" stroke=\"#707070\" d=\"M246.7563,-407.6035C225.6104,-372.7419 177.3437,-293.1685 156.2189,-258.3419\"/>\n",
       "</g>\n",
       "<!-- 11&#45;&gt;13 -->\n",
       "<g id=\"edge40\" class=\"edge\">\n",
       "<title>11&#45;&gt;13</title>\n",
       "<path fill=\"none\" stroke=\"#707070\" d=\"M241.741,-411.9133C201.0872,-378.4019 90.511,-287.253 50.0722,-253.9189\"/>\n",
       "</g>\n",
       "<!-- 11&#45;&gt;14 -->\n",
       "<g id=\"edge45\" class=\"edge\">\n",
       "<title>11&#45;&gt;14</title>\n",
       "<path fill=\"none\" stroke=\"#707070\" d=\"M272.259,-411.9133C312.9128,-378.4019 423.489,-287.253 463.9278,-253.9189\"/>\n",
       "</g>\n",
       "<!-- 11&#45;&gt;15 -->\n",
       "<g id=\"edge50\" class=\"edge\">\n",
       "<title>11&#45;&gt;15</title>\n",
       "<path fill=\"none\" stroke=\"#707070\" d=\"M267.2437,-407.6035C288.3896,-372.7419 336.6563,-293.1685 357.7811,-258.3419\"/>\n",
       "</g>\n",
       "<!-- 11&#45;&gt;16 -->\n",
       "<g id=\"edge55\" class=\"edge\">\n",
       "<title>11&#45;&gt;16</title>\n",
       "<path fill=\"none\" stroke=\"#707070\" d=\"M257,-404.9075C257,-369.778 257,-296.4421 257,-261.2144\"/>\n",
       "</g>\n",
       "<!-- 17 -->\n",
       "<g id=\"node17\" class=\"node\">\n",
       "<title>17</title>\n",
       "<ellipse fill=\"#e74c3c\" stroke=\"#e74c3c\" cx=\"257\" cy=\"-58.4983\" rx=\"19.4965\" ry=\"19.4965\"/>\n",
       "<text text-anchor=\"middle\" x=\"257\" y=\"-54.7983\" font-family=\"Times,serif\" font-size=\"14.00\" fill=\"#e74c3c\">17</text>\n",
       "</g>\n",
       "<!-- 12&#45;&gt;17 -->\n",
       "<g id=\"edge56\" class=\"edge\">\n",
       "<title>12&#45;&gt;17</title>\n",
       "<path fill=\"none\" stroke=\"#707070\" d=\"M156.2437,-224.6069C177.3896,-189.7454 225.6563,-110.172 246.7811,-75.3453\"/>\n",
       "</g>\n",
       "<!-- 13&#45;&gt;17 -->\n",
       "<g id=\"edge57\" class=\"edge\">\n",
       "<title>13&#45;&gt;17</title>\n",
       "<path fill=\"none\" stroke=\"#707070\" d=\"M50.259,-228.9167C90.9128,-195.4054 201.489,-104.2565 241.9278,-70.9224\"/>\n",
       "</g>\n",
       "<!-- 14&#45;&gt;17 -->\n",
       "<g id=\"edge58\" class=\"edge\">\n",
       "<title>14&#45;&gt;17</title>\n",
       "<path fill=\"none\" stroke=\"#707070\" d=\"M463.741,-228.9167C423.0872,-195.4054 312.511,-104.2565 272.0722,-70.9224\"/>\n",
       "</g>\n",
       "<!-- 15&#45;&gt;17 -->\n",
       "<g id=\"edge59\" class=\"edge\">\n",
       "<title>15&#45;&gt;17</title>\n",
       "<path fill=\"none\" stroke=\"#707070\" d=\"M357.7563,-224.6069C336.6104,-189.7454 288.3437,-110.172 267.2189,-75.3453\"/>\n",
       "</g>\n",
       "<!-- 16&#45;&gt;17 -->\n",
       "<g id=\"edge60\" class=\"edge\">\n",
       "<title>16&#45;&gt;17</title>\n",
       "<path fill=\"none\" stroke=\"#707070\" d=\"M257,-221.911C257,-186.7815 257,-113.4456 257,-78.2179\"/>\n",
       "</g>\n",
       "</g>\n",
       "</svg>\n"
      ],
      "text/plain": [
       "<graphviz.dot.Digraph at 0x7f5d34f75430>"
      ]
     },
     "execution_count": 32,
     "metadata": {},
     "output_type": "execute_result"
    }
   ],
   "source": [
    "ann_viz(nn2, view=False)"
   ]
  },
  {
   "cell_type": "code",
   "execution_count": null,
   "metadata": {},
   "outputs": [],
   "source": []
  }
 ],
 "metadata": {
  "kernelspec": {
   "display_name": "Python 3",
   "language": "python",
   "name": "python3"
  },
  "language_info": {
   "codemirror_mode": {
    "name": "ipython",
    "version": 3
   },
   "file_extension": ".py",
   "mimetype": "text/x-python",
   "name": "python",
   "nbconvert_exporter": "python",
   "pygments_lexer": "ipython3",
   "version": "3.8.0"
  }
 },
 "nbformat": 4,
 "nbformat_minor": 4
}
