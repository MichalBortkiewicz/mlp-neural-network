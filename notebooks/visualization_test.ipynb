{
 "cells": [
  {
   "cell_type": "code",
   "execution_count": 1,
   "metadata": {
    "Collapsed": "false"
   },
   "outputs": [],
   "source": [
    "import sys\n",
    "sys.path.append(\"../\")"
   ]
  },
  {
   "cell_type": "code",
   "execution_count": 2,
   "metadata": {
    "Collapsed": "false"
   },
   "outputs": [],
   "source": [
    "from src.nnsrc.dense import NeuralNetwork"
   ]
  },
  {
   "cell_type": "code",
   "execution_count": 3,
   "metadata": {
    "Collapsed": "false"
   },
   "outputs": [],
   "source": [
    "import pandas as pd\n",
    "import numpy as np\n",
    "from sklearn.preprocessing import MinMaxScaler"
   ]
  },
  {
   "cell_type": "code",
   "execution_count": 4,
   "metadata": {
    "Collapsed": "false"
   },
   "outputs": [],
   "source": [
    "from matplotlib.pyplot import plot, legend"
   ]
  },
  {
   "cell_type": "code",
   "execution_count": 5,
   "metadata": {
    "Collapsed": "false"
   },
   "outputs": [],
   "source": [
    "data = pd.read_csv('../src/data/regression/data.cube.train.100.csv')\n",
    "X = data[[\"x\"]].values\n",
    "Y = data[\"y\"].values.reshape(-1,1)"
   ]
  },
  {
   "cell_type": "code",
   "execution_count": 6,
   "metadata": {
    "Collapsed": "false",
    "scrolled": true
   },
   "outputs": [
    {
     "data": {
      "text/plain": [
       "[<matplotlib.lines.Line2D at 0x7f267f839730>]"
      ]
     },
     "execution_count": 6,
     "metadata": {},
     "output_type": "execute_result"
    },
    {
     "data": {
      "image/png": "[encoded data removed]",
      "text/plain": [
       "<Figure size 432x288 with 1 Axes>"
      ]
     },
     "metadata": {
      "needs_background": "light"
     },
     "output_type": "display_data"
    }
   ],
   "source": [
    "plot(*zip(*sorted(zip(data.x, data.y))))"
   ]
  },
  {
   "cell_type": "code",
   "execution_count": 7,
   "metadata": {
    "Collapsed": "false"
   },
   "outputs": [],
   "source": [
    "X_train_scaler = MinMaxScaler((0,1))\n",
    "Y_train_scaler = MinMaxScaler((0,1))\n",
    "X_normed = X_train_scaler.fit_transform(X)\n",
    "y_normed = Y_train_scaler.fit_transform(Y)"
   ]
  },
  {
   "cell_type": "code",
   "execution_count": 8,
   "metadata": {
    "Collapsed": "false"
   },
   "outputs": [
    {
     "data": {
      "text/plain": [
       "[<matplotlib.lines.Line2D at 0x7f267f176850>]"
      ]
     },
     "execution_count": 8,
     "metadata": {},
     "output_type": "execute_result"
    },
    {
     "data": {
      "image/png": "[encoded data removed]",
      "text/plain": [
       "<Figure size 432x288 with 1 Axes>"
      ]
     },
     "metadata": {
      "needs_background": "light"
     },
     "output_type": "display_data"
    }
   ],
   "source": [
    "plot(*zip(*sorted(zip(X_normed, y_normed))))"
   ]
  },
  {
   "cell_type": "code",
   "execution_count": 9,
   "metadata": {
    "Collapsed": "false"
   },
   "outputs": [],
   "source": [
    "#X_normed = X\n",
    "#y_normed = y"
   ]
  },
  {
   "cell_type": "code",
   "execution_count": 10,
   "metadata": {
    "Collapsed": "false"
   },
   "outputs": [],
   "source": [
    "copy_Y_normed = y_normed.copy()"
   ]
  },
  {
   "cell_type": "code",
   "execution_count": 24,
   "metadata": {
    "Collapsed": "false"
   },
   "outputs": [
    {
     "name": "stdout",
     "output_type": "stream",
     "text": [
      "Dense_0 1 1\n",
      "Dense_1 1 5\n",
      "Dense_2 5 5\n",
      "Dense_3 5 5\n",
      "Dense_4 5 1\n"
     ]
    }
   ],
   "source": [
    "nn2 = NeuralNetwork(seed=1, n_layers=5,\n",
    "                    n_neurons_per_layer=[1, 5,  5, 5, 1], act_funcs=['relu', 'relu','relu', 'relu', 'linear'],\n",
    "                    bias=True, problem='regression')\n",
    "\n",
    "for layer in nn2.layers:\n",
    "    print(layer.name, layer.input_dim, layer.output_dim)\n",
    "\n",
    "history = nn2.train(X_normed.T, y_normed, epochs=15000, alpha=0.7, full_history=True, full_history_freq=1000)"
   ]
  },
  {
   "cell_type": "code",
   "execution_count": 25,
   "metadata": {
    "Collapsed": "false"
   },
   "outputs": [
    {
     "data": {
      "text/plain": [
       "[<matplotlib.lines.Line2D at 0x7f267f0a4670>]"
      ]
     },
     "execution_count": 25,
     "metadata": {},
     "output_type": "execute_result"
    },
    {
     "data": {
      "image/png": "[encoded data removed]",
      "text/plain": [
       "<Figure size 432x288 with 1 Axes>"
      ]
     },
     "metadata": {
      "needs_background": "light"
     },
     "output_type": "display_data"
    }
   ],
   "source": [
    "plot(history['cost'])"
   ]
  },
  {
   "cell_type": "code",
   "execution_count": 13,
   "metadata": {},
   "outputs": [],
   "source": [
    "y_hat = nn2.predict(X_normed.T).T"
   ]
  },
  {
   "cell_type": "code",
   "execution_count": 14,
   "metadata": {},
   "outputs": [
    {
     "data": {
      "text/plain": [
       "(100, 1)"
      ]
     },
     "execution_count": 14,
     "metadata": {},
     "output_type": "execute_result"
    }
   ],
   "source": [
    "y_hat.shape"
   ]
  },
  {
   "cell_type": "code",
   "execution_count": 15,
   "metadata": {},
   "outputs": [
    {
     "data": {
      "text/plain": [
       "100"
      ]
     },
     "execution_count": 15,
     "metadata": {},
     "output_type": "execute_result"
    }
   ],
   "source": [
    "len(y_hat)"
   ]
  },
  {
   "cell_type": "code",
   "execution_count": 16,
   "metadata": {
    "Collapsed": "false",
    "scrolled": true
   },
   "outputs": [
    {
     "name": "stdout",
     "output_type": "stream",
     "text": [
      "0.41605903540279765\n"
     ]
    },
    {
     "data": {
      "image/png": "[encoded data removed]",
      "text/plain": [
       "<Figure size 432x288 with 1 Axes>"
      ]
     },
     "metadata": {
      "needs_background": "light"
     },
     "output_type": "display_data"
    }
   ],
   "source": [
    "#y_hat = MinMaxScaler().fit_transform(y_hat.reshape(-1,1))\n",
    "data['y_predicted'] = Y_train_scaler.inverse_transform(y_hat).reshape(-1,1)\n",
    "plot(*zip(*sorted(zip(data.x, data.y))), label='data')\n",
    "plot(*zip(*sorted(zip(data.x, data.y_predicted))), label='pred')\n",
    "legend()\n",
    "print(1 - np.linalg.norm(y_hat - y_normed)/(np.linalg.norm(y_normed.mean()-y_normed)))"
   ]
  },
  {
   "cell_type": "code",
   "execution_count": 17,
   "metadata": {
    "Collapsed": "false"
   },
   "outputs": [
    {
     "data": {
      "text/plain": [
       "[<matplotlib.lines.Line2D at 0x7f267efadc70>]"
      ]
     },
     "execution_count": 17,
     "metadata": {},
     "output_type": "execute_result"
    },
    {
     "data": {
      "image/png": "[encoded data removed]",
      "text/plain": [
       "<Figure size 432x288 with 1 Axes>"
      ]
     },
     "metadata": {
      "needs_background": "light"
     },
     "output_type": "display_data"
    }
   ],
   "source": [
    "plot(y_normed)"
   ]
  },
  {
   "cell_type": "code",
   "execution_count": 18,
   "metadata": {
    "Collapsed": "false"
   },
   "outputs": [
    {
     "data": {
      "text/plain": [
       "[<matplotlib.lines.Line2D at 0x7f267ef87520>]"
      ]
     },
     "execution_count": 18,
     "metadata": {},
     "output_type": "execute_result"
    },
    {
     "data": {
      "image/png": "[encoded data removed]",
      "text/plain": [
       "<Figure size 432x288 with 1 Axes>"
      ]
     },
     "metadata": {
      "needs_background": "light"
     },
     "output_type": "display_data"
    }
   ],
   "source": [
    "plot(y_hat[0])"
   ]
  },
  {
   "cell_type": "code",
   "execution_count": 19,
   "metadata": {},
   "outputs": [],
   "source": [
    "grads, caches, weights, biases = history['grads'], history['caches'], history['weights'], history['biases']"
   ]
  },
  {
   "cell_type": "code",
   "execution_count": 20,
   "metadata": {},
   "outputs": [],
   "source": [
    "grad, cache, weight, bias = grads[0], caches[0], weights[0], biases[0]"
   ]
  },
  {
   "cell_type": "code",
   "execution_count": 21,
   "metadata": {
    "scrolled": true
   },
   "outputs": [],
   "source": [
    "import graphviz"
   ]
  },
  {
   "cell_type": "code",
   "execution_count": 22,
   "metadata": {},
   "outputs": [],
   "source": [
    "from src.visualization.visualize import ann_viz"
   ]
  },
  {
   "cell_type": "code",
   "execution_count": 23,
   "metadata": {
    "scrolled": false
   },
   "outputs": [
    {
     "data": {
      "image/svg+xml": [
       "<?xml version=\"1.0\" encoding=\"UTF-8\" standalone=\"no\"?>\n",
       "<!DOCTYPE svg PUBLIC \"-//W3C//DTD SVG 1.1//EN\"\n",
       " \"http://www.w3.org/Graphics/SVG/1.1/DTD/svg11.dtd\">\n",
       "<!-- Generated by graphviz version 2.40.1 (20161225.0304)\n",
       " -->\n",
       "<!-- Title: ANN Pages: 1 -->\n",
       "<svg width=\"986pt\" height=\"1335pt\"\n",
       " viewBox=\"0.00 0.00 986.00 1335.27\" xmlns=\"http://www.w3.org/2000/svg\" xmlns:xlink=\"http://www.w3.org/1999/xlink\">\n",
       "<g id=\"graph0\" class=\"graph\" transform=\"scale(1 1) rotate(0) translate(4 1331.2742)\">\n",
       "<title>ANN</title>\n",
       "<polygon fill=\"#ffffff\" stroke=\"transparent\" points=\"-4,4 -4,-1331.2742 982,-1331.2742 982,4 -4,4\"/>\n",
       "<g id=\"clust1\" class=\"cluster\">\n",
       "<title>cluster_1</title>\n",
       "<polygon fill=\"none\" stroke=\"#ffffff\" points=\"425,-1172.0193 425,-1319.2742 553,-1319.2742 553,-1172.0193 425,-1172.0193\"/>\n",
       "<text text-anchor=\"middle\" x=\"489\" y=\"-1304.0742\" font-family=\"Times,serif\" font-size=\"14.00\" fill=\"#000000\">My Neural Network</text>\n",
       "<text text-anchor=\"middle\" x=\"489\" y=\"-1241.0742\" font-family=\"Times,serif\" font-size=\"14.00\" fill=\"#000000\">Input Layer</text>\n",
       "</g>\n",
       "<g id=\"clust2\" class=\"cluster\">\n",
       "<title>cluster_2</title>\n",
       "<polygon fill=\"none\" stroke=\"#ffffff\" points=\"8,-886.7645 8,-948.0193 970,-948.0193 970,-886.7645 8,-886.7645\"/>\n",
       "</g>\n",
       "<g id=\"clust3\" class=\"cluster\">\n",
       "<title>cluster_3</title>\n",
       "<polygon fill=\"none\" stroke=\"#ffffff\" points=\"8,-601.5097 8,-662.7645 970,-662.7645 970,-601.5097 8,-601.5097\"/>\n",
       "</g>\n",
       "<g id=\"clust4\" class=\"cluster\">\n",
       "<title>cluster_4</title>\n",
       "<polygon fill=\"none\" stroke=\"#ffffff\" points=\"8,-316.2548 8,-377.5097 970,-377.5097 970,-316.2548 8,-316.2548\"/>\n",
       "</g>\n",
       "<g id=\"clust5\" class=\"cluster\">\n",
       "<title>cluster_5</title>\n",
       "<polygon fill=\"none\" stroke=\"#ffffff\" points=\"445,-8 445,-92.2548 534,-92.2548 534,-8 445,-8\"/>\n",
       "<text text-anchor=\"middle\" x=\"489.5\" y=\"-15.8\" font-family=\"Times,serif\" font-size=\"14.00\" fill=\"#000000\">Output Layer</text>\n",
       "</g>\n",
       "<!-- 0,0 -->\n",
       "<g id=\"node1\" class=\"node\">\n",
       "<title>0,0</title>\n",
       "<g id=\"a_node1\"><a xlink:title=\"b: 0.0&#10;act_func: relu&#10;i: 0.05403807006068037&#10;o: 0.05403807006068037&#10;&#10;backward pass:&#10;db: &#45;&#10;dAcurr: &#45;\">\n",
       "<ellipse fill=\"#f1f1ff\" stroke=\"#000000\" cx=\"489\" cy=\"-1202.6468\" rx=\"22.7556\" ry=\"22.7556\"/>\n",
       "<text text-anchor=\"middle\" x=\"489\" y=\"-1198.9468\" font-family=\"Times,serif\" font-size=\"14.00\" fill=\"#f1f1ff\">0,0</text>\n",
       "</a>\n",
       "</g>\n",
       "</g>\n",
       "<!-- 1,0 -->\n",
       "<g id=\"node2\" class=\"node\">\n",
       "<title>1,0</title>\n",
       "<g id=\"a_node2\"><a xlink:title=\"b: &#45;0.06117564136500754&#10;act_func: relu&#10;i: &#45;0.06117502330556825&#10;o: 0.0&#10;&#10;backward pass:&#10;db: 0.0&#10;dAcurr: 0.01568163317978545\">\n",
       "<ellipse fill=\"#ffffff\" stroke=\"#000000\" cx=\"39\" cy=\"-917.3919\" rx=\"22.7556\" ry=\"22.7556\"/>\n",
       "<text text-anchor=\"middle\" x=\"39\" y=\"-913.6919\" font-family=\"Times,serif\" font-size=\"14.00\" fill=\"#ffffff\">1,0</text>\n",
       "</a>\n",
       "</g>\n",
       "</g>\n",
       "<!-- 0,0&#45;&gt;1,0 -->\n",
       "<g id=\"edge1\" class=\"edge\">\n",
       "<title>0,0&#45;&gt;1,0</title>\n",
       "<g id=\"a_edge1\"><a xlink:title=\"w: 1.1437481734488664e&#45;05&#10;before: 0.05403807006068037&#10;after: 6.180594392860504e&#45;07&#10;&#10;backward pass:&#10;dw: 0.0\">\n",
       "<path fill=\"none\" stroke=\"#fefeff\" stroke-width=\".1\" d=\"M469.6641,-1190.3897C395.8119,-1143.5749 131.9924,-976.3398 58.2639,-929.6033\"/>\n",
       "</a>\n",
       "</g>\n",
       "</g>\n",
       "<!-- 1,1 -->\n",
       "<g id=\"node3\" class=\"node\">\n",
       "<title>1,1</title>\n",
       "<g id=\"a_node3\"><a xlink:title=\"b: &#45;0.11059350760083153&#10;act_func: relu&#10;i: &#45;0.10895976072668102&#10;o: 0.0&#10;&#10;backward pass:&#10;db: 0.0&#10;dAcurr: 0.009301862485342753\">\n",
       "<ellipse fill=\"#ffffff\" stroke=\"#000000\" cx=\"939\" cy=\"-917.3919\" rx=\"22.7556\" ry=\"22.7556\"/>\n",
       "<text text-anchor=\"middle\" x=\"939\" y=\"-913.6919\" font-family=\"Times,serif\" font-size=\"14.00\" fill=\"#ffffff\">1,1</text>\n",
       "</a>\n",
       "</g>\n",
       "</g>\n",
       "<!-- 0,0&#45;&gt;1,1 -->\n",
       "<g id=\"edge2\" class=\"edge\">\n",
       "<title>0,0&#45;&gt;1,1</title>\n",
       "<g id=\"a_edge2\"><a xlink:title=\"w: 0.030233257263183978&#10;before: 0.05403807006068037&#10;after: 0.0016337468741505095&#10;&#10;backward pass:&#10;dw: 0.0\">\n",
       "<path fill=\"none\" stroke=\"#f7f7ff\" stroke-width=\".1877\" d=\"M508.3359,-1190.3897C582.1881,-1143.5749 846.0076,-976.3398 919.7361,-929.6033\"/>\n",
       "</a>\n",
       "</g>\n",
       "</g>\n",
       "<!-- 1,2 -->\n",
       "<g id=\"node4\" class=\"node\">\n",
       "<title>1,2</title>\n",
       "<g id=\"a_node4\"><a xlink:title=\"b: &#45;0.16545154524065694&#10;act_func: relu&#10;i: &#45;0.16465850472967766&#10;o: 0.0&#10;&#10;backward pass:&#10;db: 0.0&#10;dAcurr: 0.012991287370296978\">\n",
       "<ellipse fill=\"#ffffff\" stroke=\"#000000\" cx=\"714\" cy=\"-917.3919\" rx=\"22.7556\" ry=\"22.7556\"/>\n",
       "<text text-anchor=\"middle\" x=\"714\" y=\"-913.6919\" font-family=\"Times,serif\" font-size=\"14.00\" fill=\"#ffffff\">1,2</text>\n",
       "</a>\n",
       "</g>\n",
       "</g>\n",
       "<!-- 0,0&#45;&gt;1,2 -->\n",
       "<g id=\"edge3\" class=\"edge\">\n",
       "<title>0,0&#45;&gt;1,2</title>\n",
       "<g id=\"a_edge3\"><a xlink:title=\"w: 0.014675589081711305&#10;before: 0.05403807006068037&#10;after: 0.0007930405109792714&#10;&#10;backward pass:&#10;dw: 0.0\">\n",
       "<path fill=\"none\" stroke=\"#fbfbff\" stroke-width=\".1426\" d=\"M503.0748,-1184.8028C543.4817,-1133.5749 659.5303,-986.4486 699.9306,-935.2291\"/>\n",
       "</a>\n",
       "</g>\n",
       "</g>\n",
       "<!-- 1,3 -->\n",
       "<g id=\"node5\" class=\"node\">\n",
       "<title>1,3</title>\n",
       "<g id=\"a_node5\"><a xlink:title=\"b: &#45;0.23634686047800121&#10;act_func: relu&#10;i: &#45;0.2358478805326591&#10;o: 0.0&#10;&#10;backward pass:&#10;db: 0.0&#10;dAcurr: 0.009525305016122131\">\n",
       "<ellipse fill=\"#ffffff\" stroke=\"#000000\" cx=\"489\" cy=\"-917.3919\" rx=\"22.7556\" ry=\"22.7556\"/>\n",
       "<text text-anchor=\"middle\" x=\"489\" y=\"-913.6919\" font-family=\"Times,serif\" font-size=\"14.00\" fill=\"#ffffff\">1,3</text>\n",
       "</a>\n",
       "</g>\n",
       "</g>\n",
       "<!-- 0,0&#45;&gt;1,3 -->\n",
       "<g id=\"edge4\" class=\"edge\">\n",
       "<title>0,0&#45;&gt;1,3</title>\n",
       "<g id=\"a_edge4\"><a xlink:title=\"w: 0.009233859476879781&#10;before: 0.05403807006068037&#10;after: 0.000498979945342107&#10;&#10;backward pass:&#10;dw: 0.0\">\n",
       "<path fill=\"none\" stroke=\"#fcfcff\" stroke-width=\".1268\" d=\"M489,-1179.7853C489,-1126.3738 489,-993.881 489,-940.3622\"/>\n",
       "</a>\n",
       "</g>\n",
       "</g>\n",
       "<!-- 1,4 -->\n",
       "<g id=\"node6\" class=\"node\">\n",
       "<title>1,4</title>\n",
       "<g id=\"a_node6\"><a xlink:title=\"b: 0.051599363722284526&#10;act_func: relu&#10;i: 0.09912730259453126&#10;o: 0.09912730259453126&#10;&#10;backward pass:&#10;db: 1.2224404460025595e&#45;05&#10;dAcurr: 0.11061855650814133\">\n",
       "<ellipse fill=\"#e5e5ff\" stroke=\"#000000\" cx=\"264\" cy=\"-917.3919\" rx=\"22.7556\" ry=\"22.7556\"/>\n",
       "<text text-anchor=\"middle\" x=\"264\" y=\"-913.6919\" font-family=\"Times,serif\" font-size=\"14.00\" fill=\"#e5e5ff\">1,4</text>\n",
       "</a>\n",
       "</g>\n",
       "</g>\n",
       "<!-- 0,0&#45;&gt;1,4 -->\n",
       "<g id=\"edge5\" class=\"edge\">\n",
       "<title>0,0&#45;&gt;1,4</title>\n",
       "<g id=\"a_edge5\"><a xlink:title=\"w: 0.8795269486655745&#10;before: 0.05403807006068037&#10;after: 0.04752793887224674&#10;&#10;backward pass:&#10;dw: 8.566220176053907e&#45;07\">\n",
       "<path fill=\"none\" stroke=\"#1e1eff\" stroke-width=\"2.6506\" d=\"M474.9252,-1184.8028C434.5183,-1133.5749 318.4697,-986.4486 278.0694,-935.2291\"/>\n",
       "</a>\n",
       "</g>\n",
       "</g>\n",
       "<!-- 2,0 -->\n",
       "<g id=\"node7\" class=\"node\">\n",
       "<title>2,0</title>\n",
       "<g id=\"a_node7\"><a xlink:title=\"b: 0.032046445208662885&#10;act_func: relu&#10;i: 0.07769714094012159&#10;o: 0.07769714094012159&#10;&#10;backward pass:&#10;db: 7.481482220852709e&#45;06&#10;dAcurr: 0.06542051462855403\">\n",
       "<ellipse fill=\"#ebebff\" stroke=\"#000000\" cx=\"264\" cy=\"-632.1371\" rx=\"22.7556\" ry=\"22.7556\"/>\n",
       "<text text-anchor=\"middle\" x=\"264\" y=\"-628.4371\" font-family=\"Times,serif\" font-size=\"14.00\" fill=\"#ebebff\">2,0</text>\n",
       "</a>\n",
       "</g>\n",
       "</g>\n",
       "<!-- 1,0&#45;&gt;2,0 -->\n",
       "<g id=\"edge6\" class=\"edge\">\n",
       "<title>1,0&#45;&gt;2,0</title>\n",
       "<g id=\"a_edge6\"><a xlink:title=\"w: 0.06852195003967596&#10;before: 0.0&#10;after: 0.0&#10;&#10;backward pass:&#10;dw: 0.0\">\n",
       "<path fill=\"none\" stroke=\"#ededff\" stroke-width=\".2987\" d=\"M53.0748,-899.548C93.4817,-848.3201 209.5303,-701.1938 249.9306,-649.9743\"/>\n",
       "</a>\n",
       "</g>\n",
       "</g>\n",
       "<!-- 2,1 -->\n",
       "<g id=\"node8\" class=\"node\">\n",
       "<title>2,1</title>\n",
       "<g id=\"a_node8\"><a xlink:title=\"b: &#45;0.006671497793803939&#10;act_func: relu&#10;i: 0.042703826634298066&#10;o: 0.042703826634298066&#10;&#10;backward pass:&#10;db: 6.405246624463928e&#45;06&#10;dAcurr: 0.0715468709784588\">\n",
       "<ellipse fill=\"#f4f4ff\" stroke=\"#000000\" cx=\"39\" cy=\"-632.1371\" rx=\"22.7556\" ry=\"22.7556\"/>\n",
       "<text text-anchor=\"middle\" x=\"39\" y=\"-628.4371\" font-family=\"Times,serif\" font-size=\"14.00\" fill=\"#f4f4ff\">2,1</text>\n",
       "</a>\n",
       "</g>\n",
       "</g>\n",
       "<!-- 1,0&#45;&gt;2,1 -->\n",
       "<g id=\"edge11\" class=\"edge\">\n",
       "<title>1,0&#45;&gt;2,1</title>\n",
       "<g id=\"a_edge11\"><a xlink:title=\"w: 0.0417304802367127&#10;before: 0.0&#10;after: 0.0&#10;&#10;backward pass:&#10;dw: 0.0\">\n",
       "<path fill=\"none\" stroke=\"#f4f4ff\" stroke-width=\".221\" d=\"M39,-894.5305C39,-841.119 39,-708.6262 39,-655.1074\"/>\n",
       "</a>\n",
       "</g>\n",
       "</g>\n",
       "<!-- 2,2 -->\n",
       "<g id=\"node9\" class=\"node\">\n",
       "<title>2,2</title>\n",
       "<g id=\"a_node9\"><a xlink:title=\"b: 0.021472805828496908&#10;act_func: relu&#10;i: 0.07615489995359428&#10;o: 0.07615489995359428&#10;&#10;backward pass:&#10;db: 8.917201595031871e&#45;06&#10;dAcurr: 0.07789769130400993\">\n",
       "<ellipse fill=\"#ebebff\" stroke=\"#000000\" cx=\"939\" cy=\"-632.1371\" rx=\"22.7556\" ry=\"22.7556\"/>\n",
       "<text text-anchor=\"middle\" x=\"939\" y=\"-628.4371\" font-family=\"Times,serif\" font-size=\"14.00\" fill=\"#ebebff\">2,2</text>\n",
       "</a>\n",
       "</g>\n",
       "</g>\n",
       "<!-- 1,0&#45;&gt;2,2 -->\n",
       "<g id=\"edge16\" class=\"edge\">\n",
       "<title>1,0&#45;&gt;2,2</title>\n",
       "<g id=\"a_edge16\"><a xlink:title=\"w: 0.09682615757193976&#10;before: 0.0&#10;after: 0.0&#10;&#10;backward pass:&#10;dw: 0.0\">\n",
       "<path fill=\"none\" stroke=\"#e6e6ff\" stroke-width=\".3808\" d=\"M60.8014,-910.482C184.1525,-871.3859 793.4309,-678.2752 917.0836,-639.0835\"/>\n",
       "</a>\n",
       "</g>\n",
       "</g>\n",
       "<!-- 2,3 -->\n",
       "<g id=\"node10\" class=\"node\">\n",
       "<title>2,3</title>\n",
       "<g id=\"a_node10\"><a xlink:title=\"b: &#45;0.06837278591743332&#10;act_func: relu&#10;i: &#45;0.06739790028177503&#10;o: 0.0&#10;&#10;backward pass:&#10;db: 0.0&#10;dAcurr: 0.0074455329764607945\">\n",
       "<ellipse fill=\"#ffffff\" stroke=\"#000000\" cx=\"714\" cy=\"-632.1371\" rx=\"22.7556\" ry=\"22.7556\"/>\n",
       "<text text-anchor=\"middle\" x=\"714\" y=\"-628.4371\" font-family=\"Times,serif\" font-size=\"14.00\" fill=\"#ffffff\">2,3</text>\n",
       "</a>\n",
       "</g>\n",
       "</g>\n",
       "<!-- 1,0&#45;&gt;2,3 -->\n",
       "<g id=\"edge21\" class=\"edge\">\n",
       "<title>1,0&#45;&gt;2,3</title>\n",
       "<g id=\"a_edge21\"><a xlink:title=\"w: 0.008504421136977792&#10;before: 0.0&#10;after: 0.0&#10;&#10;backward pass:&#10;dw: 0.0\">\n",
       "<path fill=\"none\" stroke=\"#fcfcff\" stroke-width=\".1247\" d=\"M59.9416,-908.542C160.4116,-866.0834 592.3039,-683.5658 692.9694,-641.0246\"/>\n",
       "</a>\n",
       "</g>\n",
       "</g>\n",
       "<!-- 2,4 -->\n",
       "<g id=\"node11\" class=\"node\">\n",
       "<title>2,4</title>\n",
       "<g id=\"a_node11\"><a xlink:title=\"b: &#45;0.0060975418373138525&#10;act_func: relu&#10;i: 0.00561686635189832&#10;o: 0.00561686635189832&#10;&#10;backward pass:&#10;db: 5.665244313969985e&#45;06&#10;dAcurr: 0.015926392374684246\">\n",
       "<ellipse fill=\"#fdfdff\" stroke=\"#000000\" cx=\"489\" cy=\"-632.1371\" rx=\"22.7556\" ry=\"22.7556\"/>\n",
       "<text text-anchor=\"middle\" x=\"489\" y=\"-628.4371\" font-family=\"Times,serif\" font-size=\"14.00\" fill=\"#fdfdff\">2,4</text>\n",
       "</a>\n",
       "</g>\n",
       "</g>\n",
       "<!-- 1,0&#45;&gt;2,4 -->\n",
       "<g id=\"edge26\" class=\"edge\">\n",
       "<title>1,0&#45;&gt;2,4</title>\n",
       "<g id=\"a_edge26\"><a xlink:title=\"w: 0.04211076250050522&#10;before: 0.0&#10;after: 0.0&#10;&#10;backward pass:&#10;dw: 0.0\">\n",
       "<path fill=\"none\" stroke=\"#f4f4ff\" stroke-width=\".2221\" d=\"M58.3359,-905.1349C132.1881,-858.32 396.0076,-691.0849 469.7361,-644.3485\"/>\n",
       "</a>\n",
       "</g>\n",
       "</g>\n",
       "<!-- 1,1&#45;&gt;2,0 -->\n",
       "<g id=\"edge7\" class=\"edge\">\n",
       "<title>1,1&#45;&gt;2,0</title>\n",
       "<g id=\"a_edge7\"><a xlink:title=\"w: 0.020445224973151745&#10;before: 0.0&#10;after: 0.0&#10;&#10;backward pass:&#10;dw: 0.0\">\n",
       "<path fill=\"none\" stroke=\"#f9f9ff\" stroke-width=\".1593\" d=\"M918.0584,-908.542C817.5884,-866.0834 385.6961,-683.5658 285.0306,-641.0246\"/>\n",
       "</a>\n",
       "</g>\n",
       "</g>\n",
       "<!-- 1,1&#45;&gt;2,1 -->\n",
       "<g id=\"edge12\" class=\"edge\">\n",
       "<title>1,1&#45;&gt;2,1</title>\n",
       "<g id=\"a_edge12\"><a xlink:title=\"w: 0.05586898284457517&#10;before: 0.0&#10;after: 0.0&#10;&#10;backward pass:&#10;dw: 0.0\">\n",
       "<path fill=\"none\" stroke=\"#f0f0ff\" stroke-width=\".262\" d=\"M917.1986,-910.482C793.8475,-871.3859 184.5691,-678.2752 60.9164,-639.0835\"/>\n",
       "</a>\n",
       "</g>\n",
       "</g>\n",
       "<!-- 1,1&#45;&gt;2,2 -->\n",
       "<g id=\"edge17\" class=\"edge\">\n",
       "<title>1,1&#45;&gt;2,2</title>\n",
       "<g id=\"a_edge17\"><a xlink:title=\"w: 0.031342417815924284&#10;before: 0.0&#10;after: 0.0&#10;&#10;backward pass:&#10;dw: 0.0\">\n",
       "<path fill=\"none\" stroke=\"#f7f7ff\" stroke-width=\".1909\" d=\"M939,-894.5305C939,-841.119 939,-708.6262 939,-655.1074\"/>\n",
       "</a>\n",
       "</g>\n",
       "</g>\n",
       "<!-- 1,1&#45;&gt;2,3 -->\n",
       "<g id=\"edge22\" class=\"edge\">\n",
       "<title>1,1&#45;&gt;2,3</title>\n",
       "<g id=\"a_edge22\"><a xlink:title=\"w: 0.0039054783232882364&#10;before: 0.0&#10;after: 0.0&#10;&#10;backward pass:&#10;dw: 0.0\">\n",
       "<path fill=\"none\" stroke=\"#fefeff\" stroke-width=\".1113\" d=\"M924.9252,-899.548C884.5183,-848.3201 768.4697,-701.1938 728.0694,-649.9743\"/>\n",
       "</a>\n",
       "</g>\n",
       "</g>\n",
       "<!-- 1,1&#45;&gt;2,4 -->\n",
       "<g id=\"edge27\" class=\"edge\">\n",
       "<title>1,1&#45;&gt;2,4</title>\n",
       "<g id=\"a_edge27\"><a xlink:title=\"w: 0.0957889530150502&#10;before: 0.0&#10;after: 0.0&#10;&#10;backward pass:&#10;dw: 0.0\">\n",
       "<path fill=\"none\" stroke=\"#e6e6ff\" stroke-width=\".3778\" d=\"M919.6641,-905.1349C845.8119,-858.32 581.9924,-691.0849 508.2639,-644.3485\"/>\n",
       "</a>\n",
       "</g>\n",
       "</g>\n",
       "<!-- 1,2&#45;&gt;2,0 -->\n",
       "<g id=\"edge8\" class=\"edge\">\n",
       "<title>1,2&#45;&gt;2,0</title>\n",
       "<g id=\"a_edge8\"><a xlink:title=\"w: 0.08781174363909455&#10;before: 0.0&#10;after: 0.0&#10;&#10;backward pass:&#10;dw: 0.0\">\n",
       "<path fill=\"none\" stroke=\"#e8e8ff\" stroke-width=\".3547\" d=\"M694.6641,-905.1349C620.8119,-858.32 356.9924,-691.0849 283.2639,-644.3485\"/>\n",
       "</a>\n",
       "</g>\n",
       "</g>\n",
       "<!-- 1,2&#45;&gt;2,1 -->\n",
       "<g id=\"edge13\" class=\"edge\">\n",
       "<title>1,2&#45;&gt;2,1</title>\n",
       "<g id=\"a_edge13\"><a xlink:title=\"w: 0.014038693859523377&#10;before: 0.0&#10;after: 0.0&#10;&#10;backward pass:&#10;dw: 0.0\">\n",
       "<path fill=\"none\" stroke=\"#fbfbff\" stroke-width=\".1407\" d=\"M693.0584,-908.542C592.5884,-866.0834 160.6961,-683.5658 60.0306,-641.0246\"/>\n",
       "</a>\n",
       "</g>\n",
       "</g>\n",
       "<!-- 1,2&#45;&gt;2,2 -->\n",
       "<g id=\"edge18\" class=\"edge\">\n",
       "<title>1,2&#45;&gt;2,2</title>\n",
       "<g id=\"a_edge18\"><a xlink:title=\"w: 0.06923226156693141&#10;before: 0.0&#10;after: 0.0&#10;&#10;backward pass:&#10;dw: 0.0\">\n",
       "<path fill=\"none\" stroke=\"#ededff\" stroke-width=\".3008\" d=\"M728.0748,-899.548C768.4817,-848.3201 884.5303,-701.1938 924.9306,-649.9743\"/>\n",
       "</a>\n",
       "</g>\n",
       "</g>\n",
       "<!-- 1,2&#45;&gt;2,3 -->\n",
       "<g id=\"edge23\" class=\"edge\">\n",
       "<title>1,2&#45;&gt;2,3</title>\n",
       "<g id=\"a_edge23\"><a xlink:title=\"w: 0.01698304195645689&#10;before: 0.0&#10;after: 0.0&#10;&#10;backward pass:&#10;dw: 0.0\">\n",
       "<path fill=\"none\" stroke=\"#fafaff\" stroke-width=\".1493\" d=\"M714,-894.5305C714,-841.119 714,-708.6262 714,-655.1074\"/>\n",
       "</a>\n",
       "</g>\n",
       "</g>\n",
       "<!-- 1,2&#45;&gt;2,4 -->\n",
       "<g id=\"edge28\" class=\"edge\">\n",
       "<title>1,2&#45;&gt;2,4</title>\n",
       "<g id=\"a_edge28\"><a xlink:title=\"w: 0.05331652849730171&#10;before: 0.0&#10;after: 0.0&#10;&#10;backward pass:&#10;dw: 0.0\">\n",
       "<path fill=\"none\" stroke=\"#f1f1ff\" stroke-width=\".2546\" d=\"M699.9252,-899.548C659.5183,-848.3201 543.4697,-701.1938 503.0694,-649.9743\"/>\n",
       "</a>\n",
       "</g>\n",
       "</g>\n",
       "<!-- 1,3&#45;&gt;2,0 -->\n",
       "<g id=\"edge9\" class=\"edge\">\n",
       "<title>1,3&#45;&gt;2,0</title>\n",
       "<g id=\"a_edge9\"><a xlink:title=\"w: 0.0027387593197926163&#10;before: 0.0&#10;after: 0.0&#10;&#10;backward pass:&#10;dw: 0.0\">\n",
       "<path fill=\"none\" stroke=\"#fefeff\" stroke-width=\".1079\" d=\"M474.9252,-899.548C434.5183,-848.3201 318.4697,-701.1938 278.0694,-649.9743\"/>\n",
       "</a>\n",
       "</g>\n",
       "</g>\n",
       "<!-- 1,3&#45;&gt;2,1 -->\n",
       "<g id=\"edge14\" class=\"edge\">\n",
       "<title>1,3&#45;&gt;2,1</title>\n",
       "<g id=\"a_edge14\"><a xlink:title=\"w: 0.019810148908487882&#10;before: 0.0&#10;after: 0.0&#10;&#10;backward pass:&#10;dw: 0.0\">\n",
       "<path fill=\"none\" stroke=\"#f9f9ff\" stroke-width=\".1574\" d=\"M469.6641,-905.1349C395.8119,-858.32 131.9924,-691.0849 58.2639,-644.3485\"/>\n",
       "</a>\n",
       "</g>\n",
       "</g>\n",
       "<!-- 1,3&#45;&gt;2,2 -->\n",
       "<g id=\"edge19\" class=\"edge\">\n",
       "<title>1,3&#45;&gt;2,2</title>\n",
       "<g id=\"a_edge19\"><a xlink:title=\"w: 0.08763891522960383&#10;before: 0.0&#10;after: 0.0&#10;&#10;backward pass:&#10;dw: 0.0\">\n",
       "<path fill=\"none\" stroke=\"#e8e8ff\" stroke-width=\".3542\" d=\"M508.3359,-905.1349C582.1881,-858.32 846.0076,-691.0849 919.7361,-644.3485\"/>\n",
       "</a>\n",
       "</g>\n",
       "</g>\n",
       "<!-- 1,3&#45;&gt;2,3 -->\n",
       "<g id=\"edge24\" class=\"edge\">\n",
       "<title>1,3&#45;&gt;2,3</title>\n",
       "<g id=\"a_edge24\"><a xlink:title=\"w: 0.08781425034294132&#10;before: 0.0&#10;after: 0.0&#10;&#10;backward pass:&#10;dw: 0.0\">\n",
       "<path fill=\"none\" stroke=\"#e8e8ff\" stroke-width=\".3547\" d=\"M503.0748,-899.548C543.4817,-848.3201 659.5303,-701.1938 699.9306,-649.9743\"/>\n",
       "</a>\n",
       "</g>\n",
       "</g>\n",
       "<!-- 1,3&#45;&gt;2,4 -->\n",
       "<g id=\"edge29\" class=\"edge\">\n",
       "<title>1,3&#45;&gt;2,4</title>\n",
       "<g id=\"a_edge29\"><a xlink:title=\"w: 0.06918771139504734&#10;before: 0.0&#10;after: 0.0&#10;&#10;backward pass:&#10;dw: 0.0\">\n",
       "<path fill=\"none\" stroke=\"#ededff\" stroke-width=\".3006\" d=\"M489,-894.5305C489,-841.119 489,-708.6262 489,-655.1074\"/>\n",
       "</a>\n",
       "</g>\n",
       "</g>\n",
       "<!-- 1,4&#45;&gt;2,0 -->\n",
       "<g id=\"edge10\" class=\"edge\">\n",
       "<title>1,4&#45;&gt;2,0</title>\n",
       "<g id=\"a_edge10\"><a xlink:title=\"w: 0.460525955378687&#10;before: 0.09912730259453126&#10;after: 0.045650695731458704&#10;&#10;backward pass:&#10;dw: 7.396067852137709e&#45;07\">\n",
       "<path fill=\"none\" stroke=\"#8989ff\" stroke-width=\"1.4355\" d=\"M264,-894.5305C264,-841.119 264,-708.6262 264,-655.1074\"/>\n",
       "</a>\n",
       "</g>\n",
       "</g>\n",
       "<!-- 1,4&#45;&gt;2,1 -->\n",
       "<g id=\"edge15\" class=\"edge\">\n",
       "<title>1,4&#45;&gt;2,1</title>\n",
       "<g id=\"a_edge15\"><a xlink:title=\"w: 0.49810015137873814&#10;before: 0.09912730259453126&#10;after: 0.049375324428102&#10;&#10;backward pass:&#10;dw: 1.3662328507378996e&#45;06\">\n",
       "<path fill=\"none\" stroke=\"#7f7fff\" stroke-width=\"1.5445\" d=\"M249.9252,-899.548C209.5183,-848.3201 93.4697,-701.1938 53.0694,-649.9743\"/>\n",
       "</a>\n",
       "</g>\n",
       "</g>\n",
       "<!-- 1,4&#45;&gt;2,2 -->\n",
       "<g id=\"edge20\" class=\"edge\">\n",
       "<title>1,4&#45;&gt;2,2</title>\n",
       "<g id=\"a_edge20\"><a xlink:title=\"w: 0.5516350459849406&#10;before: 0.09912730259453126&#10;after: 0.05468209412509738&#10;&#10;backward pass:&#10;dw: 8.778964709601993e&#45;07\">\n",
       "<path fill=\"none\" stroke=\"#7272ff\" stroke-width=\"1.6997\" d=\"M284.9416,-908.542C385.4116,-866.0834 817.3039,-683.5658 917.9694,-641.0246\"/>\n",
       "</a>\n",
       "</g>\n",
       "</g>\n",
       "<!-- 1,4&#45;&gt;2,3 -->\n",
       "<g id=\"edge25\" class=\"edge\">\n",
       "<title>1,4&#45;&gt;2,3</title>\n",
       "<g id=\"a_edge25\"><a xlink:title=\"w: 0.00983468338330501&#10;before: 0.09912730259453126&#10;after: 0.0009748856356582841&#10;&#10;backward pass:&#10;dw: 0.0\">\n",
       "<path fill=\"none\" stroke=\"#fcfcff\" stroke-width=\".1285\" d=\"M283.3359,-905.1349C357.1881,-858.32 621.0076,-691.0849 694.7361,-644.3485\"/>\n",
       "</a>\n",
       "</g>\n",
       "</g>\n",
       "<!-- 1,4&#45;&gt;2,4 -->\n",
       "<g id=\"edge30\" class=\"edge\">\n",
       "<title>1,4&#45;&gt;2,4</title>\n",
       "<g id=\"a_edge30\"><a xlink:title=\"w: 0.11817539550257512&#10;before: 0.09912730259453126&#10;after: 0.011714408189212173&#10;&#10;backward pass:&#10;dw: &#45;1.0257103809316707e&#45;06\">\n",
       "<path fill=\"none\" stroke=\"#e0e0ff\" stroke-width=\".4427\" d=\"M278.0748,-899.548C318.4817,-848.3201 434.5303,-701.1938 474.9306,-649.9743\"/>\n",
       "</a>\n",
       "</g>\n",
       "</g>\n",
       "<!-- 3,0 -->\n",
       "<g id=\"node12\" class=\"node\">\n",
       "<title>3,0</title>\n",
       "<g id=\"a_node12\"><a xlink:title=\"b: &#45;0.09357694342590689&#10;act_func: relu&#10;i: &#45;0.08306114299750018&#10;o: 0.0&#10;&#10;backward pass:&#10;db: 0.0&#10;dAcurr: 0.01299919459502132\">\n",
       "<ellipse fill=\"#ffffff\" stroke=\"#000000\" cx=\"264\" cy=\"-346.8823\" rx=\"22.7556\" ry=\"22.7556\"/>\n",
       "<text text-anchor=\"middle\" x=\"264\" y=\"-343.1823\" font-family=\"Times,serif\" font-size=\"14.00\" fill=\"#ffffff\">3,0</text>\n",
       "</a>\n",
       "</g>\n",
       "</g>\n",
       "<!-- 2,0&#45;&gt;3,0 -->\n",
       "<g id=\"edge31\" class=\"edge\">\n",
       "<title>2,0&#45;&gt;3,0</title>\n",
       "<g id=\"a_edge31\"><a xlink:title=\"w: 0.09085955030930956&#10;before: 0.07769714094012159&#10;after: 0.0070595272861384934&#10;&#10;backward pass:&#10;dw: 0.0\">\n",
       "<path fill=\"none\" stroke=\"#e7e7ff\" stroke-width=\".3635\" d=\"M264,-609.2757C264,-555.8641 264,-423.3714 264,-369.8525\"/>\n",
       "</a>\n",
       "</g>\n",
       "</g>\n",
       "<!-- 3,1 -->\n",
       "<g id=\"node13\" class=\"node\">\n",
       "<title>3,1</title>\n",
       "<g id=\"a_node13\"><a xlink:title=\"b: &#45;0.05255308089380203&#10;act_func: relu&#10;i: &#45;0.04391475609247854&#10;o: 0.0&#10;&#10;backward pass:&#10;db: 1.7225046268908073e&#45;05&#10;dAcurr: 0.017006132679829818\">\n",
       "<ellipse fill=\"#ffffff\" stroke=\"#000000\" cx=\"39\" cy=\"-346.8823\" rx=\"22.7556\" ry=\"22.7556\"/>\n",
       "<text text-anchor=\"middle\" x=\"39\" y=\"-343.1823\" font-family=\"Times,serif\" font-size=\"14.00\" fill=\"#ffffff\">3,1</text>\n",
       "</a>\n",
       "</g>\n",
       "</g>\n",
       "<!-- 2,0&#45;&gt;3,1 -->\n",
       "<g id=\"edge36\" class=\"edge\">\n",
       "<title>2,0&#45;&gt;3,1</title>\n",
       "<g id=\"a_edge36\"><a xlink:title=\"w: 0.06960149834690448&#10;before: 0.07769714094012159&#10;after: 0.005407837426703077&#10;&#10;backward pass:&#10;dw: &#45;1.93630951505011e&#45;06\">\n",
       "<path fill=\"none\" stroke=\"#ededff\" stroke-width=\".3018\" d=\"M249.9252,-614.2931C209.5183,-563.0652 93.4697,-415.939 53.0694,-364.7195\"/>\n",
       "</a>\n",
       "</g>\n",
       "</g>\n",
       "<!-- 3,2 -->\n",
       "<g id=\"node14\" class=\"node\">\n",
       "<title>3,2</title>\n",
       "<g id=\"a_node14\"><a xlink:title=\"b: &#45;0.03764549663437176&#10;act_func: relu&#10;i: 0.025662031819550464&#10;o: 0.025662031819550464&#10;&#10;backward pass:&#10;db: &#45;9.994831778428054e&#45;07&#10;dAcurr: 0.09837615344160718\">\n",
       "<ellipse fill=\"#f8f8ff\" stroke=\"#000000\" cx=\"939\" cy=\"-346.8823\" rx=\"22.7556\" ry=\"22.7556\"/>\n",
       "<text text-anchor=\"middle\" x=\"939\" y=\"-343.1823\" font-family=\"Times,serif\" font-size=\"14.00\" fill=\"#f8f8ff\">3,2</text>\n",
       "</a>\n",
       "</g>\n",
       "</g>\n",
       "<!-- 2,0&#45;&gt;3,2 -->\n",
       "<g id=\"edge41\" class=\"edge\">\n",
       "<title>2,0&#45;&gt;3,2</title>\n",
       "<g id=\"a_edge41\"><a xlink:title=\"w: 0.30114022633119336&#10;before: 0.07769714094012159&#10;after: 0.023397734607994845&#10;&#10;backward pass:&#10;dw: 2.2497477623309655e&#45;06\">\n",
       "<path fill=\"none\" stroke=\"#b2b2ff\" stroke-width=\".9733\" d=\"M284.9416,-623.2872C385.4116,-580.8286 817.3039,-398.311 917.9694,-355.7698\"/>\n",
       "</a>\n",
       "</g>\n",
       "</g>\n",
       "<!-- 3,3 -->\n",
       "<g id=\"node15\" class=\"node\">\n",
       "<title>3,3</title>\n",
       "<g id=\"a_node15\"><a xlink:title=\"b: &#45;0.03992364207344247&#10;act_func: relu&#10;i: 0.030633833546684378&#10;o: 0.030633833546684378&#10;&#10;backward pass:&#10;db: &#45;1.1421713228965818e&#45;06&#10;dAcurr: 0.11242052273501905\">\n",
       "<ellipse fill=\"#f7f7ff\" stroke=\"#000000\" cx=\"714\" cy=\"-346.8823\" rx=\"22.7556\" ry=\"22.7556\"/>\n",
       "<text text-anchor=\"middle\" x=\"714\" y=\"-343.1823\" font-family=\"Times,serif\" font-size=\"14.00\" fill=\"#f7f7ff\">3,3</text>\n",
       "</a>\n",
       "</g>\n",
       "</g>\n",
       "<!-- 2,0&#45;&gt;3,3 -->\n",
       "<g id=\"edge46\" class=\"edge\">\n",
       "<title>2,0&#45;&gt;3,3</title>\n",
       "<g id=\"a_edge46\"><a xlink:title=\"w: 0.31840714350642246&#10;before: 0.07769714094012159&#10;after: 0.024739324705360027&#10;&#10;backward pass:&#10;dw: 2.5709260894542484e&#45;06\">\n",
       "<path fill=\"none\" stroke=\"#adadff\" stroke-width=\"1.0234\" d=\"M283.3359,-619.88C357.1881,-573.0652 621.0076,-405.8301 694.7361,-359.0936\"/>\n",
       "</a>\n",
       "</g>\n",
       "</g>\n",
       "<!-- 3,4 -->\n",
       "<g id=\"node16\" class=\"node\">\n",
       "<title>3,4</title>\n",
       "<g id=\"a_node16\"><a xlink:title=\"b: &#45;0.19827724562306737&#10;act_func: relu&#10;i: &#45;0.16885222990030385&#10;o: 0.0&#10;&#10;backward pass:&#10;db: 5.3043160308241433e&#45;05&#10;dAcurr: 0.05236903331793604\">\n",
       "<ellipse fill=\"#ffffff\" stroke=\"#000000\" cx=\"489\" cy=\"-346.8823\" rx=\"22.7556\" ry=\"22.7556\"/>\n",
       "<text text-anchor=\"middle\" x=\"489\" y=\"-343.1823\" font-family=\"Times,serif\" font-size=\"14.00\" fill=\"#ffffff\">3,4</text>\n",
       "</a>\n",
       "</g>\n",
       "</g>\n",
       "<!-- 2,0&#45;&gt;3,4 -->\n",
       "<g id=\"edge51\" class=\"edge\">\n",
       "<title>2,0&#45;&gt;3,4</title>\n",
       "<g id=\"a_edge51\"><a xlink:title=\"w: 0.1309735930095122&#10;before: 0.07769714094012159&#10;after: 0.010176273715494193&#10;&#10;backward pass:&#10;dw: &#45;5.962711182876104e&#45;06\">\n",
       "<path fill=\"none\" stroke=\"#ddddff\" stroke-width=\".4798\" d=\"M278.0748,-614.2931C318.4817,-563.0652 434.5303,-415.939 474.9306,-364.7195\"/>\n",
       "</a>\n",
       "</g>\n",
       "</g>\n",
       "<!-- 2,1&#45;&gt;3,0 -->\n",
       "<g id=\"edge32\" class=\"edge\">\n",
       "<title>2,1&#45;&gt;3,0</title>\n",
       "<g id=\"a_edge32\"><a xlink:title=\"w: 0.02936141483736795&#10;before: 0.042703826634298066&#10;after: 0.0012538447689526679&#10;&#10;backward pass:&#10;dw: 0.0\">\n",
       "<path fill=\"none\" stroke=\"#f7f7ff\" stroke-width=\".1851\" d=\"M53.0748,-614.2931C93.4817,-563.0652 209.5303,-415.939 249.9306,-364.7195\"/>\n",
       "</a>\n",
       "</g>\n",
       "</g>\n",
       "<!-- 2,1&#45;&gt;3,1 -->\n",
       "<g id=\"edge37\" class=\"edge\">\n",
       "<title>2,1&#45;&gt;3,1</title>\n",
       "<g id=\"a_edge37\"><a xlink:title=\"w: 0.02349662456536695&#10;before: 0.042703826634298066&#10;after: 0.0010033957819306192&#10;&#10;backward pass:&#10;dw: &#45;2.806248539993756e&#45;06\">\n",
       "<path fill=\"none\" stroke=\"#f9f9ff\" stroke-width=\".1681\" d=\"M39,-609.2757C39,-555.8641 39,-423.3714 39,-369.8525\"/>\n",
       "</a>\n",
       "</g>\n",
       "</g>\n",
       "<!-- 2,1&#45;&gt;3,2 -->\n",
       "<g id=\"edge42\" class=\"edge\">\n",
       "<title>2,1&#45;&gt;3,2</title>\n",
       "<g id=\"a_edge42\"><a xlink:title=\"w: 0.2906747796751546&#10;before: 0.042703826634298066&#10;after: 0.01241292539821059&#10;&#10;backward pass:&#10;dw: 2.4746153549034627e&#45;06\">\n",
       "<path fill=\"none\" stroke=\"#b4b4ff\" stroke-width=\".943\" d=\"M60.8014,-625.2271C184.1525,-586.131 793.4309,-393.0203 917.0836,-353.8286\"/>\n",
       "</a>\n",
       "</g>\n",
       "</g>\n",
       "<!-- 2,1&#45;&gt;3,3 -->\n",
       "<g id=\"edge47\" class=\"edge\">\n",
       "<title>2,1&#45;&gt;3,3</title>\n",
       "<g id=\"a_edge47\"><a xlink:title=\"w: 0.38206017199163095&#10;before: 0.042703826634298066&#10;after: 0.01631543134860071&#10;&#10;backward pass:&#10;dw: 2.827896212993601e&#45;06\">\n",
       "<path fill=\"none\" stroke=\"#9d9dff\" stroke-width=\"1.208\" d=\"M59.9416,-623.2872C160.4116,-580.8286 592.3039,-398.311 692.9694,-355.7698\"/>\n",
       "</a>\n",
       "</g>\n",
       "</g>\n",
       "<!-- 2,1&#45;&gt;3,4 -->\n",
       "<g id=\"edge52\" class=\"edge\">\n",
       "<title>2,1&#45;&gt;3,4</title>\n",
       "<g id=\"a_edge52\"><a xlink:title=\"w: 0.12682914940677428&#10;before: 0.042703826634298066&#10;after: 0.005416090008442376&#10;&#10;backward pass:&#10;dw: &#45;8.641619235609408e&#45;06\">\n",
       "<path fill=\"none\" stroke=\"#dedeff\" stroke-width=\".4678\" d=\"M58.3359,-619.88C132.1881,-573.0652 396.0076,-405.8301 469.7361,-359.0936\"/>\n",
       "</a>\n",
       "</g>\n",
       "</g>\n",
       "<!-- 2,2&#45;&gt;3,0 -->\n",
       "<g id=\"edge33\" class=\"edge\">\n",
       "<title>2,2&#45;&gt;3,0</title>\n",
       "<g id=\"a_edge33\"><a xlink:title=\"w: 0.028777533858634876&#10;before: 0.07615489995359428&#10;after: 0.002191550211915511&#10;&#10;backward pass:&#10;dw: 0.0\">\n",
       "<path fill=\"none\" stroke=\"#f7f7ff\" stroke-width=\".1835\" d=\"M918.0584,-623.2872C817.5884,-580.8286 385.6961,-398.311 285.0306,-355.7698\"/>\n",
       "</a>\n",
       "</g>\n",
       "</g>\n",
       "<!-- 2,2&#45;&gt;3,1 -->\n",
       "<g id=\"edge38\" class=\"edge\">\n",
       "<title>2,2&#45;&gt;3,1</title>\n",
       "<g id=\"a_edge38\"><a xlink:title=\"w: 0.028801677600945635&#10;before: 0.07615489995359428&#10;after: 0.002193388876195692&#10;&#10;backward pass:&#10;dw: &#45;2.6107210219637695e&#45;06\">\n",
       "<path fill=\"none\" stroke=\"#f7f7ff\" stroke-width=\".1835\" d=\"M917.1986,-625.2271C793.8475,-586.131 184.5691,-393.0203 60.9164,-353.8286\"/>\n",
       "</a>\n",
       "</g>\n",
       "</g>\n",
       "<!-- 2,2&#45;&gt;3,2 -->\n",
       "<g id=\"edge43\" class=\"edge\">\n",
       "<title>2,2&#45;&gt;3,2</title>\n",
       "<g id=\"a_edge43\"><a xlink:title=\"w: 0.3574101136323&#10;before: 0.07615489995359428&#10;after: 0.027218531446070574&#10;&#10;backward pass:&#10;dw: 2.711736066100269e&#45;06\">\n",
       "<path fill=\"none\" stroke=\"#a3a3ff\" stroke-width=\"1.1365\" d=\"M939,-609.2757C939,-555.8641 939,-423.3714 939,-369.8525\"/>\n",
       "</a>\n",
       "</g>\n",
       "</g>\n",
       "<!-- 2,2&#45;&gt;3,3 -->\n",
       "<g id=\"edge48\" class=\"edge\">\n",
       "<title>2,2&#45;&gt;3,3</title>\n",
       "<g id=\"a_edge48\"><a xlink:title=\"w: 0.38015353499529597&#10;before: 0.07615489995359428&#10;after: 0.028950554424571968&#10;&#10;backward pass:&#10;dw: 3.098868733990543e&#45;06\">\n",
       "<path fill=\"none\" stroke=\"#9e9eff\" stroke-width=\"1.2024\" d=\"M924.9252,-614.2931C884.5183,-563.0652 768.4697,-415.939 728.0694,-364.7195\"/>\n",
       "</a>\n",
       "</g>\n",
       "</g>\n",
       "<!-- 2,2&#45;&gt;3,4 -->\n",
       "<g id=\"edge53\" class=\"edge\">\n",
       "<title>2,2&#45;&gt;3,4</title>\n",
       "<g id=\"a_edge53\"><a xlink:title=\"w: 0.17367964454486332&#10;before: 0.07615489995359428&#10;after: 0.013226555954289882&#10;&#10;backward pass:&#10;dw: &#45;8.039507791516628e&#45;06\">\n",
       "<path fill=\"none\" stroke=\"#d2d2ff\" stroke-width=\".6037\" d=\"M919.6641,-619.88C845.8119,-573.0652 581.9924,-405.8301 508.2639,-359.0936\"/>\n",
       "</a>\n",
       "</g>\n",
       "</g>\n",
       "<!-- 2,3&#45;&gt;3,0 -->\n",
       "<g id=\"edge34\" class=\"edge\">\n",
       "<title>2,3&#45;&gt;3,0</title>\n",
       "<g id=\"a_edge34\"><a xlink:title=\"w: 0.013002857211827768&#10;before: 0.0&#10;after: 0.0&#10;&#10;backward pass:&#10;dw: 0.0\">\n",
       "<path fill=\"none\" stroke=\"#fbfbff\" stroke-width=\".1377\" d=\"M694.6641,-619.88C620.8119,-573.0652 356.9924,-405.8301 283.2639,-359.0936\"/>\n",
       "</a>\n",
       "</g>\n",
       "</g>\n",
       "<!-- 2,3&#45;&gt;3,1 -->\n",
       "<g id=\"edge39\" class=\"edge\">\n",
       "<title>2,3&#45;&gt;3,1</title>\n",
       "<g id=\"a_edge39\"><a xlink:title=\"w: 0.04915731592803383&#10;before: 0.0&#10;after: 0.0&#10;&#10;backward pass:&#10;dw: 0.0\">\n",
       "<path fill=\"none\" stroke=\"#f2f2ff\" stroke-width=\".2426\" d=\"M693.0584,-623.2872C592.5884,-580.8286 160.6961,-398.311 60.0306,-355.7698\"/>\n",
       "</a>\n",
       "</g>\n",
       "</g>\n",
       "<!-- 2,3&#45;&gt;3,2 -->\n",
       "<g id=\"edge44\" class=\"edge\">\n",
       "<title>2,3&#45;&gt;3,2</title>\n",
       "<g id=\"a_edge44\"><a xlink:title=\"w: 0.06997583600209312&#10;before: 0.0&#10;after: 0.0&#10;&#10;backward pass:&#10;dw: 0.0\">\n",
       "<path fill=\"none\" stroke=\"#ededff\" stroke-width=\".3029\" d=\"M728.0748,-614.2931C768.4817,-563.0652 884.5303,-415.939 924.9306,-364.7195\"/>\n",
       "</a>\n",
       "</g>\n",
       "</g>\n",
       "<!-- 2,3&#45;&gt;3,3 -->\n",
       "<g id=\"edge49\" class=\"edge\">\n",
       "<title>2,3&#45;&gt;3,3</title>\n",
       "<g id=\"a_edge49\"><a xlink:title=\"w: 0.004995345894608716&#10;before: 0.0&#10;after: 0.0&#10;&#10;backward pass:&#10;dw: 0.0\">\n",
       "<path fill=\"none\" stroke=\"#fdfdff\" stroke-width=\".1145\" d=\"M714,-609.2757C714,-555.8641 714,-423.3714 714,-369.8525\"/>\n",
       "</a>\n",
       "</g>\n",
       "</g>\n",
       "<!-- 2,3&#45;&gt;3,4 -->\n",
       "<g id=\"edge54\" class=\"edge\">\n",
       "<title>2,3&#45;&gt;3,4</title>\n",
       "<g id=\"a_edge54\"><a xlink:title=\"w: 0.05865550405019929&#10;before: 0.0&#10;after: 0.0&#10;&#10;backward pass:&#10;dw: 0.0\">\n",
       "<path fill=\"none\" stroke=\"#f0f0ff\" stroke-width=\".2701\" d=\"M699.9252,-614.2931C659.5183,-563.0652 543.4697,-415.939 503.0694,-364.7195\"/>\n",
       "</a>\n",
       "</g>\n",
       "</g>\n",
       "<!-- 2,4&#45;&gt;3,0 -->\n",
       "<g id=\"edge35\" class=\"edge\">\n",
       "<title>2,4&#45;&gt;3,0</title>\n",
       "<g id=\"a_edge35\"><a xlink:title=\"w: 0.0019366957870297075&#10;before: 0.00561686635189832&#10;after: 1.0878161400030398e&#45;05&#10;&#10;backward pass:&#10;dw: 0.0\">\n",
       "<path fill=\"none\" stroke=\"#fefeff\" stroke-width=\".1056\" d=\"M474.9252,-614.2931C434.5183,-563.0652 318.4697,-415.939 278.0694,-364.7195\"/>\n",
       "</a>\n",
       "</g>\n",
       "</g>\n",
       "<!-- 2,4&#45;&gt;3,1 -->\n",
       "<g id=\"edge40\" class=\"edge\">\n",
       "<title>2,4&#45;&gt;3,1</title>\n",
       "<g id=\"a_edge40\"><a xlink:title=\"w: 0.006000270325590804&#10;before: 0.00561686635189832&#10;after: 3.370271649410496e&#45;05&#10;&#10;backward pass:&#10;dw: &#45;7.435550121831233e&#45;07\">\n",
       "<path fill=\"none\" stroke=\"#fdfdff\" stroke-width=\".1174\" d=\"M469.6641,-619.88C395.8119,-573.0652 131.9924,-405.8301 58.2639,-359.0936\"/>\n",
       "</a>\n",
       "</g>\n",
       "</g>\n",
       "<!-- 2,4&#45;&gt;3,2 -->\n",
       "<g id=\"edge45\" class=\"edge\">\n",
       "<title>2,4&#45;&gt;3,2</title>\n",
       "<g id=\"a_edge45\"><a xlink:title=\"w: 0.049553787505045764&#10;before: 0.00561686635189832&#10;after: 0.000278337001646211&#10;&#10;backward pass:&#10;dw: 5.916205101915888e&#45;07\">\n",
       "<path fill=\"none\" stroke=\"#f2f2ff\" stroke-width=\".2437\" d=\"M508.3359,-619.88C582.1881,-573.0652 846.0076,-405.8301 919.7361,-359.0936\"/>\n",
       "</a>\n",
       "</g>\n",
       "</g>\n",
       "<!-- 2,4&#45;&gt;3,3 -->\n",
       "<g id=\"edge50\" class=\"edge\">\n",
       "<title>2,4&#45;&gt;3,3</title>\n",
       "<g id=\"a_edge50\"><a xlink:title=\"w: 0.09830483885512593&#10;before: 0.00561686635189832&#10;after: 0.0005521651415941435&#10;&#10;backward pass:&#10;dw: 6.760813946234899e&#45;07\">\n",
       "<path fill=\"none\" stroke=\"#e5e5ff\" stroke-width=\".3851\" d=\"M503.0748,-614.2931C543.4817,-563.0652 659.5303,-415.939 699.9306,-364.7195\"/>\n",
       "</a>\n",
       "</g>\n",
       "</g>\n",
       "<!-- 2,4&#45;&gt;3,4 -->\n",
       "<g id=\"edge55\" class=\"edge\">\n",
       "<title>2,4&#45;&gt;3,4</title>\n",
       "<g id=\"a_edge55\"><a xlink:title=\"w: 0.10790643867326784&#10;before: 0.00561686635189832&#10;after: 0.0006060960445370577&#10;&#10;backward pass:&#10;dw: &#45;2.289718535062375e&#45;06\">\n",
       "<path fill=\"none\" stroke=\"#e3e3ff\" stroke-width=\".4129\" d=\"M489,-609.2757C489,-555.8641 489,-423.3714 489,-369.8525\"/>\n",
       "</a>\n",
       "</g>\n",
       "</g>\n",
       "<!-- 4,0 -->\n",
       "<g id=\"node17\" class=\"node\">\n",
       "<title>4,0</title>\n",
       "<g id=\"a_node17\"><a xlink:title=\"b: 0.3522654347967397&#10;act_func: linear&#10;i: 0.38559864578208125&#10;o: 0.38559864578208125&#10;&#10;backward pass:&#10;db: &#45;1.8191423360630622e&#45;06&#10;dAcurr: 0.1790527640203628\">\n",
       "<ellipse fill=\"#9c9cff\" stroke=\"#000000\" cx=\"489\" cy=\"-61.6274\" rx=\"22.7556\" ry=\"22.7556\"/>\n",
       "<text text-anchor=\"middle\" x=\"489\" y=\"-57.9274\" font-family=\"Times,serif\" font-size=\"14.00\" fill=\"#9c9cff\">4,0</text>\n",
       "</a>\n",
       "</g>\n",
       "</g>\n",
       "<!-- 3,0&#45;&gt;4,0 -->\n",
       "<g id=\"edge56\" class=\"edge\">\n",
       "<title>3,0&#45;&gt;4,0</title>\n",
       "<g id=\"a_edge56\"><a xlink:title=\"w: 0.07259979853504515&#10;before: 0.0&#10;after: 0.0&#10;&#10;backward pass:&#10;dw: 0.0\">\n",
       "<path fill=\"none\" stroke=\"#ececff\" stroke-width=\".3105\" d=\"M278.0748,-329.0383C318.4817,-277.8104 434.5303,-130.6841 474.9306,-79.4646\"/>\n",
       "</a>\n",
       "</g>\n",
       "</g>\n",
       "<!-- 3,1&#45;&gt;4,0 -->\n",
       "<g id=\"edge57\" class=\"edge\">\n",
       "<title>3,1&#45;&gt;4,0</title>\n",
       "<g id=\"a_edge57\"><a xlink:title=\"w: 0.09497833095665473&#10;before: 0.0&#10;after: 0.0&#10;&#10;backward pass:&#10;dw: &#45;1.2482756078945363e&#45;05\">\n",
       "<path fill=\"none\" stroke=\"#e6e6ff\" stroke-width=\".3754\" d=\"M58.3359,-334.6252C132.1881,-287.8104 396.0076,-120.5753 469.7361,-73.8388\"/>\n",
       "</a>\n",
       "</g>\n",
       "</g>\n",
       "<!-- 3,2&#45;&gt;4,0 -->\n",
       "<g id=\"edge58\" class=\"edge\">\n",
       "<title>3,2&#45;&gt;4,0</title>\n",
       "<g id=\"a_edge58\"><a xlink:title=\"w: 0.5494254946570908&#10;before: 0.025662031819550464&#10;after: 0.014099374526362517&#10;&#10;backward pass:&#10;dw: 4.428157812554484e&#45;06\">\n",
       "<path fill=\"none\" stroke=\"#7272ff\" stroke-width=\"1.6933\" d=\"M919.6641,-334.6252C845.8119,-287.8104 581.9924,-120.5753 508.2639,-73.8388\"/>\n",
       "</a>\n",
       "</g>\n",
       "</g>\n",
       "<!-- 3,3&#45;&gt;4,0 -->\n",
       "<g id=\"edge59\" class=\"edge\">\n",
       "<title>3,3&#45;&gt;4,0</title>\n",
       "<g id=\"a_edge59\"><a xlink:title=\"w: 0.6278625373369495&#10;before: 0.030633833546684378&#10;after: 0.019233836458979015&#10;&#10;backward pass:&#10;dw: 5.079352838429779e&#45;06\">\n",
       "<path fill=\"none\" stroke=\"#5e5eff\" stroke-width=\"1.9208\" d=\"M699.9252,-329.0383C659.5183,-277.8104 543.4697,-130.6841 503.0694,-79.4646\"/>\n",
       "</a>\n",
       "</g>\n",
       "</g>\n",
       "<!-- 3,4&#45;&gt;4,0 -->\n",
       "<g id=\"edge60\" class=\"edge\">\n",
       "<title>3,4&#45;&gt;4,0</title>\n",
       "<g id=\"a_edge60\"><a xlink:title=\"w: 0.29247821782846295&#10;before: 0.0&#10;after: 0.0&#10;&#10;backward pass:&#10;dw: &#45;4.7995344687076045e&#45;05\">\n",
       "<path fill=\"none\" stroke=\"#b4b4ff\" stroke-width=\".9482\" d=\"M489,-324.0208C489,-270.6093 489,-138.1165 489,-84.5977\"/>\n",
       "</a>\n",
       "</g>\n",
       "</g>\n",
       "</g>\n",
       "</svg>\n"
      ],
      "text/plain": [
       "<graphviz.dot.Digraph at 0x7f267ef25520>"
      ]
     },
     "execution_count": 23,
     "metadata": {},
     "output_type": "execute_result"
    }
   ],
   "source": [
    "ann_viz(nn2, caches[-1], weights[-1], biases[-1], grads[-1], sample_id=60, format='svg', view=True)"
   ]
  }
 ],
 "metadata": {
  "kernelspec": {
   "display_name": "Python 3",
   "language": "python",
   "name": "python3"
  },
  "language_info": {
   "codemirror_mode": {
    "name": "ipython",
    "version": 3
   },
   "file_extension": ".py",
   "mimetype": "text/x-python",
   "name": "python",
   "nbconvert_exporter": "python",
   "pygments_lexer": "ipython3",
   "version": "3.8.0"
  }
 },
 "nbformat": 4,
 "nbformat_minor": 4
}
